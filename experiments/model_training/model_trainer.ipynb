{
 "cells": [
  {
   "cell_type": "code",
   "execution_count": 21,
   "metadata": {},
   "outputs": [
    {
     "name": "stdout",
     "output_type": "stream",
     "text": [
      "d:\\vscode_machineLearning\\internship\\Customer-Churn-Prediction\n",
      "d:\\vscode_machineLearning\\internship\\Customer-Churn-Prediction\n"
     ]
    }
   ],
   "source": [
    "import os\n",
    "print(os.getcwd())\n",
    "os.chdir('d:\\\\vscode_machineLearning\\\\internship\\\\Customer-Churn-Prediction')\n",
    "print(os.getcwd())"
   ]
  },
  {
   "cell_type": "code",
   "execution_count": 22,
   "metadata": {},
   "outputs": [],
   "source": [
    "import pandas as pd"
   ]
  },
  {
   "cell_type": "markdown",
   "metadata": {},
   "source": [
    "## Entity"
   ]
  },
  {
   "cell_type": "code",
   "execution_count": 23,
   "metadata": {},
   "outputs": [],
   "source": [
    "from dataclasses import dataclass\n",
    "from pathlib import Path"
   ]
  },
  {
   "cell_type": "code",
   "execution_count": 24,
   "metadata": {},
   "outputs": [],
   "source": [
    "@dataclass(frozen=True)\n",
    "class ModelTrainerConfig:\n",
    "    train_data : Path\n",
    "    test_data : Path\n",
    "    model_dir : Path\n",
    "    y_train_path : Path\n",
    "    y_test_path : Path\n",
    "    model_params_dir : dict"
   ]
  },
  {
   "cell_type": "markdown",
   "metadata": {},
   "source": [
    "## configuration"
   ]
  },
  {
   "cell_type": "code",
   "execution_count": 25,
   "metadata": {},
   "outputs": [],
   "source": [
    "from churnPredictor.constants import *\n",
    "from churnPredictor.utils import *"
   ]
  },
  {
   "cell_type": "code",
   "execution_count": 26,
   "metadata": {},
   "outputs": [],
   "source": [
    "class ConfigurationManager:\n",
    "    def __init__(\n",
    "        self,\n",
    "        config_file_path = CONFIG_FILE_PATH,\n",
    "        schema_file_path = SCHEMA_FILE_PATH,\n",
    "        params_file_path=PARAMS_FILE_PATH):\n",
    "\n",
    "        self.config = read_yaml(config_file_path)\n",
    "        self.schema = read_yaml(schema_file_path)\n",
    "        self.params = read_yaml(params_file_path)\n",
    "\n",
    "        create_dirs([self.config.artifacts_root])\n",
    "        \n",
    "    \n",
    "    def get_modelTrainer_config(self):\n",
    "        config = self.config.model_trainer\n",
    "        params = self.params.models\n",
    "\n",
    "        create_dirs([config.model_dir])\n",
    "        \n",
    "\n",
    "        return ModelTrainerConfig(\n",
    "            train_data=config.train_data,\n",
    "            test_data=config.test_data,\n",
    "            model_dir=config.model_dir,\n",
    "            y_train_path=config.y_train_path,\n",
    "            y_test_path=config.y_test_path,\n",
    "            model_params_dir=params)\n"
   ]
  },
  {
   "cell_type": "markdown",
   "metadata": {},
   "source": [
    "## component"
   ]
  },
  {
   "cell_type": "code",
   "execution_count": 27,
   "metadata": {},
   "outputs": [],
   "source": [
    "from sklearn.ensemble import RandomForestClassifier\n",
    "from sklearn.metrics import confusion_matrix, recall_score, accuracy_score, precision_score, classification_report\n",
    "from xgboost import XGBClassifier\n",
    "from catboost import CatBoostClassifier\n",
    "from sklearn.ensemble import AdaBoostClassifier\n",
    "from sklearn.ensemble import GradientBoostingClassifier"
   ]
  },
  {
   "cell_type": "code",
   "execution_count": 28,
   "metadata": {},
   "outputs": [
    {
     "name": "stdout",
     "output_type": "stream",
     "text": [
      "[2023-09-17 04:50:03,054: INFO: utils: yaml file: params.yaml loaded successfully]\n"
     ]
    },
    {
     "data": {
      "text/plain": [
       "{'n_estimators': 256,\n",
       " 'min_samples_split': 10,\n",
       " 'min_samples_leaf': 2,\n",
       " 'max_features': 'sqrt',\n",
       " 'max_depth': 40,\n",
       " 'criterion': 'entropy',\n",
       " 'oob_score': True}"
      ]
     },
     "execution_count": 28,
     "metadata": {},
     "output_type": "execute_result"
    }
   ],
   "source": [
    "dict(read_yaml(PARAMS_FILE_PATH).randomforest)"
   ]
  },
  {
   "cell_type": "code",
   "execution_count": 29,
   "metadata": {},
   "outputs": [],
   "source": [
    "class ModelTrainer:\n",
    "    def __init__(self,config:ModelTrainerConfig):\n",
    "        self.config = config\n",
    "\n",
    "    def initiate_model_training(self):\n",
    "        config = self.config\n",
    "\n",
    "        # train_df = pd.read_csv(config.train_data)\n",
    "        # test_df = pd.read_csv(config.test_data)\n",
    "\n",
    "        X_train = pd.read_csv(config.train_data)\n",
    "        y_train = pd.read_csv(config.y_train_path)\n",
    "        X_test = pd.read_csv(config.test_data)\n",
    "        y_test = pd.read_csv(config.y_test_path)\n",
    "        print(\"X_train shape:\", X_train.shape)\n",
    "        print(\"y_train shape:\", y_train.shape)\n",
    "        print(\"X_test shape:\", X_test.shape)\n",
    "        print(\"y_test shape:\", y_test.shape)\n",
    "\n",
    "        self.models = {\n",
    "            \"GradientBoostingClassifier\": GradientBoostingClassifier(),\n",
    "            \"XGBoostClassifier\": XGBClassifier(),\n",
    "            \"CatBoostClassifier\": CatBoostClassifier(),\n",
    "            \"AdaBoostClassifier\": AdaBoostClassifier(),\n",
    "            \"RandomForestClassifier\": RandomForestClassifier()\n",
    "        }\n",
    "\n",
    "        trained_models = {}\n",
    "        directory_path = 'artifacts/model'\n",
    "        os.makedirs(directory_path, exist_ok=True)\n",
    "\n",
    "\n",
    "        for model_name in self.models.keys():\n",
    "            model = self.models[model_name]\n",
    "            model.set_params(**dict(config.model_params_dir[model_name]))\n",
    "            model.fit(X_train,y_train.values.ravel())\n",
    "            logger.info(f'the {model} model trained successfully!')\n",
    "            obj_name = model_name.strip('')\n",
    "            obj_name = ''.join(obj_name)\n",
    "\n",
    "            joblib.dump(model,open(file=os.path.join(r'artifacts\\model',f'{obj_name}.joblib'),mode='wb'))\n",
    "\n",
    "            trained_models[model_name] = model\n",
    "        # rfc = RandomForestClassifier(n_estimators=config.n_estimators,oob_score=config.oob_score)\n",
    "\n",
    "        # rfc.fit(X_train,y_train.values.ravel())\n",
    "        # logger.info(f'the {rfc} model trained successfully')\n",
    "        # joblib.dump(rfc,config.model_ojb)\n",
    "\n",
    "        return trained_models , X_test , y_test\n",
    "\n",
    "    def evaluate(self,true,pred):\n",
    "        \n",
    "        cm = confusion_matrix(true, pred)\n",
    "        accuracy = accuracy_score(true, pred)\n",
    "        recall = recall_score(true, pred)\n",
    "        \n",
    "        precision = precision_score(true, pred)\n",
    "        \n",
    "        report = classification_report(true, pred)\n",
    "\n",
    "        evaluation_report = {\n",
    "            'confusion_matrix': cm,\n",
    "            'accuracy': accuracy,\n",
    "            'recall': recall,\n",
    "            'precision': precision,\n",
    "            'classification_report': report\n",
    "        }\n",
    "        logger.info(f'evaluation_report -> {evaluation_report}')\n",
    "        \n",
    "        return evaluation_report\n",
    "    \n",
    "    def train_model(self):\n",
    "        model ,  X_test , y_test = self.initiate_model_training()\n",
    "\n",
    "        # y_pred = model.predict(X_test)\n",
    "        # self.evaluate(y_test,y_pred)\n",
    "        "
   ]
  },
  {
   "cell_type": "markdown",
   "metadata": {},
   "source": [
    "## pipeline"
   ]
  },
  {
   "cell_type": "code",
   "execution_count": 30,
   "metadata": {},
   "outputs": [
    {
     "name": "stdout",
     "output_type": "stream",
     "text": [
      "[2023-09-17 04:50:03,086: INFO: utils: yaml file: config\\config.yaml loaded successfully]\n",
      "[2023-09-17 04:50:03,089: INFO: utils: yaml file: schema.yaml loaded successfully]\n",
      "[2023-09-17 04:50:03,092: INFO: utils: yaml file: params.yaml loaded successfully]\n",
      "[2023-09-17 04:50:03,094: INFO: utils: Created artifacts]\n",
      "[2023-09-17 04:50:03,095: INFO: utils: Created artifacts\\model]\n",
      "X_train shape: (80000, 9)\n",
      "y_train shape: (80000, 1)\n",
      "X_test shape: (20000, 9)\n",
      "y_test shape: (20000, 1)\n",
      "[2023-09-17 04:50:05,482: INFO: 2561447599: the GradientBoostingClassifier(loss='exponential', max_features='log2',\n",
      "                           n_estimators=64, subsample=0.7) model trained successfully!]\n"
     ]
    },
    {
     "name": "stderr",
     "output_type": "stream",
     "text": [
      "d:\\vscode_machineLearning\\internship\\Customer-Churn-Prediction\\churnvenv\\Lib\\site-packages\\xgboost\\data.py:335: FutureWarning: is_sparse is deprecated and will be removed in a future version. Check `isinstance(dtype, pd.SparseDtype)` instead.\n",
      "  if is_sparse(dtype):\n",
      "d:\\vscode_machineLearning\\internship\\Customer-Churn-Prediction\\churnvenv\\Lib\\site-packages\\xgboost\\data.py:338: FutureWarning: is_categorical_dtype is deprecated and will be removed in a future version. Use isinstance(dtype, CategoricalDtype) instead\n",
      "  is_categorical_dtype(dtype) or is_pa_ext_categorical_dtype(dtype)\n",
      "d:\\vscode_machineLearning\\internship\\Customer-Churn-Prediction\\churnvenv\\Lib\\site-packages\\xgboost\\data.py:384: FutureWarning: is_categorical_dtype is deprecated and will be removed in a future version. Use isinstance(dtype, CategoricalDtype) instead\n",
      "  if is_categorical_dtype(dtype):\n",
      "d:\\vscode_machineLearning\\internship\\Customer-Churn-Prediction\\churnvenv\\Lib\\site-packages\\xgboost\\data.py:359: FutureWarning: is_categorical_dtype is deprecated and will be removed in a future version. Use isinstance(dtype, CategoricalDtype) instead\n",
      "  return is_int or is_bool or is_float or is_categorical_dtype(dtype)\n"
     ]
    },
    {
     "name": "stdout",
     "output_type": "stream",
     "text": [
      "[2023-09-17 04:50:05,905: INFO: 2561447599: the XGBClassifier(base_score=None, booster=None, callbacks=None,\n",
      "              colsample_bylevel=None, colsample_bynode=None,\n",
      "              colsample_bytree=None, device=None, early_stopping_rounds=None,\n",
      "              enable_categorical=False, eval_metric=None, feature_types=None,\n",
      "              gamma=None, grow_policy=None, importance_type=None,\n",
      "              interaction_constraints=None, learning_rate=0.1, max_bin=None,\n",
      "              max_cat_threshold=None, max_cat_to_onehot=None,\n",
      "              max_delta_step=None, max_depth=7, max_leaves=None,\n",
      "              min_child_weight=1, missing=nan, monotone_constraints=None,\n",
      "              multi_strategy=None, n_estimators=64, n_jobs=None,\n",
      "              num_parallel_tree=None, random_state=None, ...) model trained successfully!]\n",
      "0:\tlearn: 0.6930206\ttotal: 17.3ms\tremaining: 1.71s\n",
      "1:\tlearn: 0.6928926\ttotal: 33.1ms\tremaining: 1.62s\n",
      "2:\tlearn: 0.6927271\ttotal: 46.6ms\tremaining: 1.51s\n",
      "3:\tlearn: 0.6925552\ttotal: 57.8ms\tremaining: 1.39s\n",
      "4:\tlearn: 0.6923713\ttotal: 67.7ms\tremaining: 1.28s\n",
      "5:\tlearn: 0.6922698\ttotal: 78ms\tremaining: 1.22s\n",
      "6:\tlearn: 0.6921319\ttotal: 88.6ms\tremaining: 1.18s\n",
      "7:\tlearn: 0.6920265\ttotal: 99ms\tremaining: 1.14s\n",
      "8:\tlearn: 0.6918649\ttotal: 110ms\tremaining: 1.11s\n",
      "9:\tlearn: 0.6917699\ttotal: 121ms\tremaining: 1.09s\n",
      "10:\tlearn: 0.6916664\ttotal: 132ms\tremaining: 1.07s\n",
      "11:\tlearn: 0.6915479\ttotal: 145ms\tremaining: 1.06s\n",
      "12:\tlearn: 0.6914154\ttotal: 158ms\tremaining: 1.05s\n",
      "13:\tlearn: 0.6912997\ttotal: 170ms\tremaining: 1.04s\n",
      "14:\tlearn: 0.6911685\ttotal: 182ms\tremaining: 1.03s\n",
      "15:\tlearn: 0.6910535\ttotal: 196ms\tremaining: 1.03s\n",
      "16:\tlearn: 0.6909642\ttotal: 209ms\tremaining: 1.02s\n",
      "17:\tlearn: 0.6908622\ttotal: 221ms\tremaining: 1s\n",
      "18:\tlearn: 0.6907444\ttotal: 231ms\tremaining: 985ms\n",
      "19:\tlearn: 0.6906193\ttotal: 244ms\tremaining: 974ms\n",
      "20:\tlearn: 0.6905215\ttotal: 258ms\tremaining: 970ms\n",
      "21:\tlearn: 0.6904481\ttotal: 271ms\tremaining: 961ms\n",
      "22:\tlearn: 0.6903408\ttotal: 281ms\tremaining: 942ms\n",
      "23:\tlearn: 0.6902573\ttotal: 293ms\tremaining: 929ms\n",
      "24:\tlearn: 0.6901720\ttotal: 306ms\tremaining: 917ms\n",
      "25:\tlearn: 0.6900461\ttotal: 316ms\tremaining: 900ms\n",
      "26:\tlearn: 0.6899417\ttotal: 326ms\tremaining: 881ms\n",
      "27:\tlearn: 0.6898007\ttotal: 337ms\tremaining: 866ms\n",
      "28:\tlearn: 0.6896734\ttotal: 349ms\tremaining: 854ms\n",
      "29:\tlearn: 0.6895394\ttotal: 360ms\tremaining: 840ms\n",
      "30:\tlearn: 0.6894238\ttotal: 373ms\tremaining: 829ms\n",
      "31:\tlearn: 0.6893225\ttotal: 384ms\tremaining: 816ms\n",
      "32:\tlearn: 0.6892161\ttotal: 394ms\tremaining: 800ms\n",
      "33:\tlearn: 0.6891738\ttotal: 405ms\tremaining: 786ms\n",
      "34:\tlearn: 0.6891738\ttotal: 409ms\tremaining: 760ms\n",
      "35:\tlearn: 0.6891003\ttotal: 422ms\tremaining: 750ms\n",
      "36:\tlearn: 0.6890031\ttotal: 435ms\tremaining: 741ms\n",
      "37:\tlearn: 0.6889120\ttotal: 447ms\tremaining: 730ms\n",
      "38:\tlearn: 0.6889087\ttotal: 454ms\tremaining: 710ms\n",
      "39:\tlearn: 0.6888265\ttotal: 466ms\tremaining: 699ms\n",
      "40:\tlearn: 0.6887184\ttotal: 476ms\tremaining: 686ms\n",
      "41:\tlearn: 0.6886313\ttotal: 488ms\tremaining: 674ms\n",
      "42:\tlearn: 0.6885078\ttotal: 499ms\tremaining: 661ms\n",
      "43:\tlearn: 0.6884070\ttotal: 509ms\tremaining: 648ms\n",
      "44:\tlearn: 0.6883182\ttotal: 522ms\tremaining: 638ms\n",
      "45:\tlearn: 0.6882216\ttotal: 536ms\tremaining: 629ms\n",
      "46:\tlearn: 0.6880657\ttotal: 548ms\tremaining: 617ms\n",
      "47:\tlearn: 0.6879466\ttotal: 558ms\tremaining: 604ms\n",
      "48:\tlearn: 0.6878959\ttotal: 568ms\tremaining: 591ms\n",
      "49:\tlearn: 0.6878180\ttotal: 580ms\tremaining: 580ms\n",
      "50:\tlearn: 0.6877156\ttotal: 592ms\tremaining: 569ms\n",
      "51:\tlearn: 0.6876507\ttotal: 603ms\tremaining: 557ms\n",
      "52:\tlearn: 0.6875231\ttotal: 615ms\tremaining: 545ms\n",
      "53:\tlearn: 0.6874206\ttotal: 626ms\tremaining: 533ms\n",
      "54:\tlearn: 0.6873122\ttotal: 637ms\tremaining: 521ms\n",
      "55:\tlearn: 0.6871917\ttotal: 651ms\tremaining: 512ms\n",
      "56:\tlearn: 0.6870922\ttotal: 666ms\tremaining: 502ms\n",
      "57:\tlearn: 0.6869988\ttotal: 679ms\tremaining: 491ms\n",
      "58:\tlearn: 0.6868986\ttotal: 690ms\tremaining: 479ms\n",
      "59:\tlearn: 0.6868249\ttotal: 701ms\tremaining: 467ms\n",
      "60:\tlearn: 0.6867425\ttotal: 715ms\tremaining: 457ms\n",
      "61:\tlearn: 0.6866204\ttotal: 728ms\tremaining: 446ms\n",
      "62:\tlearn: 0.6865064\ttotal: 745ms\tremaining: 438ms\n",
      "63:\tlearn: 0.6863929\ttotal: 760ms\tremaining: 427ms\n",
      "64:\tlearn: 0.6863159\ttotal: 771ms\tremaining: 415ms\n",
      "65:\tlearn: 0.6861808\ttotal: 785ms\tremaining: 405ms\n",
      "66:\tlearn: 0.6861110\ttotal: 796ms\tremaining: 392ms\n",
      "67:\tlearn: 0.6860481\ttotal: 807ms\tremaining: 380ms\n",
      "68:\tlearn: 0.6859382\ttotal: 817ms\tremaining: 367ms\n",
      "69:\tlearn: 0.6858297\ttotal: 827ms\tremaining: 354ms\n",
      "70:\tlearn: 0.6857593\ttotal: 838ms\tremaining: 342ms\n",
      "71:\tlearn: 0.6856544\ttotal: 848ms\tremaining: 330ms\n",
      "72:\tlearn: 0.6855665\ttotal: 863ms\tremaining: 319ms\n",
      "73:\tlearn: 0.6854742\ttotal: 878ms\tremaining: 309ms\n",
      "74:\tlearn: 0.6853857\ttotal: 891ms\tremaining: 297ms\n",
      "75:\tlearn: 0.6853151\ttotal: 902ms\tremaining: 285ms\n",
      "76:\tlearn: 0.6852197\ttotal: 916ms\tremaining: 274ms\n",
      "77:\tlearn: 0.6851373\ttotal: 929ms\tremaining: 262ms\n",
      "78:\tlearn: 0.6850393\ttotal: 941ms\tremaining: 250ms\n",
      "79:\tlearn: 0.6849541\ttotal: 952ms\tremaining: 238ms\n",
      "80:\tlearn: 0.6848916\ttotal: 963ms\tremaining: 226ms\n",
      "81:\tlearn: 0.6848160\ttotal: 975ms\tremaining: 214ms\n",
      "82:\tlearn: 0.6847334\ttotal: 988ms\tremaining: 202ms\n",
      "83:\tlearn: 0.6846481\ttotal: 999ms\tremaining: 190ms\n",
      "84:\tlearn: 0.6846043\ttotal: 1.01s\tremaining: 179ms\n",
      "85:\tlearn: 0.6845574\ttotal: 1.03s\tremaining: 167ms\n",
      "86:\tlearn: 0.6844560\ttotal: 1.04s\tremaining: 155ms\n",
      "87:\tlearn: 0.6843728\ttotal: 1.05s\tremaining: 143ms\n",
      "88:\tlearn: 0.6843129\ttotal: 1.06s\tremaining: 131ms\n",
      "89:\tlearn: 0.6842211\ttotal: 1.07s\tremaining: 119ms\n",
      "90:\tlearn: 0.6841119\ttotal: 1.09s\tremaining: 108ms\n",
      "91:\tlearn: 0.6840412\ttotal: 1.1s\tremaining: 95.7ms\n",
      "92:\tlearn: 0.6839470\ttotal: 1.11s\tremaining: 83.7ms\n",
      "93:\tlearn: 0.6838292\ttotal: 1.12s\tremaining: 71.8ms\n",
      "94:\tlearn: 0.6837220\ttotal: 1.14s\tremaining: 59.8ms\n",
      "95:\tlearn: 0.6836636\ttotal: 1.15s\tremaining: 47.8ms\n",
      "96:\tlearn: 0.6835989\ttotal: 1.16s\tremaining: 35.8ms\n",
      "97:\tlearn: 0.6835262\ttotal: 1.17s\tremaining: 23.9ms\n",
      "98:\tlearn: 0.6834261\ttotal: 1.18s\tremaining: 11.9ms\n",
      "99:\tlearn: 0.6833342\ttotal: 1.19s\tremaining: 0us\n",
      "[2023-09-17 04:50:07,208: INFO: 2561447599: the <catboost.core.CatBoostClassifier object at 0x000002DF350E0990> model trained successfully!]\n",
      "[2023-09-17 04:50:08,224: INFO: 2561447599: the AdaBoostClassifier(learning_rate=0.01, n_estimators=16) model trained successfully!]\n",
      "[2023-09-17 04:51:20,293: INFO: 2561447599: the RandomForestClassifier(criterion='entropy', max_depth=40, min_samples_leaf=2,\n",
      "                       min_samples_split=10, n_estimators=256) model trained successfully!]\n"
     ]
    }
   ],
   "source": [
    "try:\n",
    "    config = ConfigurationManager()\n",
    "    trainer_config = config.get_modelTrainer_config()\n",
    "    model_trainer = ModelTrainer(config=trainer_config)\n",
    "    model_trainer.train_model()\n",
    "except Exception as e:\n",
    "    raise CustomException(e)\n"
   ]
  },
  {
   "cell_type": "code",
   "execution_count": null,
   "metadata": {},
   "outputs": [],
   "source": []
  },
  {
   "cell_type": "code",
   "execution_count": null,
   "metadata": {},
   "outputs": [],
   "source": []
  },
  {
   "cell_type": "code",
   "execution_count": null,
   "metadata": {},
   "outputs": [],
   "source": []
  }
 ],
 "metadata": {
  "kernelspec": {
   "display_name": "Python 3",
   "language": "python",
   "name": "python3"
  },
  "language_info": {
   "codemirror_mode": {
    "name": "ipython",
    "version": 3
   },
   "file_extension": ".py",
   "mimetype": "text/x-python",
   "name": "python",
   "nbconvert_exporter": "python",
   "pygments_lexer": "ipython3",
   "version": "3.11.3"
  },
  "orig_nbformat": 4
 },
 "nbformat": 4,
 "nbformat_minor": 2
}
