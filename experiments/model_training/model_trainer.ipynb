{
 "cells": [
  {
   "cell_type": "code",
   "execution_count": 32,
   "metadata": {},
   "outputs": [
    {
     "name": "stdout",
     "output_type": "stream",
     "text": [
      "d:\\vscode_machineLearning\\internship\\Customer-Churn-Prediction\n",
      "d:\\vscode_machineLearning\\internship\\Customer-Churn-Prediction\n"
     ]
    }
   ],
   "source": [
    "import os\n",
    "print(os.getcwd())\n",
    "os.chdir('d:\\\\vscode_machineLearning\\\\internship\\\\Customer-Churn-Prediction')\n",
    "print(os.getcwd())"
   ]
  },
  {
   "cell_type": "code",
   "execution_count": 33,
   "metadata": {},
   "outputs": [],
   "source": [
    "import pandas as pd"
   ]
  },
  {
   "cell_type": "code",
   "execution_count": 34,
   "metadata": {},
   "outputs": [],
   "source": [
    "train_df = pd.read_csv(r'artifacts/transformed_data/train_transformed.csv')\n",
    "test_df = pd.read_csv(r'artifacts/transformed_data/test_transformed.csv')"
   ]
  },
  {
   "cell_type": "markdown",
   "metadata": {},
   "source": [
    "## Entity"
   ]
  },
  {
   "cell_type": "code",
   "execution_count": 35,
   "metadata": {},
   "outputs": [],
   "source": [
    "from dataclasses import dataclass\n",
    "from pathlib import Path"
   ]
  },
  {
   "cell_type": "code",
   "execution_count": 36,
   "metadata": {},
   "outputs": [],
   "source": [
    "@dataclass(frozen=True)\n",
    "class ModelTrainerConfig:\n",
    "    train_data : Path\n",
    "    test_data : Path\n",
    "    model_dir : Path\n",
    "    model_ojb : str\n",
    "    n_estimators : int\n",
    "    oob_score : bool"
   ]
  },
  {
   "cell_type": "markdown",
   "metadata": {},
   "source": [
    "## configuration"
   ]
  },
  {
   "cell_type": "code",
   "execution_count": 37,
   "metadata": {},
   "outputs": [],
   "source": [
    "from churnPredictor.constants import *\n",
    "from churnPredictor.utils import *"
   ]
  },
  {
   "cell_type": "code",
   "execution_count": 38,
   "metadata": {},
   "outputs": [],
   "source": [
    "class ConfigurationManager:\n",
    "    def __init__(\n",
    "        self,\n",
    "        config_file_path = CONFIG_FILE_PATH,\n",
    "        schema_file_path = SCHEMA_FILE_PATH,\n",
    "        params_file_path=PARAMS_FILE_PATH):\n",
    "\n",
    "        self.config = read_yaml(config_file_path)\n",
    "        self.schema = read_yaml(schema_file_path)\n",
    "        self.params = read_yaml(params_file_path)\n",
    "\n",
    "        create_dirs([self.config.artifacts_root])\n",
    "        \n",
    "    \n",
    "    def get_modelTrainer_config(self):\n",
    "        config = self.config.model_trainer\n",
    "        params = self.params.RandomForest\n",
    "\n",
    "        create_dirs([config.model_dir])\n",
    "        \n",
    "\n",
    "        return ModelTrainerConfig(\n",
    "            train_data=config.train_data,\n",
    "            test_data=config.test_data,\n",
    "            model_dir=config.model_dir,\n",
    "            model_ojb=config.model_obj,\n",
    "            n_estimators=params.n_estimators,\n",
    "            oob_score=params.oob_score)\n"
   ]
  },
  {
   "cell_type": "markdown",
   "metadata": {},
   "source": [
    "## component"
   ]
  },
  {
   "cell_type": "code",
   "execution_count": 39,
   "metadata": {},
   "outputs": [],
   "source": [
    "from sklearn.ensemble import RandomForestClassifier\n",
    "from sklearn.metrics import confusion_matrix, recall_score, accuracy_score, precision_score, classification_report"
   ]
  },
  {
   "cell_type": "code",
   "execution_count": 40,
   "metadata": {},
   "outputs": [],
   "source": [
    "class ModelTrainer:\n",
    "    def __init__(self,config:ModelTrainerConfig):\n",
    "        self.config = config\n",
    "\n",
    "    def initiate_model_training(self):\n",
    "        config = self.config\n",
    "\n",
    "        train_df = pd.read_csv(config.train_data)\n",
    "        test_df = pd.read_csv(config.test_data)\n",
    "\n",
    "        X_train = train_df.drop('Churn',axis=1)\n",
    "        y_train = train_df['Churn']\n",
    "        X_test = test_df.drop('Churn',axis=1)\n",
    "        y_test = test_df['Churn']\n",
    "\n",
    "        rfc = RandomForestClassifier(n_estimators=config.n_estimators,oob_score=config.oob_score)\n",
    "\n",
    "\n",
    "        rfc.fit(X_train,y_train)\n",
    "        logger.info(f'the {rfc} model trained successfully')\n",
    "        joblib.dump(rfc,config.model_ojb)\n",
    "\n",
    "        return rfc , X_test , y_test\n",
    "\n",
    "    def evaluate(self,true,pred):\n",
    "        \n",
    "        cm = confusion_matrix(true, pred)\n",
    "        accuracy = accuracy_score(true, pred)\n",
    "        recall = recall_score(true, pred)\n",
    "        \n",
    "        precision = precision_score(true, pred)\n",
    "        \n",
    "        report = classification_report(true, pred)\n",
    "\n",
    "        evaluation_report = {\n",
    "            'confusion_matrix': cm,\n",
    "            'accuracy': accuracy,\n",
    "            'recall': recall,\n",
    "            'precision': precision,\n",
    "            'classification_report': report\n",
    "        }\n",
    "        logger.info(f'evaluation_report -> {evaluation_report}')\n",
    "        \n",
    "        return evaluation_report\n",
    "    \n",
    "    def train_model(self):\n",
    "        model ,  X_test , y_test = self.initiate_model_training()\n",
    "\n",
    "        # y_pred = model.predict(X_test)\n",
    "        # self.evaluate(y_test,y_pred)\n",
    "        "
   ]
  },
  {
   "cell_type": "markdown",
   "metadata": {},
   "source": [
    "## pipeline"
   ]
  },
  {
   "cell_type": "code",
   "execution_count": 41,
   "metadata": {},
   "outputs": [
    {
     "name": "stdout",
     "output_type": "stream",
     "text": [
      "[2023-09-15 19:24:11,560: INFO: utils: yaml file: config\\config.yaml loaded successfully]\n",
      "[2023-09-15 19:24:11,563: INFO: utils: yaml file: schema.yaml loaded successfully]\n",
      "[2023-09-15 19:24:11,565: INFO: utils: yaml file: params.yaml loaded successfully]\n",
      "[2023-09-15 19:24:11,566: INFO: utils: Created artifacts]\n",
      "[2023-09-15 19:24:11,568: INFO: utils: Created artifacts\\model]\n",
      "[2023-09-15 19:24:39,109: INFO: 1110022211: the RandomForestClassifier(n_estimators=132, oob_score=True) model trained successfully]\n",
      "[2023-09-15 19:24:39,978: INFO: 1110022211: evaluation_report -> {'confusion_matrix': array([[5315, 4797],\n",
      "       [5169, 4719]], dtype=int64), 'accuracy': 0.5017, 'recall': 0.47724514563106796, 'precision': 0.4959016393442623, 'classification_report': '              precision    recall  f1-score   support\\n\\n         0.0       0.51      0.53      0.52     10112\\n         1.0       0.50      0.48      0.49      9888\\n\\n    accuracy                           0.50     20000\\n   macro avg       0.50      0.50      0.50     20000\\nweighted avg       0.50      0.50      0.50     20000\\n'}]\n"
     ]
    }
   ],
   "source": [
    "try:\n",
    "    config = ConfigurationManager()\n",
    "    trainer_config = config.get_modelTrainer_config()\n",
    "    model_trainer = ModelTrainer(config=trainer_config)\n",
    "    model_trainer.train_model()\n",
    "except Exception as e:\n",
    "    raise CustomException(e)\n"
   ]
  },
  {
   "cell_type": "code",
   "execution_count": null,
   "metadata": {},
   "outputs": [],
   "source": []
  },
  {
   "cell_type": "code",
   "execution_count": null,
   "metadata": {},
   "outputs": [],
   "source": []
  },
  {
   "cell_type": "code",
   "execution_count": null,
   "metadata": {},
   "outputs": [],
   "source": []
  }
 ],
 "metadata": {
  "kernelspec": {
   "display_name": "Python 3",
   "language": "python",
   "name": "python3"
  },
  "language_info": {
   "codemirror_mode": {
    "name": "ipython",
    "version": 3
   },
   "file_extension": ".py",
   "mimetype": "text/x-python",
   "name": "python",
   "nbconvert_exporter": "python",
   "pygments_lexer": "ipython3",
   "version": "3.11.3"
  },
  "orig_nbformat": 4
 },
 "nbformat": 4,
 "nbformat_minor": 2
}
