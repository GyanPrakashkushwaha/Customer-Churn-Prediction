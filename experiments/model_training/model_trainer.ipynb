{
 "cells": [
  {
   "cell_type": "code",
   "execution_count": 1,
   "metadata": {},
   "outputs": [
    {
     "name": "stdout",
     "output_type": "stream",
     "text": [
      "d:\\vscode_machineLearning\\internship\\Customer-Churn-Prediction\\experiments\\model_training\n",
      "d:\\vscode_machineLearning\\internship\\Customer-Churn-Prediction\n"
     ]
    }
   ],
   "source": [
    "import os\n",
    "print(os.getcwd())\n",
    "os.chdir('d:\\\\vscode_machineLearning\\\\internship\\\\Customer-Churn-Prediction')\n",
    "print(os.getcwd())"
   ]
  },
  {
   "cell_type": "code",
   "execution_count": 2,
   "metadata": {},
   "outputs": [],
   "source": [
    "import pandas as pd"
   ]
  },
  {
   "cell_type": "code",
   "execution_count": 3,
   "metadata": {},
   "outputs": [],
   "source": [
    "train_df = pd.read_csv(r'artifacts/transformed_data/train_transformed.csv')\n",
    "test_df = pd.read_csv(r'artifacts/transformed_data/test_transformed.csv')"
   ]
  },
  {
   "cell_type": "markdown",
   "metadata": {},
   "source": [
    "## Entity"
   ]
  },
  {
   "cell_type": "code",
   "execution_count": 4,
   "metadata": {},
   "outputs": [],
   "source": [
    "from dataclasses import dataclass\n",
    "from pathlib import Path"
   ]
  },
  {
   "cell_type": "code",
   "execution_count": 5,
   "metadata": {},
   "outputs": [],
   "source": [
    "@dataclass(frozen=True)\n",
    "class ModelTrainerConfig:\n",
    "    train_data : Path\n",
    "    test_data : Path\n",
    "    model_dir : Path\n",
    "    model_ojb : str\n",
    "    n_estimators : int\n",
    "    oob_score : bool"
   ]
  },
  {
   "cell_type": "markdown",
   "metadata": {},
   "source": [
    "## configuration"
   ]
  },
  {
   "cell_type": "code",
   "execution_count": 6,
   "metadata": {},
   "outputs": [],
   "source": [
    "from churnPredictor.constants import *\n",
    "from churnPredictor.utils import *"
   ]
  },
  {
   "cell_type": "code",
   "execution_count": 7,
   "metadata": {},
   "outputs": [],
   "source": [
    "class ConfigurationManager:\n",
    "    def __init__(\n",
    "        self,\n",
    "        config_file_path = CONFIG_FILE_PATH,\n",
    "        schema_file_path = SCHEMA_FILE_PATH,\n",
    "        params_file_path=PARAMS_FILE_PATH):\n",
    "\n",
    "        self.config = read_yaml(config_file_path)\n",
    "        self.schema = read_yaml(schema_file_path)\n",
    "        self.params = read_yaml(params_file_path)\n",
    "\n",
    "        create_dirs([self.config.artifacts_root])\n",
    "        \n",
    "    \n",
    "    def get_modelTrainer_config(self):\n",
    "        config = self.config.model_trainer\n",
    "        params = self.params.RandomForest\n",
    "\n",
    "        create_dirs([config.model_dir])\n",
    "        \n",
    "\n",
    "        return ModelTrainerConfig(\n",
    "            train_data=config.train_data,\n",
    "            test_data=config.test_data,\n",
    "            model_dir=config.model_dir,\n",
    "            model_ojb=config.model_obj,\n",
    "            n_estimators=params.n_estimators,\n",
    "            oob_score=params.oob_score)\n"
   ]
  },
  {
   "cell_type": "markdown",
   "metadata": {},
   "source": [
    "## component"
   ]
  },
  {
   "cell_type": "code",
   "execution_count": 8,
   "metadata": {},
   "outputs": [],
   "source": [
    "from sklearn.ensemble import RandomForestClassifier\n",
    "from sklearn.metrics import confusion_matrix, recall_score, accuracy_score, precision_score, classification_report"
   ]
  },
  {
   "cell_type": "code",
   "execution_count": 9,
   "metadata": {},
   "outputs": [],
   "source": [
    "class ModelTrainer:\n",
    "    def __init__(self,config:ModelTrainerConfig):\n",
    "        self.config = config\n",
    "\n",
    "    def initiate_model_training(self):\n",
    "        config = self.config\n",
    "\n",
    "        train_df = pd.read_csv(config.train_data)\n",
    "        test_df = pd.read_csv(config.test_data)\n",
    "\n",
    "        X_train = train_df.drop('Churn',axis=1)\n",
    "        y_train = train_df['Churn']\n",
    "        X_test = test_df.drop('Churn',axis=1)\n",
    "        y_test = test_df['Churn']\n",
    "\n",
    "        rfc = RandomForestClassifier(n_estimators=config.n_estimators,oob_score=config.oob_score)\n",
    "\n",
    "\n",
    "        rfc.fit(X_train,y_train)\n",
    "        logger.info(f'the {rfc} model trained successfully')\n",
    "        joblib.dump(rfc,config.model_ojb)\n",
    "\n",
    "        return rfc , X_test , y_test\n",
    "\n",
    "    def evaluate(self,true,pred):\n",
    "        \n",
    "        cm = confusion_matrix(true, pred)\n",
    "        accuracy = accuracy_score(true, pred)\n",
    "        recall = recall_score(true, pred)\n",
    "        \n",
    "        precision = precision_score(true, pred)\n",
    "        \n",
    "        report = classification_report(true, pred)\n",
    "\n",
    "        evaluation_report = {\n",
    "            'confusion_matrix': cm,\n",
    "            'accuracy': accuracy,\n",
    "            'recall': recall,\n",
    "            'precision': precision,\n",
    "            'classification_report': report\n",
    "        }\n",
    "        logger.info(f'evaluation_report -> {evaluation_report}')\n",
    "        \n",
    "        return evaluation_report\n",
    "    \n",
    "    def train_model(self):\n",
    "        model ,  X_test , y_test = self.initiate_model_training()\n",
    "\n",
    "        # y_pred = model.predict(X_test)\n",
    "        # self.evaluate(y_test,y_pred)\n",
    "        "
   ]
  },
  {
   "cell_type": "markdown",
   "metadata": {},
   "source": [
    "## pipeline"
   ]
  },
  {
   "cell_type": "code",
   "execution_count": 10,
   "metadata": {},
   "outputs": [
    {
     "name": "stdout",
     "output_type": "stream",
     "text": [
      "[2023-09-16 12:59:25,472: INFO: utils: yaml file: config\\config.yaml loaded successfully]\n",
      "[2023-09-16 12:59:25,477: INFO: utils: yaml file: schema.yaml loaded successfully]\n",
      "[2023-09-16 12:59:25,480: INFO: utils: yaml file: params.yaml loaded successfully]\n",
      "[2023-09-16 12:59:25,482: INFO: utils: Created artifacts]\n",
      "[2023-09-16 12:59:25,484: INFO: utils: Created artifacts\\model]\n"
     ]
    },
    {
     "ename": "CustomException",
     "evalue": "Error occured in python script name [C:\\Users\\Gyanprakash\\AppData\\Local\\Temp\\ipykernel_5408\\1690227895.py] line number [5] error message [\"['Churn'] not found in axis\"]",
     "output_type": "error",
     "traceback": [
      "\u001b[1;31m---------------------------------------------------------------------------\u001b[0m",
      "\u001b[1;31mKeyError\u001b[0m                                  Traceback (most recent call last)",
      "\u001b[1;32md:\\vscode_machineLearning\\internship\\Customer-Churn-Prediction\\experiments\\model_training\\model_trainer.ipynb Cell 14\u001b[0m line \u001b[0;36m5\n\u001b[0;32m      <a href='vscode-notebook-cell:/d%3A/vscode_machineLearning/internship/Customer-Churn-Prediction/experiments/model_training/model_trainer.ipynb#X16sZmlsZQ%3D%3D?line=3'>4</a>\u001b[0m     model_trainer \u001b[39m=\u001b[39m ModelTrainer(config\u001b[39m=\u001b[39mtrainer_config)\n\u001b[1;32m----> <a href='vscode-notebook-cell:/d%3A/vscode_machineLearning/internship/Customer-Churn-Prediction/experiments/model_training/model_trainer.ipynb#X16sZmlsZQ%3D%3D?line=4'>5</a>\u001b[0m     model_trainer\u001b[39m.\u001b[39;49mtrain_model()\n\u001b[0;32m      <a href='vscode-notebook-cell:/d%3A/vscode_machineLearning/internship/Customer-Churn-Prediction/experiments/model_training/model_trainer.ipynb#X16sZmlsZQ%3D%3D?line=5'>6</a>\u001b[0m \u001b[39mexcept\u001b[39;00m \u001b[39mException\u001b[39;00m \u001b[39mas\u001b[39;00m e:\n",
      "\u001b[1;32md:\\vscode_machineLearning\\internship\\Customer-Churn-Prediction\\experiments\\model_training\\model_trainer.ipynb Cell 14\u001b[0m line \u001b[0;36m4\n\u001b[0;32m     <a href='vscode-notebook-cell:/d%3A/vscode_machineLearning/internship/Customer-Churn-Prediction/experiments/model_training/model_trainer.ipynb#X16sZmlsZQ%3D%3D?line=45'>46</a>\u001b[0m \u001b[39mdef\u001b[39;00m \u001b[39mtrain_model\u001b[39m(\u001b[39mself\u001b[39m):\n\u001b[1;32m---> <a href='vscode-notebook-cell:/d%3A/vscode_machineLearning/internship/Customer-Churn-Prediction/experiments/model_training/model_trainer.ipynb#X16sZmlsZQ%3D%3D?line=46'>47</a>\u001b[0m     model ,  X_test , y_test \u001b[39m=\u001b[39m \u001b[39mself\u001b[39;49m\u001b[39m.\u001b[39;49minitiate_model_training()\n",
      "\u001b[1;32md:\\vscode_machineLearning\\internship\\Customer-Churn-Prediction\\experiments\\model_training\\model_trainer.ipynb Cell 14\u001b[0m line \u001b[0;36m1\n\u001b[0;32m      <a href='vscode-notebook-cell:/d%3A/vscode_machineLearning/internship/Customer-Churn-Prediction/experiments/model_training/model_trainer.ipynb#X16sZmlsZQ%3D%3D?line=8'>9</a>\u001b[0m test_df \u001b[39m=\u001b[39m pd\u001b[39m.\u001b[39mread_csv(config\u001b[39m.\u001b[39mtest_data)\n\u001b[1;32m---> <a href='vscode-notebook-cell:/d%3A/vscode_machineLearning/internship/Customer-Churn-Prediction/experiments/model_training/model_trainer.ipynb#X16sZmlsZQ%3D%3D?line=10'>11</a>\u001b[0m X_train \u001b[39m=\u001b[39m train_df\u001b[39m.\u001b[39;49mdrop(\u001b[39m'\u001b[39;49m\u001b[39mChurn\u001b[39;49m\u001b[39m'\u001b[39;49m,axis\u001b[39m=\u001b[39;49m\u001b[39m1\u001b[39;49m)\n\u001b[0;32m     <a href='vscode-notebook-cell:/d%3A/vscode_machineLearning/internship/Customer-Churn-Prediction/experiments/model_training/model_trainer.ipynb#X16sZmlsZQ%3D%3D?line=11'>12</a>\u001b[0m y_train \u001b[39m=\u001b[39m train_df[\u001b[39m'\u001b[39m\u001b[39mChurn\u001b[39m\u001b[39m'\u001b[39m]\n",
      "File \u001b[1;32mc:\\Users\\Gyanprakash\\AppData\\Local\\Programs\\Python\\Python311\\Lib\\site-packages\\pandas\\core\\frame.py:5266\u001b[0m, in \u001b[0;36mDataFrame.drop\u001b[1;34m(self, labels, axis, index, columns, level, inplace, errors)\u001b[0m\n\u001b[0;32m   5129\u001b[0m \u001b[39m\u001b[39m\u001b[39m\"\"\"\u001b[39;00m\n\u001b[0;32m   5130\u001b[0m \u001b[39mDrop specified labels from rows or columns.\u001b[39;00m\n\u001b[0;32m   5131\u001b[0m \n\u001b[1;32m   (...)\u001b[0m\n\u001b[0;32m   5264\u001b[0m \u001b[39m        weight  1.0     0.8\u001b[39;00m\n\u001b[0;32m   5265\u001b[0m \u001b[39m\"\"\"\u001b[39;00m\n\u001b[1;32m-> 5266\u001b[0m \u001b[39mreturn\u001b[39;00m \u001b[39msuper\u001b[39;49m()\u001b[39m.\u001b[39;49mdrop(\n\u001b[0;32m   5267\u001b[0m     labels\u001b[39m=\u001b[39;49mlabels,\n\u001b[0;32m   5268\u001b[0m     axis\u001b[39m=\u001b[39;49maxis,\n\u001b[0;32m   5269\u001b[0m     index\u001b[39m=\u001b[39;49mindex,\n\u001b[0;32m   5270\u001b[0m     columns\u001b[39m=\u001b[39;49mcolumns,\n\u001b[0;32m   5271\u001b[0m     level\u001b[39m=\u001b[39;49mlevel,\n\u001b[0;32m   5272\u001b[0m     inplace\u001b[39m=\u001b[39;49minplace,\n\u001b[0;32m   5273\u001b[0m     errors\u001b[39m=\u001b[39;49merrors,\n\u001b[0;32m   5274\u001b[0m )\n",
      "File \u001b[1;32mc:\\Users\\Gyanprakash\\AppData\\Local\\Programs\\Python\\Python311\\Lib\\site-packages\\pandas\\core\\generic.py:4549\u001b[0m, in \u001b[0;36mNDFrame.drop\u001b[1;34m(self, labels, axis, index, columns, level, inplace, errors)\u001b[0m\n\u001b[0;32m   4548\u001b[0m     \u001b[39mif\u001b[39;00m labels \u001b[39mis\u001b[39;00m \u001b[39mnot\u001b[39;00m \u001b[39mNone\u001b[39;00m:\n\u001b[1;32m-> 4549\u001b[0m         obj \u001b[39m=\u001b[39m obj\u001b[39m.\u001b[39;49m_drop_axis(labels, axis, level\u001b[39m=\u001b[39;49mlevel, errors\u001b[39m=\u001b[39;49merrors)\n\u001b[0;32m   4551\u001b[0m \u001b[39mif\u001b[39;00m inplace:\n",
      "File \u001b[1;32mc:\\Users\\Gyanprakash\\AppData\\Local\\Programs\\Python\\Python311\\Lib\\site-packages\\pandas\\core\\generic.py:4591\u001b[0m, in \u001b[0;36mNDFrame._drop_axis\u001b[1;34m(self, labels, axis, level, errors, only_slice)\u001b[0m\n\u001b[0;32m   4590\u001b[0m \u001b[39melse\u001b[39;00m:\n\u001b[1;32m-> 4591\u001b[0m     new_axis \u001b[39m=\u001b[39m axis\u001b[39m.\u001b[39;49mdrop(labels, errors\u001b[39m=\u001b[39;49merrors)\n\u001b[0;32m   4592\u001b[0m indexer \u001b[39m=\u001b[39m axis\u001b[39m.\u001b[39mget_indexer(new_axis)\n",
      "File \u001b[1;32mc:\\Users\\Gyanprakash\\AppData\\Local\\Programs\\Python\\Python311\\Lib\\site-packages\\pandas\\core\\indexes\\base.py:6696\u001b[0m, in \u001b[0;36mIndex.drop\u001b[1;34m(self, labels, errors)\u001b[0m\n\u001b[0;32m   6695\u001b[0m \u001b[39mif\u001b[39;00m errors \u001b[39m!=\u001b[39m \u001b[39m\"\u001b[39m\u001b[39mignore\u001b[39m\u001b[39m\"\u001b[39m:\n\u001b[1;32m-> 6696\u001b[0m     \u001b[39mraise\u001b[39;00m \u001b[39mKeyError\u001b[39;00m(\u001b[39mf\u001b[39m\u001b[39m\"\u001b[39m\u001b[39m{\u001b[39;00m\u001b[39mlist\u001b[39m(labels[mask])\u001b[39m}\u001b[39;00m\u001b[39m not found in axis\u001b[39m\u001b[39m\"\u001b[39m)\n\u001b[0;32m   6697\u001b[0m indexer \u001b[39m=\u001b[39m indexer[\u001b[39m~\u001b[39mmask]\n",
      "\u001b[1;31mKeyError\u001b[0m: \"['Churn'] not found in axis\"",
      "\nDuring handling of the above exception, another exception occurred:\n",
      "\u001b[1;31mCustomException\u001b[0m                           Traceback (most recent call last)",
      "\u001b[1;32md:\\vscode_machineLearning\\internship\\Customer-Churn-Prediction\\experiments\\model_training\\model_trainer.ipynb Cell 14\u001b[0m line \u001b[0;36m7\n\u001b[0;32m      <a href='vscode-notebook-cell:/d%3A/vscode_machineLearning/internship/Customer-Churn-Prediction/experiments/model_training/model_trainer.ipynb#X16sZmlsZQ%3D%3D?line=4'>5</a>\u001b[0m     model_trainer\u001b[39m.\u001b[39mtrain_model()\n\u001b[0;32m      <a href='vscode-notebook-cell:/d%3A/vscode_machineLearning/internship/Customer-Churn-Prediction/experiments/model_training/model_trainer.ipynb#X16sZmlsZQ%3D%3D?line=5'>6</a>\u001b[0m \u001b[39mexcept\u001b[39;00m \u001b[39mException\u001b[39;00m \u001b[39mas\u001b[39;00m e:\n\u001b[1;32m----> <a href='vscode-notebook-cell:/d%3A/vscode_machineLearning/internship/Customer-Churn-Prediction/experiments/model_training/model_trainer.ipynb#X16sZmlsZQ%3D%3D?line=6'>7</a>\u001b[0m     \u001b[39mraise\u001b[39;00m CustomException(e)\n",
      "\u001b[1;31mCustomException\u001b[0m: Error occured in python script name [C:\\Users\\Gyanprakash\\AppData\\Local\\Temp\\ipykernel_5408\\1690227895.py] line number [5] error message [\"['Churn'] not found in axis\"]"
     ]
    }
   ],
   "source": [
    "try:\n",
    "    config = ConfigurationManager()\n",
    "    trainer_config = config.get_modelTrainer_config()\n",
    "    model_trainer = ModelTrainer(config=trainer_config)\n",
    "    model_trainer.train_model()\n",
    "except Exception as e:\n",
    "    raise CustomException(e)\n"
   ]
  },
  {
   "cell_type": "code",
   "execution_count": null,
   "metadata": {},
   "outputs": [],
   "source": []
  },
  {
   "cell_type": "code",
   "execution_count": null,
   "metadata": {},
   "outputs": [],
   "source": []
  },
  {
   "cell_type": "code",
   "execution_count": null,
   "metadata": {},
   "outputs": [],
   "source": []
  }
 ],
 "metadata": {
  "kernelspec": {
   "display_name": "Python 3",
   "language": "python",
   "name": "python3"
  },
  "language_info": {
   "codemirror_mode": {
    "name": "ipython",
    "version": 3
   },
   "file_extension": ".py",
   "mimetype": "text/x-python",
   "name": "python",
   "nbconvert_exporter": "python",
   "pygments_lexer": "ipython3",
   "version": "3.11.3"
  },
  "orig_nbformat": 4
 },
 "nbformat": 4,
 "nbformat_minor": 2
}
