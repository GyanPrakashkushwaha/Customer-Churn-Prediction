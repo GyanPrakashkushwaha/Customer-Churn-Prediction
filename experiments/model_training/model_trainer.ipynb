{
 "cells": [
  {
   "cell_type": "code",
   "execution_count": 182,
   "metadata": {},
   "outputs": [
    {
     "name": "stdout",
     "output_type": "stream",
     "text": [
      "d:\\vscode_machineLearning\\internship\\Customer-Churn-Prediction\n",
      "d:\\vscode_machineLearning\\internship\\Customer-Churn-Prediction\n"
     ]
    }
   ],
   "source": [
    "import os\n",
    "print(os.getcwd())\n",
    "os.chdir('d:\\\\vscode_machineLearning\\\\internship\\\\Customer-Churn-Prediction')\n",
    "print(os.getcwd())"
   ]
  },
  {
   "cell_type": "code",
   "execution_count": 183,
   "metadata": {},
   "outputs": [],
   "source": [
    "import pandas as pd"
   ]
  },
  {
   "cell_type": "markdown",
   "metadata": {},
   "source": [
    "## Entity"
   ]
  },
  {
   "cell_type": "code",
   "execution_count": 184,
   "metadata": {},
   "outputs": [],
   "source": [
    "from dataclasses import dataclass\n",
    "from pathlib import Path"
   ]
  },
  {
   "cell_type": "code",
   "execution_count": 185,
   "metadata": {},
   "outputs": [],
   "source": [
    "@dataclass(frozen=True)\n",
    "class ModelTrainerConfig:\n",
    "    train_data : Path\n",
    "    test_data : Path\n",
    "    model_dir : Path\n",
    "    y_train_path : Path\n",
    "    y_test_path : Path\n",
    "    model_params_dir : dict"
   ]
  },
  {
   "cell_type": "markdown",
   "metadata": {},
   "source": [
    "## configuration"
   ]
  },
  {
   "cell_type": "code",
   "execution_count": 186,
   "metadata": {},
   "outputs": [],
   "source": [
    "from churnPredictor.constants import *\n",
    "from churnPredictor.utils import *"
   ]
  },
  {
   "cell_type": "code",
   "execution_count": 187,
   "metadata": {},
   "outputs": [],
   "source": [
    "class ConfigurationManager:\n",
    "    def __init__(\n",
    "        self,\n",
    "        config_file_path = CONFIG_FILE_PATH,\n",
    "        schema_file_path = SCHEMA_FILE_PATH,\n",
    "        params_file_path=PARAMS_FILE_PATH):\n",
    "\n",
    "        self.config = read_yaml(config_file_path)\n",
    "        self.schema = read_yaml(schema_file_path)\n",
    "        self.params = read_yaml(params_file_path)\n",
    "\n",
    "        create_dirs([self.config.artifacts_root])\n",
    "        \n",
    "    \n",
    "    def get_modelTrainer_config(self):\n",
    "        config = self.config.model_trainer\n",
    "        params = self.params.models\n",
    "\n",
    "        create_dirs([config.model_dir])\n",
    "        \n",
    "\n",
    "        return ModelTrainerConfig(\n",
    "            train_data=config.train_data,\n",
    "            test_data=config.test_data,\n",
    "            model_dir=config.model_dir,\n",
    "            y_train_path=config.y_train_path,\n",
    "            y_test_path=config.y_test_path,\n",
    "            model_params_dir=params)\n"
   ]
  },
  {
   "cell_type": "markdown",
   "metadata": {},
   "source": [
    "## component"
   ]
  },
  {
   "cell_type": "code",
   "execution_count": 188,
   "metadata": {},
   "outputs": [],
   "source": [
    "from sklearn.ensemble import RandomForestClassifier\n",
    "from sklearn.metrics import confusion_matrix, recall_score, accuracy_score, precision_score, classification_report\n",
    "from xgboost import XGBClassifier\n",
    "from catboost import CatBoostClassifier\n",
    "from sklearn.ensemble import AdaBoostClassifier\n",
    "from sklearn.ensemble import GradientBoostingClassifier"
   ]
  },
  {
   "cell_type": "code",
   "execution_count": 189,
   "metadata": {},
   "outputs": [
    {
     "name": "stdout",
     "output_type": "stream",
     "text": [
      "[2023-09-17 04:25:47,789: INFO: utils: yaml file: params.yaml loaded successfully]\n"
     ]
    },
    {
     "data": {
      "text/plain": [
       "{'n_estimators': 256,\n",
       " 'min_samples_split': 10,\n",
       " 'min_samples_leaf': 2,\n",
       " 'max_features': 'sqrt',\n",
       " 'max_depth': 40,\n",
       " 'criterion': 'entropy',\n",
       " 'oob_score': True}"
      ]
     },
     "execution_count": 189,
     "metadata": {},
     "output_type": "execute_result"
    }
   ],
   "source": [
    "dict(read_yaml(PARAMS_FILE_PATH).randomforest)"
   ]
  },
  {
   "cell_type": "code",
   "execution_count": 190,
   "metadata": {},
   "outputs": [],
   "source": [
    "class ModelTrainer:\n",
    "    def __init__(self,config:ModelTrainerConfig):\n",
    "        self.config = config\n",
    "\n",
    "    def initiate_model_training(self):\n",
    "        config = self.config\n",
    "\n",
    "        # train_df = pd.read_csv(config.train_data)\n",
    "        # test_df = pd.read_csv(config.test_data)\n",
    "\n",
    "        X_train = pd.read_csv(config.train_data)\n",
    "        y_train = pd.read_csv(config.y_train_path)\n",
    "        X_test = pd.read_csv(config.test_data)\n",
    "        y_test = pd.read_csv(config.y_test_path)\n",
    "        print(\"X_train shape:\", X_train.shape)\n",
    "        print(\"y_train shape:\", y_train.shape)\n",
    "        print(\"X_test shape:\", X_test.shape)\n",
    "        print(\"y_test shape:\", y_test.shape)\n",
    "\n",
    "        self.models = {\n",
    "            \"Gradient Boosting Classifier\": GradientBoostingClassifier(),\n",
    "            \"XGBoost Classifier\": XGBClassifier(),\n",
    "            \"CatBoost Classifier\": CatBoostClassifier(),\n",
    "            \"AdaBoost Classifier\": AdaBoostClassifier(),\n",
    "            \"Random Forest Classifier\": RandomForestClassifier()\n",
    "        }\n",
    "\n",
    "        trained_models = {}\n",
    "        directory_path = 'artifacts/model'\n",
    "        os.makedirs(directory_path, exist_ok=True)\n",
    "\n",
    "\n",
    "        for model_name in self.models.keys():\n",
    "            model = self.models[model_name]\n",
    "            model.set_params(**dict(config.model_params_dir[model_name]))\n",
    "            model.fit(X_train,y_train.values.ravel())\n",
    "            logger.info(f'the {model} model trained successfully!')\n",
    "            obj_name = model_name.strip('')\n",
    "            obj_name = ''.join(obj_name)\n",
    "\n",
    "            joblib.dump(model,open(file=os.path.join(r'artifacts\\model',f'{obj_name}.joblib'),mode='wb'))\n",
    "\n",
    "            trained_models[model_name] = model\n",
    "        # rfc = RandomForestClassifier(n_estimators=config.n_estimators,oob_score=config.oob_score)\n",
    "\n",
    "        # rfc.fit(X_train,y_train.values.ravel())\n",
    "        # logger.info(f'the {rfc} model trained successfully')\n",
    "        # joblib.dump(rfc,config.model_ojb)\n",
    "\n",
    "        return trained_models , X_test , y_test\n",
    "\n",
    "    def evaluate(self,true,pred):\n",
    "        \n",
    "        cm = confusion_matrix(true, pred)\n",
    "        accuracy = accuracy_score(true, pred)\n",
    "        recall = recall_score(true, pred)\n",
    "        \n",
    "        precision = precision_score(true, pred)\n",
    "        \n",
    "        report = classification_report(true, pred)\n",
    "\n",
    "        evaluation_report = {\n",
    "            'confusion_matrix': cm,\n",
    "            'accuracy': accuracy,\n",
    "            'recall': recall,\n",
    "            'precision': precision,\n",
    "            'classification_report': report\n",
    "        }\n",
    "        logger.info(f'evaluation_report -> {evaluation_report}')\n",
    "        \n",
    "        return evaluation_report\n",
    "    \n",
    "    def train_model(self):\n",
    "        model ,  X_test , y_test = self.initiate_model_training()\n",
    "\n",
    "        # y_pred = model.predict(X_test)\n",
    "        # self.evaluate(y_test,y_pred)\n",
    "        "
   ]
  },
  {
   "cell_type": "markdown",
   "metadata": {},
   "source": [
    "## pipeline"
   ]
  },
  {
   "cell_type": "code",
   "execution_count": 191,
   "metadata": {},
   "outputs": [
    {
     "name": "stdout",
     "output_type": "stream",
     "text": [
      "[2023-09-17 04:25:47,827: INFO: utils: yaml file: config\\config.yaml loaded successfully]\n",
      "[2023-09-17 04:25:47,829: INFO: utils: yaml file: schema.yaml loaded successfully]\n",
      "[2023-09-17 04:25:47,833: INFO: utils: yaml file: params.yaml loaded successfully]\n",
      "[2023-09-17 04:25:47,835: INFO: utils: Created artifacts]\n",
      "[2023-09-17 04:25:47,837: INFO: utils: Created artifacts\\model]\n",
      "X_train shape: (80000, 9)\n",
      "y_train shape: (80000, 1)\n",
      "X_test shape: (20000, 9)\n",
      "y_test shape: (20000, 1)\n"
     ]
    },
    {
     "name": "stdout",
     "output_type": "stream",
     "text": [
      "[2023-09-17 04:25:50,297: INFO: 3767701505: the GradientBoostingClassifier(loss='exponential', max_features='log2',\n",
      "                           n_estimators=64, subsample=0.7) model trained successfully!]\n"
     ]
    },
    {
     "name": "stderr",
     "output_type": "stream",
     "text": [
      "d:\\vscode_machineLearning\\internship\\Customer-Churn-Prediction\\churnvenv\\Lib\\site-packages\\xgboost\\data.py:335: FutureWarning: is_sparse is deprecated and will be removed in a future version. Check `isinstance(dtype, pd.SparseDtype)` instead.\n",
      "  if is_sparse(dtype):\n",
      "d:\\vscode_machineLearning\\internship\\Customer-Churn-Prediction\\churnvenv\\Lib\\site-packages\\xgboost\\data.py:338: FutureWarning: is_categorical_dtype is deprecated and will be removed in a future version. Use isinstance(dtype, CategoricalDtype) instead\n",
      "  is_categorical_dtype(dtype) or is_pa_ext_categorical_dtype(dtype)\n",
      "d:\\vscode_machineLearning\\internship\\Customer-Churn-Prediction\\churnvenv\\Lib\\site-packages\\xgboost\\data.py:384: FutureWarning: is_categorical_dtype is deprecated and will be removed in a future version. Use isinstance(dtype, CategoricalDtype) instead\n",
      "  if is_categorical_dtype(dtype):\n",
      "d:\\vscode_machineLearning\\internship\\Customer-Churn-Prediction\\churnvenv\\Lib\\site-packages\\xgboost\\data.py:359: FutureWarning: is_categorical_dtype is deprecated and will be removed in a future version. Use isinstance(dtype, CategoricalDtype) instead\n",
      "  return is_int or is_bool or is_float or is_categorical_dtype(dtype)\n"
     ]
    },
    {
     "name": "stdout",
     "output_type": "stream",
     "text": [
      "[2023-09-17 04:25:50,664: INFO: 3767701505: the XGBClassifier(base_score=None, booster=None, callbacks=None,\n",
      "              colsample_bylevel=None, colsample_bynode=None,\n",
      "              colsample_bytree=None, device=None, early_stopping_rounds=None,\n",
      "              enable_categorical=False, eval_metric=None, feature_types=None,\n",
      "              gamma=None, grow_policy=None, importance_type=None,\n",
      "              interaction_constraints=None, learning_rate=0.1, max_bin=None,\n",
      "              max_cat_threshold=None, max_cat_to_onehot=None,\n",
      "              max_delta_step=None, max_depth=7, max_leaves=None,\n",
      "              min_child_weight=1, missing=nan, monotone_constraints=None,\n",
      "              multi_strategy=None, n_estimators=64, n_jobs=None,\n",
      "              num_parallel_tree=None, random_state=None, ...) model trained successfully!]\n",
      "0:\tlearn: 0.6930206\ttotal: 12.9ms\tremaining: 1.27s\n",
      "1:\tlearn: 0.6928926\ttotal: 25ms\tremaining: 1.22s\n",
      "2:\tlearn: 0.6927271\ttotal: 35.4ms\tremaining: 1.15s\n",
      "3:\tlearn: 0.6925552\ttotal: 46.8ms\tremaining: 1.12s\n",
      "4:\tlearn: 0.6923713\ttotal: 58.8ms\tremaining: 1.12s\n",
      "5:\tlearn: 0.6922698\ttotal: 67.8ms\tremaining: 1.06s\n",
      "6:\tlearn: 0.6921319\ttotal: 80.4ms\tremaining: 1.07s\n",
      "7:\tlearn: 0.6920265\ttotal: 92.1ms\tremaining: 1.06s\n",
      "8:\tlearn: 0.6918649\ttotal: 106ms\tremaining: 1.07s\n",
      "9:\tlearn: 0.6917699\ttotal: 120ms\tremaining: 1.08s\n",
      "10:\tlearn: 0.6916664\ttotal: 131ms\tremaining: 1.06s\n",
      "11:\tlearn: 0.6915479\ttotal: 148ms\tremaining: 1.09s\n",
      "12:\tlearn: 0.6914154\ttotal: 165ms\tremaining: 1.1s\n",
      "13:\tlearn: 0.6912997\ttotal: 181ms\tremaining: 1.11s\n",
      "14:\tlearn: 0.6911685\ttotal: 198ms\tremaining: 1.12s\n",
      "15:\tlearn: 0.6910535\ttotal: 217ms\tremaining: 1.14s\n",
      "16:\tlearn: 0.6909642\ttotal: 231ms\tremaining: 1.13s\n",
      "17:\tlearn: 0.6908622\ttotal: 247ms\tremaining: 1.12s\n",
      "18:\tlearn: 0.6907444\ttotal: 263ms\tremaining: 1.12s\n",
      "19:\tlearn: 0.6906193\ttotal: 276ms\tremaining: 1.1s\n",
      "20:\tlearn: 0.6905215\ttotal: 292ms\tremaining: 1.1s\n",
      "21:\tlearn: 0.6904481\ttotal: 304ms\tremaining: 1.08s\n",
      "22:\tlearn: 0.6903408\ttotal: 316ms\tremaining: 1.06s\n",
      "23:\tlearn: 0.6902573\ttotal: 327ms\tremaining: 1.03s\n",
      "24:\tlearn: 0.6901720\ttotal: 339ms\tremaining: 1.02s\n",
      "25:\tlearn: 0.6900461\ttotal: 353ms\tremaining: 1s\n",
      "26:\tlearn: 0.6899417\ttotal: 366ms\tremaining: 989ms\n",
      "27:\tlearn: 0.6898007\ttotal: 377ms\tremaining: 970ms\n",
      "28:\tlearn: 0.6896734\ttotal: 390ms\tremaining: 954ms\n",
      "29:\tlearn: 0.6895394\ttotal: 401ms\tremaining: 935ms\n",
      "30:\tlearn: 0.6894238\ttotal: 410ms\tremaining: 912ms\n",
      "31:\tlearn: 0.6893225\ttotal: 421ms\tremaining: 896ms\n",
      "32:\tlearn: 0.6892161\ttotal: 434ms\tremaining: 880ms\n",
      "33:\tlearn: 0.6891738\ttotal: 444ms\tremaining: 861ms\n",
      "34:\tlearn: 0.6891738\ttotal: 449ms\tremaining: 834ms\n",
      "35:\tlearn: 0.6891003\ttotal: 459ms\tremaining: 816ms\n",
      "36:\tlearn: 0.6890031\ttotal: 469ms\tremaining: 799ms\n",
      "37:\tlearn: 0.6889120\ttotal: 480ms\tremaining: 784ms\n",
      "38:\tlearn: 0.6889087\ttotal: 486ms\tremaining: 759ms\n",
      "39:\tlearn: 0.6888265\ttotal: 496ms\tremaining: 743ms\n",
      "40:\tlearn: 0.6887184\ttotal: 505ms\tremaining: 727ms\n",
      "41:\tlearn: 0.6886313\ttotal: 517ms\tremaining: 714ms\n",
      "42:\tlearn: 0.6885078\ttotal: 528ms\tremaining: 699ms\n",
      "43:\tlearn: 0.6884070\ttotal: 537ms\tremaining: 683ms\n",
      "44:\tlearn: 0.6883182\ttotal: 547ms\tremaining: 669ms\n",
      "45:\tlearn: 0.6882216\ttotal: 557ms\tremaining: 654ms\n",
      "46:\tlearn: 0.6880657\ttotal: 569ms\tremaining: 641ms\n",
      "47:\tlearn: 0.6879466\ttotal: 579ms\tremaining: 627ms\n",
      "48:\tlearn: 0.6878959\ttotal: 588ms\tremaining: 612ms\n",
      "49:\tlearn: 0.6878180\ttotal: 600ms\tremaining: 600ms\n",
      "50:\tlearn: 0.6877156\ttotal: 611ms\tremaining: 587ms\n",
      "51:\tlearn: 0.6876507\ttotal: 621ms\tremaining: 573ms\n",
      "52:\tlearn: 0.6875231\ttotal: 632ms\tremaining: 560ms\n",
      "53:\tlearn: 0.6874206\ttotal: 645ms\tremaining: 549ms\n",
      "54:\tlearn: 0.6873122\ttotal: 657ms\tremaining: 538ms\n",
      "55:\tlearn: 0.6871917\ttotal: 670ms\tremaining: 526ms\n",
      "56:\tlearn: 0.6870922\ttotal: 681ms\tremaining: 514ms\n",
      "57:\tlearn: 0.6869988\ttotal: 692ms\tremaining: 501ms\n",
      "58:\tlearn: 0.6868986\ttotal: 701ms\tremaining: 487ms\n",
      "59:\tlearn: 0.6868249\ttotal: 712ms\tremaining: 475ms\n",
      "60:\tlearn: 0.6867425\ttotal: 723ms\tremaining: 462ms\n",
      "61:\tlearn: 0.6866204\ttotal: 732ms\tremaining: 449ms\n",
      "62:\tlearn: 0.6865064\ttotal: 744ms\tremaining: 437ms\n",
      "63:\tlearn: 0.6863929\ttotal: 754ms\tremaining: 424ms\n",
      "64:\tlearn: 0.6863159\ttotal: 765ms\tremaining: 412ms\n",
      "65:\tlearn: 0.6861808\ttotal: 777ms\tremaining: 400ms\n",
      "66:\tlearn: 0.6861110\ttotal: 787ms\tremaining: 388ms\n",
      "67:\tlearn: 0.6860481\ttotal: 797ms\tremaining: 375ms\n",
      "68:\tlearn: 0.6859382\ttotal: 808ms\tremaining: 363ms\n",
      "69:\tlearn: 0.6858297\ttotal: 819ms\tremaining: 351ms\n",
      "70:\tlearn: 0.6857593\ttotal: 829ms\tremaining: 339ms\n",
      "71:\tlearn: 0.6856544\ttotal: 839ms\tremaining: 326ms\n",
      "72:\tlearn: 0.6855665\ttotal: 849ms\tremaining: 314ms\n",
      "73:\tlearn: 0.6854742\ttotal: 861ms\tremaining: 302ms\n",
      "74:\tlearn: 0.6853857\ttotal: 872ms\tremaining: 291ms\n",
      "75:\tlearn: 0.6853151\ttotal: 882ms\tremaining: 278ms\n",
      "76:\tlearn: 0.6852197\ttotal: 893ms\tremaining: 267ms\n",
      "77:\tlearn: 0.6851373\ttotal: 904ms\tremaining: 255ms\n",
      "78:\tlearn: 0.6850393\ttotal: 914ms\tremaining: 243ms\n",
      "79:\tlearn: 0.6849541\ttotal: 924ms\tremaining: 231ms\n",
      "80:\tlearn: 0.6848916\ttotal: 935ms\tremaining: 219ms\n",
      "81:\tlearn: 0.6848160\ttotal: 944ms\tremaining: 207ms\n",
      "82:\tlearn: 0.6847334\ttotal: 956ms\tremaining: 196ms\n",
      "83:\tlearn: 0.6846481\ttotal: 967ms\tremaining: 184ms\n",
      "84:\tlearn: 0.6846043\ttotal: 978ms\tremaining: 173ms\n",
      "85:\tlearn: 0.6845574\ttotal: 993ms\tremaining: 162ms\n",
      "86:\tlearn: 0.6844560\ttotal: 1.01s\tremaining: 151ms\n",
      "87:\tlearn: 0.6843728\ttotal: 1.02s\tremaining: 139ms\n",
      "88:\tlearn: 0.6843129\ttotal: 1.04s\tremaining: 128ms\n",
      "89:\tlearn: 0.6842211\ttotal: 1.05s\tremaining: 117ms\n",
      "90:\tlearn: 0.6841119\ttotal: 1.06s\tremaining: 105ms\n",
      "91:\tlearn: 0.6840412\ttotal: 1.08s\tremaining: 94.2ms\n",
      "92:\tlearn: 0.6839470\ttotal: 1.11s\tremaining: 83.7ms\n",
      "93:\tlearn: 0.6838292\ttotal: 1.13s\tremaining: 72.1ms\n",
      "94:\tlearn: 0.6837220\ttotal: 1.14s\tremaining: 60.2ms\n",
      "95:\tlearn: 0.6836636\ttotal: 1.16s\tremaining: 48.2ms\n",
      "96:\tlearn: 0.6835989\ttotal: 1.17s\tremaining: 36.1ms\n",
      "97:\tlearn: 0.6835262\ttotal: 1.18s\tremaining: 24.2ms\n",
      "98:\tlearn: 0.6834261\ttotal: 1.2s\tremaining: 12.2ms\n",
      "99:\tlearn: 0.6833342\ttotal: 1.22s\tremaining: 0us\n",
      "[2023-09-17 04:25:51,988: INFO: 3767701505: the <catboost.core.CatBoostClassifier object at 0x0000020A05D14310> model trained successfully!]\n",
      "[2023-09-17 04:25:52,856: INFO: 3767701505: the AdaBoostClassifier(learning_rate=0.01, n_estimators=16) model trained successfully!]\n",
      "[2023-09-17 04:27:02,962: INFO: 3767701505: the RandomForestClassifier(criterion='entropy', max_depth=40, min_samples_leaf=2,\n",
      "                       min_samples_split=10, n_estimators=256) model trained successfully!]\n"
     ]
    }
   ],
   "source": [
    "try:\n",
    "    config = ConfigurationManager()\n",
    "    trainer_config = config.get_modelTrainer_config()\n",
    "    model_trainer = ModelTrainer(config=trainer_config)\n",
    "    model_trainer.train_model()\n",
    "except Exception as e:\n",
    "    raise CustomException(e)\n"
   ]
  },
  {
   "cell_type": "code",
   "execution_count": null,
   "metadata": {},
   "outputs": [],
   "source": []
  },
  {
   "cell_type": "code",
   "execution_count": null,
   "metadata": {},
   "outputs": [],
   "source": []
  },
  {
   "cell_type": "code",
   "execution_count": null,
   "metadata": {},
   "outputs": [],
   "source": []
  }
 ],
 "metadata": {
  "kernelspec": {
   "display_name": "Python 3",
   "language": "python",
   "name": "python3"
  },
  "language_info": {
   "codemirror_mode": {
    "name": "ipython",
    "version": 3
   },
   "file_extension": ".py",
   "mimetype": "text/x-python",
   "name": "python",
   "nbconvert_exporter": "python",
   "pygments_lexer": "ipython3",
   "version": "3.11.3"
  },
  "orig_nbformat": 4
 },
 "nbformat": 4,
 "nbformat_minor": 2
}
