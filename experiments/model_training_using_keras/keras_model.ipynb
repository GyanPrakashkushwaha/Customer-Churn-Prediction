{
 "cells": [
  {
   "cell_type": "code",
   "execution_count": 403,
   "metadata": {},
   "outputs": [
    {
     "name": "stdout",
     "output_type": "stream",
     "text": [
      "d:\\vscode_machineLearning\\internship\\Customer-Churn-Prediction\n",
      "d:\\vscode_machineLearning\\internship\\Customer-Churn-Prediction\n"
     ]
    }
   ],
   "source": [
    "import os\n",
    "print(os.getcwd())\n",
    "os.chdir('d:\\\\vscode_machineLearning\\\\internship\\\\Customer-Churn-Prediction')\n",
    "print(os.getcwd())"
   ]
  },
  {
   "cell_type": "code",
   "execution_count": 404,
   "metadata": {},
   "outputs": [],
   "source": [
    "import pandas as pd\n",
    "import warnings\n",
    "warnings.filterwarnings('ignore')\n",
    "from sklearn.preprocessing import LabelEncoder"
   ]
  },
  {
   "cell_type": "code",
   "execution_count": 405,
   "metadata": {},
   "outputs": [],
   "source": [
    "df = pd.read_csv(f'artifacts/temp_data/with_year_data.csv')"
   ]
  },
  {
   "cell_type": "code",
   "execution_count": 406,
   "metadata": {},
   "outputs": [
    {
     "data": {
      "text/plain": [
       "Age               0\n",
       "Gender            0\n",
       "Location          0\n",
       "Monthly_Bill      0\n",
       "Total_Usage_GB    0\n",
       "Churn             0\n",
       "year              0\n",
       "month             0\n",
       "dtype: int64"
      ]
     },
     "execution_count": 406,
     "metadata": {},
     "output_type": "execute_result"
    }
   ],
   "source": [
    "df.isnull().sum()"
   ]
  },
  {
   "cell_type": "code",
   "execution_count": 407,
   "metadata": {},
   "outputs": [],
   "source": [
    "encoder = LabelEncoder()"
   ]
  },
  {
   "cell_type": "code",
   "execution_count": 408,
   "metadata": {},
   "outputs": [],
   "source": [
    "df['Gender']=df['Gender'].replace({'Male':0,'Female':1})\n",
    "df['Location'] = encoder.fit_transform(df[['Location']])"
   ]
  },
  {
   "cell_type": "code",
   "execution_count": 409,
   "metadata": {},
   "outputs": [],
   "source": [
    "X = df.drop(columns='Churn')\n",
    "y = df['Churn']"
   ]
  },
  {
   "cell_type": "code",
   "execution_count": 410,
   "metadata": {},
   "outputs": [],
   "source": [
    "from sklearn.compose import ColumnTransformer\n",
    "from sklearn.preprocessing import (OneHotEncoder,\n",
    "                                   MinMaxScaler)\n",
    "import numpy as np\n",
    "from sklearn.model_selection import train_test_split\n",
    "from sklearn.preprocessing import LabelEncoder\n",
    "from sklearn.linear_model import LogisticRegression"
   ]
  },
  {
   "cell_type": "code",
   "execution_count": 411,
   "metadata": {},
   "outputs": [],
   "source": [
    "X_train, X_test, y_train, y_test = train_test_split(\n",
    "         X, y, test_size=0.40, random_state=42)"
   ]
  },
  {
   "cell_type": "code",
   "execution_count": 412,
   "metadata": {},
   "outputs": [],
   "source": [
    "encoder = LabelEncoder()"
   ]
  },
  {
   "cell_type": "code",
   "execution_count": 413,
   "metadata": {},
   "outputs": [],
   "source": [
    "df['Gender']=df['Gender'].replace({'Male':0,'Female':1})\n",
    "# df['Location'] = encoder.fit_transform(df[['Location']])\n",
    "# df['Age'] = np.log(df['Age'])\n",
    "# df['Subscription_Length_Months'] = np.log(df['Subscription_Length_Months'])\n",
    "# df['Monthly_Bill'] = np.log(df['Monthly_Bill'])\n",
    "# df['Total_Usage_GB'] = np.log(df['Total_Usage_GB'])"
   ]
  },
  {
   "cell_type": "code",
   "execution_count": 414,
   "metadata": {},
   "outputs": [
    {
     "data": {
      "text/html": [
       "<div>\n",
       "<style scoped>\n",
       "    .dataframe tbody tr th:only-of-type {\n",
       "        vertical-align: middle;\n",
       "    }\n",
       "\n",
       "    .dataframe tbody tr th {\n",
       "        vertical-align: top;\n",
       "    }\n",
       "\n",
       "    .dataframe thead th {\n",
       "        text-align: right;\n",
       "    }\n",
       "</style>\n",
       "<table border=\"1\" class=\"dataframe\">\n",
       "  <thead>\n",
       "    <tr style=\"text-align: right;\">\n",
       "      <th></th>\n",
       "      <th>Age</th>\n",
       "      <th>Gender</th>\n",
       "      <th>Location</th>\n",
       "      <th>Monthly_Bill</th>\n",
       "      <th>Total_Usage_GB</th>\n",
       "      <th>year</th>\n",
       "      <th>month</th>\n",
       "    </tr>\n",
       "  </thead>\n",
       "  <tbody>\n",
       "    <tr>\n",
       "      <th>40507</th>\n",
       "      <td>68</td>\n",
       "      <td>1</td>\n",
       "      <td>2</td>\n",
       "      <td>71.78</td>\n",
       "      <td>483</td>\n",
       "      <td>1</td>\n",
       "      <td>6</td>\n",
       "    </tr>\n",
       "    <tr>\n",
       "      <th>72707</th>\n",
       "      <td>70</td>\n",
       "      <td>1</td>\n",
       "      <td>1</td>\n",
       "      <td>95.25</td>\n",
       "      <td>378</td>\n",
       "      <td>1</td>\n",
       "      <td>4</td>\n",
       "    </tr>\n",
       "    <tr>\n",
       "      <th>90912</th>\n",
       "      <td>50</td>\n",
       "      <td>1</td>\n",
       "      <td>1</td>\n",
       "      <td>51.44</td>\n",
       "      <td>499</td>\n",
       "      <td>1</td>\n",
       "      <td>3</td>\n",
       "    </tr>\n",
       "    <tr>\n",
       "      <th>28532</th>\n",
       "      <td>25</td>\n",
       "      <td>1</td>\n",
       "      <td>0</td>\n",
       "      <td>72.91</td>\n",
       "      <td>433</td>\n",
       "      <td>1</td>\n",
       "      <td>9</td>\n",
       "    </tr>\n",
       "    <tr>\n",
       "      <th>13006</th>\n",
       "      <td>53</td>\n",
       "      <td>1</td>\n",
       "      <td>4</td>\n",
       "      <td>97.73</td>\n",
       "      <td>448</td>\n",
       "      <td>1</td>\n",
       "      <td>1</td>\n",
       "    </tr>\n",
       "    <tr>\n",
       "      <th>...</th>\n",
       "      <td>...</td>\n",
       "      <td>...</td>\n",
       "      <td>...</td>\n",
       "      <td>...</td>\n",
       "      <td>...</td>\n",
       "      <td>...</td>\n",
       "      <td>...</td>\n",
       "    </tr>\n",
       "    <tr>\n",
       "      <th>6265</th>\n",
       "      <td>35</td>\n",
       "      <td>0</td>\n",
       "      <td>3</td>\n",
       "      <td>67.33</td>\n",
       "      <td>235</td>\n",
       "      <td>1</td>\n",
       "      <td>9</td>\n",
       "    </tr>\n",
       "    <tr>\n",
       "      <th>54886</th>\n",
       "      <td>56</td>\n",
       "      <td>0</td>\n",
       "      <td>0</td>\n",
       "      <td>85.40</td>\n",
       "      <td>347</td>\n",
       "      <td>1</td>\n",
       "      <td>1</td>\n",
       "    </tr>\n",
       "    <tr>\n",
       "      <th>76820</th>\n",
       "      <td>69</td>\n",
       "      <td>0</td>\n",
       "      <td>1</td>\n",
       "      <td>76.24</td>\n",
       "      <td>321</td>\n",
       "      <td>0</td>\n",
       "      <td>2</td>\n",
       "    </tr>\n",
       "    <tr>\n",
       "      <th>860</th>\n",
       "      <td>55</td>\n",
       "      <td>0</td>\n",
       "      <td>0</td>\n",
       "      <td>89.19</td>\n",
       "      <td>315</td>\n",
       "      <td>1</td>\n",
       "      <td>0</td>\n",
       "    </tr>\n",
       "    <tr>\n",
       "      <th>15795</th>\n",
       "      <td>26</td>\n",
       "      <td>1</td>\n",
       "      <td>2</td>\n",
       "      <td>70.41</td>\n",
       "      <td>335</td>\n",
       "      <td>1</td>\n",
       "      <td>5</td>\n",
       "    </tr>\n",
       "  </tbody>\n",
       "</table>\n",
       "<p>60000 rows × 7 columns</p>\n",
       "</div>"
      ],
      "text/plain": [
       "       Age  Gender  Location  Monthly_Bill  Total_Usage_GB  year  month\n",
       "40507   68       1         2         71.78             483     1      6\n",
       "72707   70       1         1         95.25             378     1      4\n",
       "90912   50       1         1         51.44             499     1      3\n",
       "28532   25       1         0         72.91             433     1      9\n",
       "13006   53       1         4         97.73             448     1      1\n",
       "...    ...     ...       ...           ...             ...   ...    ...\n",
       "6265    35       0         3         67.33             235     1      9\n",
       "54886   56       0         0         85.40             347     1      1\n",
       "76820   69       0         1         76.24             321     0      2\n",
       "860     55       0         0         89.19             315     1      0\n",
       "15795   26       1         2         70.41             335     1      5\n",
       "\n",
       "[60000 rows x 7 columns]"
      ]
     },
     "execution_count": 414,
     "metadata": {},
     "output_type": "execute_result"
    }
   ],
   "source": [
    "X_train"
   ]
  },
  {
   "cell_type": "code",
   "execution_count": 415,
   "metadata": {},
   "outputs": [],
   "source": [
    "preprocessing = ColumnTransformer(transformers=[\n",
    "    ('OHE',OneHotEncoder(drop='first',sparse=False,dtype=np.int64),['Location']),\n",
    "],remainder='passthrough')"
   ]
  },
  {
   "cell_type": "code",
   "execution_count": 416,
   "metadata": {},
   "outputs": [],
   "source": [
    "# df['Age'] = np.log(df['Age'])\n",
    "# df['Subscription_Length_Months'] = np.log(df['Subscription_Length_Months'])\n",
    "df['Monthly_Bill'] = np.log(df['Monthly_Bill'])\n",
    "df['Total_Usage_GB'] = np.log(df['Total_Usage_GB'])"
   ]
  },
  {
   "cell_type": "code",
   "execution_count": 417,
   "metadata": {},
   "outputs": [],
   "source": [
    "X_train= preprocessing.fit_transform(X_train)\n",
    "X_test = preprocessing.transform(X_test)"
   ]
  },
  {
   "cell_type": "code",
   "execution_count": null,
   "metadata": {},
   "outputs": [],
   "source": []
  },
  {
   "cell_type": "markdown",
   "metadata": {},
   "source": [
    "## model"
   ]
  },
  {
   "cell_type": "code",
   "execution_count": 418,
   "metadata": {},
   "outputs": [],
   "source": [
    "from keras.layers import BatchNormalization, Dropout, Bidirectional, LSTM, Embedding, Dense ,Input\n",
    "from keras.losses import binary_crossentropy\n",
    "from tensorflow import keras\n",
    "from keras.callbacks import LearningRateScheduler , EarlyStopping\n",
    "from keras.activations import relu , sigmoid\n",
    "from keras import Sequential\n",
    "from keras.initializers import he_normal"
   ]
  },
  {
   "cell_type": "code",
   "execution_count": 419,
   "metadata": {},
   "outputs": [],
   "source": [
    "model = Sequential()\n",
    "\n",
    "model.add(layer=Dense(units=512,activation=relu,kernel_initializer=he_normal))\n",
    "model.add(layer=Dense(units=332,activation=relu,kernel_initializer=he_normal))\n",
    "model.add(BatchNormalization())\n",
    "model.add(Dense(units=128,activation=relu,kernel_initializer=he_normal))\n",
    "model.add(Dense(units=64,activation=relu,kernel_initializer=he_normal))\n",
    "model.add(Dense(units=1,activation=sigmoid,name='output_layer'))"
   ]
  },
  {
   "cell_type": "code",
   "execution_count": 420,
   "metadata": {},
   "outputs": [],
   "source": [
    "def lr_schedule(epoch, lr):\n",
    "    if epoch < 1:\n",
    "        return lr\n",
    "    else:\n",
    "        return lr * np.exp(-0.1)\n",
    "\n",
    "# learning rate scheduler callback to descrese the learning rate gradually as the epochs increases So that my alogrithm could not jump out of Global minima.\n",
    "lr_scheduler = LearningRateScheduler(lr_schedule)\n",
    "\n",
    "# Early stopping to stop the Neural Network when we get same Validation accuracy\n",
    "# early_stopping = EarlyStopping(\n",
    "#     monitor=\"accuracy\",\n",
    "#     min_delta=0.00001,\n",
    "#     patience=5,\n",
    "#     verbose=1,\n",
    "#     mode=\"auto\",\n",
    "#     baseline=None,\n",
    "#     restore_best_weights=False\n",
    "# )"
   ]
  },
  {
   "cell_type": "code",
   "execution_count": 421,
   "metadata": {},
   "outputs": [],
   "source": [
    "optimizer = keras.optimizers.Adam(learning_rate=1)"
   ]
  },
  {
   "cell_type": "code",
   "execution_count": 422,
   "metadata": {},
   "outputs": [],
   "source": [
    "model.compile(optimizer=optimizer, \n",
    "               loss=binary_crossentropy, \n",
    "                 metrics=['accuracy']) "
   ]
  },
  {
   "cell_type": "code",
   "execution_count": 423,
   "metadata": {},
   "outputs": [
    {
     "name": "stdout",
     "output_type": "stream",
     "text": [
      "Epoch 1/20\n",
      "938/938 [==============================] - 11s 8ms/step - loss: 63.9359 - accuracy: 0.5001 - val_loss: 0.7187 - val_accuracy: 0.4973 - lr: 1.0000\n",
      "Epoch 2/20\n",
      "938/938 [==============================] - 8s 8ms/step - loss: 0.7029 - accuracy: 0.5005 - val_loss: 0.6942 - val_accuracy: 0.4973 - lr: 0.9048\n",
      "Epoch 3/20\n",
      "938/938 [==============================] - 8s 8ms/step - loss: 0.7024 - accuracy: 0.4997 - val_loss: 0.6944 - val_accuracy: 0.4973 - lr: 0.8187\n",
      "Epoch 4/20\n",
      "938/938 [==============================] - 6s 6ms/step - loss: 0.7026 - accuracy: 0.5007 - val_loss: 0.7207 - val_accuracy: 0.4973 - lr: 0.7408\n",
      "Epoch 5/20\n",
      "938/938 [==============================] - 6s 6ms/step - loss: 0.7003 - accuracy: 0.5021 - val_loss: 0.7004 - val_accuracy: 0.5027 - lr: 0.6703\n",
      "Epoch 6/20\n",
      "938/938 [==============================] - 7s 8ms/step - loss: 0.6993 - accuracy: 0.5014 - val_loss: 0.6966 - val_accuracy: 0.4973 - lr: 0.6065\n",
      "Epoch 7/20\n",
      "938/938 [==============================] - 7s 7ms/step - loss: 0.6991 - accuracy: 0.5019 - val_loss: 0.6970 - val_accuracy: 0.4973 - lr: 0.5488\n",
      "Epoch 8/20\n",
      "938/938 [==============================] - 7s 8ms/step - loss: 0.6989 - accuracy: 0.5027 - val_loss: 0.7215 - val_accuracy: 0.5027 - lr: 0.4966\n",
      "Epoch 9/20\n",
      "938/938 [==============================] - 7s 8ms/step - loss: 0.6973 - accuracy: 0.5025 - val_loss: 0.6938 - val_accuracy: 0.5027 - lr: 0.4493\n",
      "Epoch 10/20\n",
      "938/938 [==============================] - 8s 9ms/step - loss: 0.6987 - accuracy: 0.4963 - val_loss: 0.6931 - val_accuracy: 0.5027 - lr: 0.4066\n",
      "Epoch 11/20\n",
      "938/938 [==============================] - 10s 10ms/step - loss: 0.6978 - accuracy: 0.5001 - val_loss: 0.7145 - val_accuracy: 0.4973 - lr: 0.3679\n",
      "Epoch 12/20\n",
      "938/938 [==============================] - 11s 12ms/step - loss: 0.6970 - accuracy: 0.4992 - val_loss: 0.6972 - val_accuracy: 0.4973 - lr: 0.3329\n",
      "Epoch 13/20\n",
      "938/938 [==============================] - 9s 9ms/step - loss: 0.6972 - accuracy: 0.4989 - val_loss: 0.6945 - val_accuracy: 0.4973 - lr: 0.3012\n",
      "Epoch 14/20\n",
      "938/938 [==============================] - 8s 8ms/step - loss: 0.6960 - accuracy: 0.4995 - val_loss: 0.7111 - val_accuracy: 0.4973 - lr: 0.2725\n",
      "Epoch 15/20\n",
      "938/938 [==============================] - 9s 10ms/step - loss: 0.6968 - accuracy: 0.4995 - val_loss: 0.7050 - val_accuracy: 0.4973 - lr: 0.2466\n",
      "Epoch 16/20\n",
      "938/938 [==============================] - 6s 7ms/step - loss: 0.6965 - accuracy: 0.4975 - val_loss: 0.6955 - val_accuracy: 0.4973 - lr: 0.2231\n",
      "Epoch 17/20\n",
      "938/938 [==============================] - 7s 7ms/step - loss: 0.6955 - accuracy: 0.5061 - val_loss: 0.7020 - val_accuracy: 0.4973 - lr: 0.2019\n",
      "Epoch 18/20\n",
      "938/938 [==============================] - 10s 11ms/step - loss: 0.6953 - accuracy: 0.5013 - val_loss: 0.6941 - val_accuracy: 0.5027 - lr: 0.1827\n",
      "Epoch 19/20\n",
      "938/938 [==============================] - 8s 9ms/step - loss: 0.6956 - accuracy: 0.4958 - val_loss: 0.7001 - val_accuracy: 0.5027 - lr: 0.1653\n",
      "Epoch 20/20\n",
      "938/938 [==============================] - 7s 8ms/step - loss: 0.6947 - accuracy: 0.5019 - val_loss: 0.6945 - val_accuracy: 0.5027 - lr: 0.1496\n"
     ]
    }
   ],
   "source": [
    "history = model.fit(X_train, y_train, validation_data=(X_test, y_test), epochs=20,\n",
    "                    batch_size=64,\n",
    "                      callbacks=[lr_scheduler]) "
   ]
  },
  {
   "cell_type": "code",
   "execution_count": null,
   "metadata": {},
   "outputs": [],
   "source": []
  },
  {
   "cell_type": "code",
   "execution_count": null,
   "metadata": {},
   "outputs": [],
   "source": []
  },
  {
   "cell_type": "code",
   "execution_count": null,
   "metadata": {},
   "outputs": [],
   "source": []
  },
  {
   "cell_type": "code",
   "execution_count": null,
   "metadata": {},
   "outputs": [],
   "source": []
  },
  {
   "cell_type": "code",
   "execution_count": null,
   "metadata": {},
   "outputs": [],
   "source": []
  }
 ],
 "metadata": {
  "kernelspec": {
   "display_name": "churnvenv",
   "language": "python",
   "name": "python3"
  },
  "language_info": {
   "codemirror_mode": {
    "name": "ipython",
    "version": 3
   },
   "file_extension": ".py",
   "mimetype": "text/x-python",
   "name": "python",
   "nbconvert_exporter": "python",
   "pygments_lexer": "ipython3",
   "version": "3.11.3"
  },
  "orig_nbformat": 4
 },
 "nbformat": 4,
 "nbformat_minor": 2
}
