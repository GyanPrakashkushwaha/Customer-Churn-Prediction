{
 "cells": [
  {
   "cell_type": "code",
   "execution_count": 83,
   "metadata": {},
   "outputs": [
    {
     "name": "stdout",
     "output_type": "stream",
     "text": [
      "d:\\vscode_machineLearning\\internship\\Customer-Churn-Prediction\n",
      "d:\\vscode_machineLearning\\internship\\Customer-Churn-Prediction\n"
     ]
    }
   ],
   "source": [
    "import os\n",
    "print(os.getcwd())\n",
    "os.chdir('d:\\\\vscode_machineLearning\\\\internship\\\\Customer-Churn-Prediction')\n",
    "print(os.getcwd())"
   ]
  },
  {
   "cell_type": "code",
   "execution_count": 84,
   "metadata": {},
   "outputs": [],
   "source": [
    "import pandas as pd"
   ]
  },
  {
   "cell_type": "code",
   "execution_count": 85,
   "metadata": {},
   "outputs": [],
   "source": [
    "data = pd.read_csv(r'artifacts/raw_data/customer_churn_removed_col.csv')"
   ]
  },
  {
   "cell_type": "code",
   "execution_count": 86,
   "metadata": {},
   "outputs": [
    {
     "data": {
      "text/html": [
       "<div>\n",
       "<style scoped>\n",
       "    .dataframe tbody tr th:only-of-type {\n",
       "        vertical-align: middle;\n",
       "    }\n",
       "\n",
       "    .dataframe tbody tr th {\n",
       "        vertical-align: top;\n",
       "    }\n",
       "\n",
       "    .dataframe thead th {\n",
       "        text-align: right;\n",
       "    }\n",
       "</style>\n",
       "<table border=\"1\" class=\"dataframe\">\n",
       "  <thead>\n",
       "    <tr style=\"text-align: right;\">\n",
       "      <th></th>\n",
       "      <th>Age</th>\n",
       "      <th>Gender</th>\n",
       "      <th>Location</th>\n",
       "      <th>Subscription_Length_Months</th>\n",
       "      <th>Monthly_Bill</th>\n",
       "      <th>Total_Usage_GB</th>\n",
       "      <th>Churn</th>\n",
       "    </tr>\n",
       "  </thead>\n",
       "  <tbody>\n",
       "    <tr>\n",
       "      <th>0</th>\n",
       "      <td>63</td>\n",
       "      <td>Male</td>\n",
       "      <td>Los Angeles</td>\n",
       "      <td>17</td>\n",
       "      <td>73.36</td>\n",
       "      <td>236</td>\n",
       "      <td>0</td>\n",
       "    </tr>\n",
       "    <tr>\n",
       "      <th>1</th>\n",
       "      <td>62</td>\n",
       "      <td>Female</td>\n",
       "      <td>New York</td>\n",
       "      <td>1</td>\n",
       "      <td>48.76</td>\n",
       "      <td>172</td>\n",
       "      <td>0</td>\n",
       "    </tr>\n",
       "    <tr>\n",
       "      <th>2</th>\n",
       "      <td>24</td>\n",
       "      <td>Female</td>\n",
       "      <td>Los Angeles</td>\n",
       "      <td>5</td>\n",
       "      <td>85.47</td>\n",
       "      <td>460</td>\n",
       "      <td>0</td>\n",
       "    </tr>\n",
       "    <tr>\n",
       "      <th>3</th>\n",
       "      <td>36</td>\n",
       "      <td>Female</td>\n",
       "      <td>Miami</td>\n",
       "      <td>3</td>\n",
       "      <td>97.94</td>\n",
       "      <td>297</td>\n",
       "      <td>1</td>\n",
       "    </tr>\n",
       "    <tr>\n",
       "      <th>4</th>\n",
       "      <td>46</td>\n",
       "      <td>Female</td>\n",
       "      <td>Miami</td>\n",
       "      <td>19</td>\n",
       "      <td>58.14</td>\n",
       "      <td>266</td>\n",
       "      <td>0</td>\n",
       "    </tr>\n",
       "    <tr>\n",
       "      <th>...</th>\n",
       "      <td>...</td>\n",
       "      <td>...</td>\n",
       "      <td>...</td>\n",
       "      <td>...</td>\n",
       "      <td>...</td>\n",
       "      <td>...</td>\n",
       "      <td>...</td>\n",
       "    </tr>\n",
       "    <tr>\n",
       "      <th>99995</th>\n",
       "      <td>33</td>\n",
       "      <td>Male</td>\n",
       "      <td>Houston</td>\n",
       "      <td>23</td>\n",
       "      <td>55.13</td>\n",
       "      <td>226</td>\n",
       "      <td>1</td>\n",
       "    </tr>\n",
       "    <tr>\n",
       "      <th>99996</th>\n",
       "      <td>62</td>\n",
       "      <td>Female</td>\n",
       "      <td>New York</td>\n",
       "      <td>19</td>\n",
       "      <td>61.65</td>\n",
       "      <td>351</td>\n",
       "      <td>0</td>\n",
       "    </tr>\n",
       "    <tr>\n",
       "      <th>99997</th>\n",
       "      <td>64</td>\n",
       "      <td>Male</td>\n",
       "      <td>Chicago</td>\n",
       "      <td>17</td>\n",
       "      <td>96.11</td>\n",
       "      <td>251</td>\n",
       "      <td>1</td>\n",
       "    </tr>\n",
       "    <tr>\n",
       "      <th>99998</th>\n",
       "      <td>51</td>\n",
       "      <td>Female</td>\n",
       "      <td>New York</td>\n",
       "      <td>20</td>\n",
       "      <td>49.25</td>\n",
       "      <td>434</td>\n",
       "      <td>1</td>\n",
       "    </tr>\n",
       "    <tr>\n",
       "      <th>99999</th>\n",
       "      <td>27</td>\n",
       "      <td>Female</td>\n",
       "      <td>Los Angeles</td>\n",
       "      <td>19</td>\n",
       "      <td>76.57</td>\n",
       "      <td>173</td>\n",
       "      <td>1</td>\n",
       "    </tr>\n",
       "  </tbody>\n",
       "</table>\n",
       "<p>100000 rows × 7 columns</p>\n",
       "</div>"
      ],
      "text/plain": [
       "       Age  Gender     Location  Subscription_Length_Months  Monthly_Bill   \n",
       "0       63    Male  Los Angeles                          17         73.36  \\\n",
       "1       62  Female     New York                           1         48.76   \n",
       "2       24  Female  Los Angeles                           5         85.47   \n",
       "3       36  Female        Miami                           3         97.94   \n",
       "4       46  Female        Miami                          19         58.14   \n",
       "...    ...     ...          ...                         ...           ...   \n",
       "99995   33    Male      Houston                          23         55.13   \n",
       "99996   62  Female     New York                          19         61.65   \n",
       "99997   64    Male      Chicago                          17         96.11   \n",
       "99998   51  Female     New York                          20         49.25   \n",
       "99999   27  Female  Los Angeles                          19         76.57   \n",
       "\n",
       "       Total_Usage_GB  Churn  \n",
       "0                 236      0  \n",
       "1                 172      0  \n",
       "2                 460      0  \n",
       "3                 297      1  \n",
       "4                 266      0  \n",
       "...               ...    ...  \n",
       "99995             226      1  \n",
       "99996             351      0  \n",
       "99997             251      1  \n",
       "99998             434      1  \n",
       "99999             173      1  \n",
       "\n",
       "[100000 rows x 7 columns]"
      ]
     },
     "execution_count": 86,
     "metadata": {},
     "output_type": "execute_result"
    }
   ],
   "source": [
    "data "
   ]
  },
  {
   "cell_type": "markdown",
   "metadata": {},
   "source": [
    "## Entity"
   ]
  },
  {
   "cell_type": "code",
   "execution_count": 87,
   "metadata": {},
   "outputs": [],
   "source": [
    "from dataclasses import dataclass\n",
    "from pathlib import Path"
   ]
  },
  {
   "cell_type": "code",
   "execution_count": 88,
   "metadata": {},
   "outputs": [],
   "source": [
    "@dataclass(frozen=True)\n",
    "class DataTransformationConfig:\n",
    "    root_dir : Path\n",
    "    train_data: Path\n",
    "    test_data: Path\n",
    "    transform_train_df_path : Path\n",
    "    transform_test_df_path : Path\n",
    "    preprocessor_obj : str\n",
    "    model : Path"
   ]
  },
  {
   "cell_type": "markdown",
   "metadata": {},
   "source": [
    "## Configuration"
   ]
  },
  {
   "cell_type": "code",
   "execution_count": 89,
   "metadata": {},
   "outputs": [],
   "source": [
    "from churnPredictor.utils import *\n",
    "from churnPredictor import CustomException , logger\n",
    "from churnPredictor.constants import *"
   ]
  },
  {
   "cell_type": "code",
   "execution_count": 90,
   "metadata": {},
   "outputs": [],
   "source": [
    "class ConfigurationManager:\n",
    "    def __init__(\n",
    "        self,\n",
    "        config_file_path = CONFIG_FILE_PATH,\n",
    "        schema_file_path = SCHEMA_FILE_PATH):\n",
    "\n",
    "        self.config = read_yaml(config_file_path)\n",
    "        self.schema = read_yaml(schema_file_path)\n",
    "\n",
    "        create_dirs([self.config.artifacts_root])\n",
    "        \n",
    "    \n",
    "    def get_data_transformation_config(self):\n",
    "        config = self.config.data_transformation\n",
    "        # schema = self.schema.columns_renamer\n",
    "\n",
    "        create_dirs([config.root_dir,config.model_dir])\n",
    "        \n",
    "\n",
    "        return DataTransformationConfig(\n",
    "            root_dir=config.root_dir,\n",
    "            train_data=config.train_data_path,\n",
    "            test_data=config.test_data_path,\n",
    "            transform_test_df_path=config.transformed_test_df_path,\n",
    "            transform_train_df_path=config.transformed_train_df_path,\n",
    "            preprocessor_obj=config.preprocessor_obj,\n",
    "            model=config.model_dir)\n"
   ]
  },
  {
   "cell_type": "markdown",
   "metadata": {},
   "source": [
    "## components"
   ]
  },
  {
   "cell_type": "code",
   "execution_count": 91,
   "metadata": {},
   "outputs": [],
   "source": [
    "from sklearn.compose import ColumnTransformer\n",
    "from sklearn.preprocessing import (OneHotEncoder,\n",
    "                                   MinMaxScaler)\n",
    "import numpy as np\n",
    "import joblib"
   ]
  },
  {
   "cell_type": "code",
   "execution_count": 92,
   "metadata": {},
   "outputs": [],
   "source": [
    "class TransformData:\n",
    "    def __init__(self,config:DataTransformationConfig):\n",
    "        self.config = config\n",
    "\n",
    "    def initiate_data_transformation(self):\n",
    "        train_df = pd.read_csv(self.config.train_data)\n",
    "         \n",
    "        test_df = pd.read_csv(self.config.test_data)\n",
    "\n",
    "        train_df['Gender']=train_df['Gender'].replace({'Male':0,'Female':1})\n",
    "        test_df['Gender']=test_df['Gender'].replace({'Male':0,'Female':1})\n",
    "\n",
    "        preprocessing = ColumnTransformer(transformers=[\n",
    "                        ('OHE',OneHotEncoder(drop='first',sparse_output=False,dtype=np.int64),['Location']),\n",
    "                        ('scaling',MinMaxScaler(),['Age', 'Subscription_Length_Months', 'Monthly_Bill', 'Total_Usage_GB'])\n",
    "                    ],remainder='passthrough')\n",
    "        \n",
    "        transformed_train = preprocessing.fit_transform(train_df)\n",
    "        transformed_test = preprocessing.fit_transform(test_df)\n",
    "\n",
    "        transformed_train_df = pd.DataFrame(data=transformed_train,columns=preprocessing.get_feature_names_out())\n",
    "        transformed_test_df = pd.DataFrame(data=transformed_test,columns=preprocessing.get_feature_names_out())\n",
    "\n",
    "        transformed_train_df = transformed_train_df.rename(columns={\n",
    "                                        'OHE__Location_Houston': 'Houston',\n",
    "                                        'OHE__Location_Los Angeles': 'LosAngeles',\n",
    "                                        'OHE__Location_Miami': 'Miami',\n",
    "                                        'OHE__Location_New York': 'NewYork',\n",
    "                                        'scaling__Age': 'Age',\n",
    "                                        'scaling__Subscription_Length_Months': 'Subscription_Length_Months',\n",
    "                                        'scaling__Monthly_Bill': 'Monthly_Bill',\n",
    "                                        'scaling__Total_Usage_GB':'Total_Usage_GB',\n",
    "                                        'remainder__Gender':'Gender'})\n",
    "        \n",
    "        transformed_test_df = transformed_test_df.rename(columns={\n",
    "                                        'OHE__Location_Houston': 'Houston',\n",
    "                                        'OHE__Location_Los Angeles': 'LosAngeles',\n",
    "                                        'OHE__Location_Miami': 'Miami',\n",
    "                                        'OHE__Location_New York': 'NewYork',\n",
    "                                        'scaling__Age': 'Age',\n",
    "                                        'scaling__Subscription_Length_Months': 'Subscription_Length_Months',\n",
    "                                        'scaling__Monthly_Bill': 'Monthly_Bill',\n",
    "                                        'scaling__Total_Usage_GB':'Total_Usage_GB',\n",
    "                                        'remainder__Gender':'Gender'})\n",
    "        \n",
    "        \n",
    "        transformed_train_df.to_csv(self.config.transform_train_df_path,index=False)\n",
    "        transformed_test_df.to_csv(self.config.transform_test_df_path,index=False)\n",
    "        joblib.dump(preprocessing,self.config.preprocessor_obj)\n",
    "        logger.info(\"data transformation done!\")\n",
    "        logger.info(f'Columns : {transformed_train_df.columns}')\n",
    "        logger.info(f'Columns : {transformed_test_df.columns}')\n",
    "        logger.info(transformed_train_df.shape)\n",
    "        logger.info(transformed_train_df.shape)\n"
   ]
  },
  {
   "cell_type": "markdown",
   "metadata": {},
   "source": [
    "## pipeline"
   ]
  },
  {
   "cell_type": "code",
   "execution_count": 93,
   "metadata": {},
   "outputs": [
    {
     "name": "stdout",
     "output_type": "stream",
     "text": [
      "[2023-09-15 17:22:54,945: INFO: utils: yaml file: config\\config.yaml loaded successfully]\n",
      "[2023-09-15 17:22:54,947: INFO: utils: yaml file: schema.yaml loaded successfully]\n",
      "[2023-09-15 17:22:54,948: INFO: utils: Created artifacts]\n",
      "[2023-09-15 17:22:54,949: INFO: utils: Created artifacts\\transformed_data]\n",
      "[2023-09-15 17:22:54,949: INFO: utils: Created artifacts\\model]\n",
      "[2023-09-15 17:22:56,061: INFO: 371145532: data transformation done!]\n",
      "[2023-09-15 17:22:56,062: INFO: 371145532: Columns : Index(['Houston', 'LosAngeles', 'Miami', 'NewYork', 'Age',\n",
      "       'Subscription_Length_Months', 'Monthly_Bill', 'Total_Usage_GB',\n",
      "       'Gender', 'remainder__Churn'],\n",
      "      dtype='object')]\n",
      "[2023-09-15 17:22:56,064: INFO: 371145532: Columns : Index(['Houston', 'LosAngeles', 'Miami', 'NewYork', 'Age',\n",
      "       'Subscription_Length_Months', 'Monthly_Bill', 'Total_Usage_GB',\n",
      "       'Gender', 'remainder__Churn'],\n",
      "      dtype='object')]\n",
      "[2023-09-15 17:22:56,064: INFO: 371145532: (80000, 10)]\n",
      "[2023-09-15 17:22:56,065: INFO: 371145532: (80000, 10)]\n"
     ]
    }
   ],
   "source": [
    "try:\n",
    "    entity = ConfigurationManager()\n",
    "    get_entity = entity.get_data_transformation_config()\n",
    "    trans_data = TransformData(config=get_entity)\n",
    "    trans_data.initiate_data_transformation()\n",
    "except Exception as e:\n",
    "    raise CustomException(e)\n"
   ]
  },
  {
   "cell_type": "code",
   "execution_count": null,
   "metadata": {},
   "outputs": [],
   "source": []
  },
  {
   "cell_type": "code",
   "execution_count": null,
   "metadata": {},
   "outputs": [],
   "source": []
  },
  {
   "cell_type": "code",
   "execution_count": null,
   "metadata": {},
   "outputs": [],
   "source": []
  }
 ],
 "metadata": {
  "kernelspec": {
   "display_name": "Python 3",
   "language": "python",
   "name": "python3"
  },
  "language_info": {
   "codemirror_mode": {
    "name": "ipython",
    "version": 3
   },
   "file_extension": ".py",
   "mimetype": "text/x-python",
   "name": "python",
   "nbconvert_exporter": "python",
   "pygments_lexer": "ipython3",
   "version": "3.11.3"
  },
  "orig_nbformat": 4
 },
 "nbformat": 4,
 "nbformat_minor": 2
}
