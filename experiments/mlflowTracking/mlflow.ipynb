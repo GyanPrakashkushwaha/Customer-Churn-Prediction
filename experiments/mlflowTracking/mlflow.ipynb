{
 "cells": [
  {
   "cell_type": "code",
   "execution_count": 175,
   "metadata": {},
   "outputs": [
    {
     "name": "stdout",
     "output_type": "stream",
     "text": [
      "d:\\vscode_machineLearning\\internship\\Customer-Churn-Prediction\n",
      "d:\\vscode_machineLearning\\internship\\Customer-Churn-Prediction\n"
     ]
    }
   ],
   "source": [
    "import os\n",
    "print(os.getcwd())\n",
    "os.chdir('d:\\\\vscode_machineLearning\\\\internship\\\\Customer-Churn-Prediction')\n",
    "print(os.getcwd())"
   ]
  },
  {
   "cell_type": "code",
   "execution_count": 176,
   "metadata": {},
   "outputs": [],
   "source": [
    "from secret import Dagshub_PASSWORD"
   ]
  },
  {
   "cell_type": "code",
   "execution_count": 177,
   "metadata": {},
   "outputs": [],
   "source": [
    "os.environ[\"MLFLOW_TRACKING_URI\"]=\"https://dagshub.com/GyanPrakashKushwaha/Customer-Churn-Prediction.mlflow\"\n",
    "os.environ[\"MLFLOW_TRACKING_USERNAME\"]=\"GyanPrakashKushwaha\"\n",
    "os.environ[\"MLFLOW_TRACKING_PASSWORD\"]= Dagshub_PASSWORD"
   ]
  },
  {
   "cell_type": "markdown",
   "metadata": {},
   "source": [
    "## Entity"
   ]
  },
  {
   "cell_type": "code",
   "execution_count": 178,
   "metadata": {},
   "outputs": [],
   "source": [
    "from dataclasses import dataclass\n",
    "from pathlib import Path"
   ]
  },
  {
   "cell_type": "code",
   "execution_count": 179,
   "metadata": {},
   "outputs": [],
   "source": [
    "@dataclass(frozen=True)\n",
    "class MLFlowTrackingConfig:\n",
    "    mflow_dir : Path\n",
    "    test_data: Path\n",
    "    model_obj : str\n",
    "    metrics_file: str\n",
    "    params : dict\n",
    "    mlflow_uri : str\n",
    "    target_col : str"
   ]
  },
  {
   "cell_type": "markdown",
   "metadata": {},
   "source": [
    "## configuration "
   ]
  },
  {
   "cell_type": "code",
   "execution_count": 180,
   "metadata": {},
   "outputs": [],
   "source": [
    "from churnPredictor.utils import *\n",
    "from churnPredictor.constants import *"
   ]
  },
  {
   "cell_type": "code",
   "execution_count": 181,
   "metadata": {},
   "outputs": [],
   "source": [
    "class ConfigurationManager:\n",
    "    def __init__(\n",
    "        self,\n",
    "        config_file_path = CONFIG_FILE_PATH,\n",
    "        schema_file_path = SCHEMA_FILE_PATH,\n",
    "        params_file_path=PARAMS_FILE_PATH):\n",
    "\n",
    "        self.config = read_yaml(config_file_path)\n",
    "        self.schema = read_yaml(schema_file_path)\n",
    "        self.params = read_yaml(params_file_path)\n",
    "\n",
    "        create_dirs([self.config.artifacts_root])\n",
    "\n",
    "    def get_mlflow_tracking_config(self) -> MLFlowTrackingConfig:\n",
    "        config = self.config.mlflow_tracking\n",
    "        params = self.params.RandomForest\n",
    "        schema = self.schema.DEPENDET_FEATURES\n",
    "\n",
    "        # create_dirs([self.config.mflow_dir])\n",
    "\n",
    "        return MLFlowTrackingConfig(\n",
    "            mflow_dir=config.mlflow_dir,\n",
    "            test_data=config.test_data,\n",
    "            model_obj=config.model_obj_path,\n",
    "            metrics_file=config.metrics_file_name,\n",
    "            params=params,\n",
    "            target_col=schema.Churn,\n",
    "            mlflow_uri='https://dagshub.com/GyanPrakashKushwaha/Customer-Churn-Prediction.mlflow'\n",
    "        )\n",
    "\n",
    "        "
   ]
  },
  {
   "cell_type": "markdown",
   "metadata": {},
   "source": [
    "## component"
   ]
  },
  {
   "cell_type": "code",
   "execution_count": 182,
   "metadata": {},
   "outputs": [],
   "source": [
    "from churnPredictor.components.model_trainer import ModelTrainer\n",
    "from sklearn.metrics import confusion_matrix, recall_score, accuracy_score, precision_score, classification_report\n",
    "import pandas as pd\n",
    "import joblib\n",
    "import mlflow\n",
    "from urllib.parse import urlparse"
   ]
  },
  {
   "cell_type": "code",
   "execution_count": 183,
   "metadata": {},
   "outputs": [],
   "source": [
    "class TrackModelPerformance:\n",
    "    def __init__(self,config:MLFlowTrackingConfig):\n",
    "        self.config = config\n",
    "\n",
    "    def evaluate(self,true,pred):\n",
    "        \n",
    "        cm = confusion_matrix(true, pred)\n",
    "        accuracy = accuracy_score(true, pred)\n",
    "        recall = recall_score(true, pred)\n",
    "        precision = precision_score(true, pred)\n",
    "        report = classification_report(true, pred)\n",
    "\n",
    "        evaluation_report = {'confusion_matrix': cm,\n",
    "                    'accuracy': accuracy,\n",
    "                    'recall': recall,\n",
    "                    'precision': precision,\n",
    "                    'classification_report': report}\n",
    "        \n",
    "        logger.info(f'evaluation_report -> {evaluation_report}')\n",
    "        return evaluation_report\n",
    "    \n",
    "    def start_mlflow(self):\n",
    "        test_data = pd.read_csv(self.config.test_data)\n",
    "        model = joblib.load(self.config.model_obj)\n",
    "        logger.info(f'{model} loaded')\n",
    "        X_test = test_data.drop('Churn',axis=1)\n",
    "        y_test = test_data['Churn']\n",
    "\n",
    "        mlflow.set_registry_uri(self.config.mlflow_uri)\n",
    "        tracking_url_type_store = urlparse(mlflow.get_tracking_uri()).scheme\n",
    "\n",
    "        with mlflow.start_run(nested=True):\n",
    "            y_pred = model.predict(X_test)\n",
    "\n",
    "        evaluation_report = self.evaluate(true=y_test,pred=y_pred)\n",
    "        # save_json(path=Path(self.config.metrics_file),data=evaluation_report)\n",
    "\n",
    "        mlflow.log_params(self.config.params)\n",
    "        # mlflow.log_metrics(evaluation_report)\n",
    "\n",
    "        if tracking_url_type_store != 'file':\n",
    "            mlflow.sklearn.log_model(model, \"model\", registered_model_name=\"random forest\")\n",
    "        else:\n",
    "            mlflow.sklearn.log_model(model, \"model\")\n",
    "    "
   ]
  },
  {
   "cell_type": "code",
   "execution_count": 184,
   "metadata": {},
   "outputs": [
    {
     "name": "stdout",
     "output_type": "stream",
     "text": [
      "[2023-09-15 21:30:26,032: INFO: utils: yaml file: config\\config.yaml loaded successfully]\n",
      "[2023-09-15 21:30:26,034: INFO: utils: yaml file: schema.yaml loaded successfully]\n",
      "[2023-09-15 21:30:26,036: INFO: utils: yaml file: params.yaml loaded successfully]\n",
      "[2023-09-15 21:30:26,037: INFO: utils: Created artifacts]\n",
      "[2023-09-15 21:30:27,114: INFO: 3261125649: RandomForestClassifier(n_estimators=132, oob_score=True) loaded]\n",
      "[2023-09-15 21:30:29,605: INFO: 3261125649: evaluation_report -> {'confusion_matrix': array([[5285, 4827],\n",
      "       [5196, 4692]], dtype=int64), 'accuracy': 0.49885, 'recall': 0.47451456310679613, 'precision': 0.49290891900409706, 'classification_report': '              precision    recall  f1-score   support\\n\\n         0.0       0.50      0.52      0.51     10112\\n         1.0       0.49      0.47      0.48      9888\\n\\n    accuracy                           0.50     20000\\n   macro avg       0.50      0.50      0.50     20000\\nweighted avg       0.50      0.50      0.50     20000\\n'}]\n"
     ]
    }
   ],
   "source": [
    "try:\n",
    "    config = ConfigurationManager()\n",
    "    mlflow_tracking_config = config.get_mlflow_tracking_config()\n",
    "    track_model = TrackModelPerformance(config=mlflow_tracking_config)\n",
    "    track_model.start_mlflow()\n",
    "except Exception as e:\n",
    "    raise CustomException(e)"
   ]
  },
  {
   "cell_type": "code",
   "execution_count": null,
   "metadata": {},
   "outputs": [],
   "source": []
  }
 ],
 "metadata": {
  "kernelspec": {
   "display_name": "Python 3",
   "language": "python",
   "name": "python3"
  },
  "language_info": {
   "codemirror_mode": {
    "name": "ipython",
    "version": 3
   },
   "file_extension": ".py",
   "mimetype": "text/x-python",
   "name": "python",
   "nbconvert_exporter": "python",
   "pygments_lexer": "ipython3",
   "version": "3.11.3"
  },
  "orig_nbformat": 4
 },
 "nbformat": 4,
 "nbformat_minor": 2
}
