{
 "cells": [
  {
   "cell_type": "code",
   "execution_count": 49,
   "metadata": {},
   "outputs": [
    {
     "name": "stdout",
     "output_type": "stream",
     "text": [
      "d:\\vscode_machineLearning\\internship\\Customer-Churn-Prediction\n",
      "d:\\vscode_machineLearning\\internship\\Customer-Churn-Prediction\n"
     ]
    }
   ],
   "source": [
    "import os\n",
    "print(os.getcwd())\n",
    "os.chdir('d:\\\\vscode_machineLearning\\\\internship\\\\Customer-Churn-Prediction')\n",
    "print(os.getcwd())"
   ]
  },
  {
   "cell_type": "code",
   "execution_count": 50,
   "metadata": {},
   "outputs": [],
   "source": [
    "from secret import Dagshub_PASSWORD"
   ]
  },
  {
   "cell_type": "code",
   "execution_count": 51,
   "metadata": {},
   "outputs": [],
   "source": [
    "os.environ[\"MLFLOW_TRACKING_URI\"]=\"https://dagshub.com/GyanPrakashKushwaha/Customer-Churn-Prediction.mlflow\"\n",
    "os.environ[\"MLFLOW_TRACKING_USERNAME\"]=\"GyanPrakashKushwaha\"\n",
    "os.environ[\"MLFLOW_TRACKING_PASSWORD\"]= Dagshub_PASSWORD"
   ]
  },
  {
   "cell_type": "markdown",
   "metadata": {},
   "source": [
    "## Entity"
   ]
  },
  {
   "cell_type": "code",
   "execution_count": 52,
   "metadata": {},
   "outputs": [],
   "source": [
    "from dataclasses import dataclass\n",
    "from pathlib import Path\n",
    "import pickle"
   ]
  },
  {
   "cell_type": "code",
   "execution_count": 53,
   "metadata": {},
   "outputs": [],
   "source": [
    "@dataclass(frozen=True)\n",
    "class MLFlowTrackingConfig:\n",
    "    mflow_dir : Path\n",
    "    test_data: Path\n",
    "    model_obj : str\n",
    "    metrics_file: str\n",
    "    params : dict\n",
    "    mlflow_uri : str\n",
    "    target_col : str\n",
    "    confusion_metrics:str\n",
    "\n",
    "    "
   ]
  },
  {
   "cell_type": "markdown",
   "metadata": {},
   "source": [
    "## configuration "
   ]
  },
  {
   "cell_type": "code",
   "execution_count": 54,
   "metadata": {},
   "outputs": [],
   "source": [
    "from churnPredictor.utils import *\n",
    "from churnPredictor.constants import *"
   ]
  },
  {
   "cell_type": "code",
   "execution_count": 55,
   "metadata": {},
   "outputs": [],
   "source": [
    "class ConfigurationManager:\n",
    "    def __init__(\n",
    "        self,\n",
    "        config_file_path = CONFIG_FILE_PATH,\n",
    "        schema_file_path = SCHEMA_FILE_PATH,\n",
    "        params_file_path=PARAMS_FILE_PATH):\n",
    "\n",
    "        self.config = read_yaml(config_file_path)\n",
    "        self.schema = read_yaml(schema_file_path)\n",
    "        self.params = read_yaml(params_file_path)\n",
    "\n",
    "        create_dirs([self.config.artifacts_root])\n",
    "\n",
    "    def get_mlflow_tracking_config(self) -> MLFlowTrackingConfig:\n",
    "        config = self.config.mlflow_tracking\n",
    "        params = self.params.RandomForest\n",
    "        schema = self.schema.DEPENDET_FEATURES\n",
    "\n",
    "        # create_dirs([self.config.mflow_dir])\n",
    "\n",
    "        return MLFlowTrackingConfig(\n",
    "            mflow_dir=config.mlflow_dir,\n",
    "            test_data=config.test_data,\n",
    "            model_obj=config.model_obj_path,\n",
    "            metrics_file=config.metrics_file_name,\n",
    "            params=params,\n",
    "            target_col=schema.Churn,\n",
    "            mlflow_uri='https://dagshub.com/GyanPrakashKushwaha/Customer-Churn-Prediction.mlflow',\n",
    "            confusion_metrics=config.confusion_metrics\n",
    "        )\n",
    "\n",
    "        "
   ]
  },
  {
   "cell_type": "markdown",
   "metadata": {},
   "source": [
    "## component"
   ]
  },
  {
   "cell_type": "code",
   "execution_count": 56,
   "metadata": {},
   "outputs": [],
   "source": [
    "from churnPredictor.components.model_trainer import ModelTrainer\n",
    "from sklearn.metrics import confusion_matrix, recall_score, accuracy_score, precision_score, classification_report\n",
    "import pandas as pd\n",
    "import joblib\n",
    "import mlflow\n",
    "from urllib.parse import urlparse\n",
    "import json\n",
    "import seaborn as sns\n",
    "import matplotlib.pyplot as plt"
   ]
  },
  {
   "cell_type": "code",
   "execution_count": 57,
   "metadata": {},
   "outputs": [],
   "source": [
    "\n",
    "class TrackModelPerformance:\n",
    "    def __init__(self,config:MLFlowTrackingConfig):\n",
    "        self.config = config\n",
    "\n",
    "    def evaluate(self,true,pred):\n",
    "        \n",
    "        cm = confusion_matrix(true, pred)\n",
    "        sns.heatmap(data=cm,annot=True, fmt='d', cmap='Blues')\n",
    "        plt.savefig(self.config.confusion_metrics)\n",
    "        accuracy = accuracy_score(true, pred)\n",
    "        recall = recall_score(true, pred)\n",
    "        precision = precision_score(true, pred)\n",
    "        report = classification_report(true, pred)\n",
    "\n",
    "        evaluation_report = {\n",
    "                    'accuracy': accuracy,\n",
    "                    'recall': recall,\n",
    "                    'precision': precision,\n",
    "                    # 'classification_report': report\n",
    "                    }\n",
    "        \n",
    "        logger.info(f'evaluation_report -> {evaluation_report}')\n",
    "        return evaluation_report \n",
    "    \n",
    "\n",
    "    def start_mlflow(self):\n",
    "        try:\n",
    "            test_data = pd.read_csv(self.config.test_data)\n",
    "            \n",
    "            model = pickle.load(open(self.config.model_obj,'rb'))\n",
    "            logger.info(f'{model} loaded')\n",
    "            X_test = test_data.drop('Churn',axis=1)\n",
    "            y_test = test_data['Churn']\n",
    "\n",
    "            mlflow.set_registry_uri(self.config.mlflow_uri)\n",
    "            tracking_url_type_store = urlparse(mlflow.get_tracking_uri()).scheme\n",
    "\n",
    "            with mlflow.start_run():\n",
    "                y_pred = model.predict(X_test)\n",
    "                evaluation_report = self.evaluate(true=y_test,pred=y_pred)\n",
    "                with open(self.config.metrics_file, 'w') as json_file:\n",
    "                    json.dump(evaluation_report, json_file)\n",
    "                \n",
    "                mlflow.log_params(self.config.params)\n",
    "\n",
    "                for metric in evaluation_report:\n",
    "                    mlflow.log_metric(metric,evaluation_report[metric])\n",
    "                                \n",
    "            if tracking_url_type_store != 'file':\n",
    "                mlflow.sklearn.log_model(model, 'model', registered_model_name=\"random forest\")\n",
    "            else:\n",
    "                mlflow.sklearn.log_model(model, 'model', registered_model_name=\"random forest\")\n",
    "        except Exception as e:\n",
    "            raise CustomException(e)\n"
   ]
  },
  {
   "cell_type": "code",
   "execution_count": 58,
   "metadata": {},
   "outputs": [
    {
     "name": "stdout",
     "output_type": "stream",
     "text": [
      "[2023-09-16 11:29:31,892: INFO: utils: yaml file: config\\config.yaml loaded successfully]\n",
      "[2023-09-16 11:29:31,899: INFO: utils: yaml file: schema.yaml loaded successfully]\n",
      "[2023-09-16 11:29:31,905: INFO: utils: yaml file: params.yaml loaded successfully]\n",
      "[2023-09-16 11:29:31,908: INFO: utils: Created artifacts]\n"
     ]
    },
    {
     "name": "stdout",
     "output_type": "stream",
     "text": [
      "[2023-09-16 11:29:33,639: INFO: 2870689772: RandomForestClassifier(n_estimators=132, oob_score=True) loaded]\n"
     ]
    },
    {
     "ename": "CustomException",
     "evalue": "Error occured in python script name [C:\\Users\\Gyanprakash\\AppData\\Local\\Temp\\ipykernel_18760\\929068938.py] line number [5] error message [Error occured in python script name [C:\\Users\\Gyanprakash\\AppData\\Local\\Temp\\ipykernel_18760\\2870689772.py] line number [38] error message [Run with UUID e3b4215491ac4cd8bc0dbfc856ef3c17 is already active. To start a new run, first end the current run with mlflow.end_run(). To start a nested run, call start_run with nested=True]]",
     "output_type": "error",
     "traceback": [
      "\u001b[1;31m---------------------------------------------------------------------------\u001b[0m",
      "\u001b[1;31mException\u001b[0m                                 Traceback (most recent call last)",
      "\u001b[1;32md:\\vscode_machineLearning\\internship\\Customer-Churn-Prediction\\experiments\\mlflowTracking\\mlflow.ipynb Cell 13\u001b[0m line \u001b[0;36m3\n\u001b[0;32m     <a href='vscode-notebook-cell:/d%3A/vscode_machineLearning/internship/Customer-Churn-Prediction/experiments/mlflowTracking/mlflow.ipynb#X15sZmlsZQ%3D%3D?line=35'>36</a>\u001b[0m tracking_url_type_store \u001b[39m=\u001b[39m urlparse(mlflow\u001b[39m.\u001b[39mget_tracking_uri())\u001b[39m.\u001b[39mscheme\n\u001b[1;32m---> <a href='vscode-notebook-cell:/d%3A/vscode_machineLearning/internship/Customer-Churn-Prediction/experiments/mlflowTracking/mlflow.ipynb#X15sZmlsZQ%3D%3D?line=37'>38</a>\u001b[0m \u001b[39mwith\u001b[39;00m mlflow\u001b[39m.\u001b[39;49mstart_run():\n\u001b[0;32m     <a href='vscode-notebook-cell:/d%3A/vscode_machineLearning/internship/Customer-Churn-Prediction/experiments/mlflowTracking/mlflow.ipynb#X15sZmlsZQ%3D%3D?line=38'>39</a>\u001b[0m     y_pred \u001b[39m=\u001b[39m model\u001b[39m.\u001b[39mpredict(X_test)\n",
      "File \u001b[1;32md:\\vscode_machineLearning\\internship\\Customer-Churn-Prediction\\churnvenv\\Lib\\site-packages\\mlflow\\tracking\\fluent.py:271\u001b[0m, in \u001b[0;36mstart_run\u001b[1;34m(run_id, experiment_id, run_name, nested, tags, description)\u001b[0m\n\u001b[0;32m    270\u001b[0m \u001b[39mif\u001b[39;00m \u001b[39mlen\u001b[39m(_active_run_stack) \u001b[39m>\u001b[39m \u001b[39m0\u001b[39m \u001b[39mand\u001b[39;00m \u001b[39mnot\u001b[39;00m nested:\n\u001b[1;32m--> 271\u001b[0m     \u001b[39mraise\u001b[39;00m \u001b[39mException\u001b[39;00m(\n\u001b[0;32m    272\u001b[0m         (\n\u001b[0;32m    273\u001b[0m             \u001b[39m\"\u001b[39m\u001b[39mRun with UUID \u001b[39m\u001b[39m{}\u001b[39;00m\u001b[39m is already active. To start a new run, first end the \u001b[39m\u001b[39m\"\u001b[39m\n\u001b[0;32m    274\u001b[0m             \u001b[39m+\u001b[39m \u001b[39m\"\u001b[39m\u001b[39mcurrent run with mlflow.end_run(). To start a nested \u001b[39m\u001b[39m\"\u001b[39m\n\u001b[0;32m    275\u001b[0m             \u001b[39m+\u001b[39m \u001b[39m\"\u001b[39m\u001b[39mrun, call start_run with nested=True\u001b[39m\u001b[39m\"\u001b[39m\n\u001b[0;32m    276\u001b[0m         )\u001b[39m.\u001b[39mformat(_active_run_stack[\u001b[39m0\u001b[39m]\u001b[39m.\u001b[39minfo\u001b[39m.\u001b[39mrun_id)\n\u001b[0;32m    277\u001b[0m     )\n\u001b[0;32m    278\u001b[0m client \u001b[39m=\u001b[39m MlflowClient()\n",
      "\u001b[1;31mException\u001b[0m: Run with UUID e3b4215491ac4cd8bc0dbfc856ef3c17 is already active. To start a new run, first end the current run with mlflow.end_run(). To start a nested run, call start_run with nested=True",
      "\nDuring handling of the above exception, another exception occurred:\n",
      "\u001b[1;31mCustomException\u001b[0m                           Traceback (most recent call last)",
      "\u001b[1;32md:\\vscode_machineLearning\\internship\\Customer-Churn-Prediction\\experiments\\mlflowTracking\\mlflow.ipynb Cell 13\u001b[0m line \u001b[0;36m5\n\u001b[0;32m      <a href='vscode-notebook-cell:/d%3A/vscode_machineLearning/internship/Customer-Churn-Prediction/experiments/mlflowTracking/mlflow.ipynb#X15sZmlsZQ%3D%3D?line=3'>4</a>\u001b[0m     track_model \u001b[39m=\u001b[39m TrackModelPerformance(config\u001b[39m=\u001b[39mmlflow_tracking_config)\n\u001b[1;32m----> <a href='vscode-notebook-cell:/d%3A/vscode_machineLearning/internship/Customer-Churn-Prediction/experiments/mlflowTracking/mlflow.ipynb#X15sZmlsZQ%3D%3D?line=4'>5</a>\u001b[0m     track_model\u001b[39m.\u001b[39;49mstart_mlflow()\n\u001b[0;32m      <a href='vscode-notebook-cell:/d%3A/vscode_machineLearning/internship/Customer-Churn-Prediction/experiments/mlflowTracking/mlflow.ipynb#X15sZmlsZQ%3D%3D?line=5'>6</a>\u001b[0m \u001b[39mexcept\u001b[39;00m \u001b[39mException\u001b[39;00m \u001b[39mas\u001b[39;00m e:\n",
      "\u001b[1;32md:\\vscode_machineLearning\\internship\\Customer-Churn-Prediction\\experiments\\mlflowTracking\\mlflow.ipynb Cell 13\u001b[0m line \u001b[0;36m5\n\u001b[0;32m     <a href='vscode-notebook-cell:/d%3A/vscode_machineLearning/internship/Customer-Churn-Prediction/experiments/mlflowTracking/mlflow.ipynb#X15sZmlsZQ%3D%3D?line=52'>53</a>\u001b[0m \u001b[39mexcept\u001b[39;00m \u001b[39mException\u001b[39;00m \u001b[39mas\u001b[39;00m e:\n\u001b[1;32m---> <a href='vscode-notebook-cell:/d%3A/vscode_machineLearning/internship/Customer-Churn-Prediction/experiments/mlflowTracking/mlflow.ipynb#X15sZmlsZQ%3D%3D?line=53'>54</a>\u001b[0m     \u001b[39mraise\u001b[39;00m CustomException(e)\n",
      "\u001b[1;31mCustomException\u001b[0m: Error occured in python script name [C:\\Users\\Gyanprakash\\AppData\\Local\\Temp\\ipykernel_18760\\2870689772.py] line number [38] error message [Run with UUID e3b4215491ac4cd8bc0dbfc856ef3c17 is already active. To start a new run, first end the current run with mlflow.end_run(). To start a nested run, call start_run with nested=True]",
      "\nDuring handling of the above exception, another exception occurred:\n",
      "\u001b[1;31mCustomException\u001b[0m                           Traceback (most recent call last)",
      "\u001b[1;32md:\\vscode_machineLearning\\internship\\Customer-Churn-Prediction\\experiments\\mlflowTracking\\mlflow.ipynb Cell 13\u001b[0m line \u001b[0;36m7\n\u001b[0;32m      <a href='vscode-notebook-cell:/d%3A/vscode_machineLearning/internship/Customer-Churn-Prediction/experiments/mlflowTracking/mlflow.ipynb#X15sZmlsZQ%3D%3D?line=4'>5</a>\u001b[0m     track_model\u001b[39m.\u001b[39mstart_mlflow()\n\u001b[0;32m      <a href='vscode-notebook-cell:/d%3A/vscode_machineLearning/internship/Customer-Churn-Prediction/experiments/mlflowTracking/mlflow.ipynb#X15sZmlsZQ%3D%3D?line=5'>6</a>\u001b[0m \u001b[39mexcept\u001b[39;00m \u001b[39mException\u001b[39;00m \u001b[39mas\u001b[39;00m e:\n\u001b[1;32m----> <a href='vscode-notebook-cell:/d%3A/vscode_machineLearning/internship/Customer-Churn-Prediction/experiments/mlflowTracking/mlflow.ipynb#X15sZmlsZQ%3D%3D?line=6'>7</a>\u001b[0m     \u001b[39mraise\u001b[39;00m CustomException(e)\n",
      "\u001b[1;31mCustomException\u001b[0m: Error occured in python script name [C:\\Users\\Gyanprakash\\AppData\\Local\\Temp\\ipykernel_18760\\929068938.py] line number [5] error message [Error occured in python script name [C:\\Users\\Gyanprakash\\AppData\\Local\\Temp\\ipykernel_18760\\2870689772.py] line number [38] error message [Run with UUID e3b4215491ac4cd8bc0dbfc856ef3c17 is already active. To start a new run, first end the current run with mlflow.end_run(). To start a nested run, call start_run with nested=True]]"
     ]
    }
   ],
   "source": [
    "try:\n",
    "    config = ConfigurationManager()\n",
    "    mlflow_tracking_config = config.get_mlflow_tracking_config()\n",
    "    track_model = TrackModelPerformance(config=mlflow_tracking_config)\n",
    "    track_model.start_mlflow()\n",
    "except Exception as e:\n",
    "    raise CustomException(e)"
   ]
  },
  {
   "cell_type": "code",
   "execution_count": null,
   "metadata": {},
   "outputs": [],
   "source": []
  },
  {
   "cell_type": "code",
   "execution_count": null,
   "metadata": {},
   "outputs": [],
   "source": []
  },
  {
   "cell_type": "code",
   "execution_count": null,
   "metadata": {},
   "outputs": [],
   "source": []
  },
  {
   "cell_type": "code",
   "execution_count": null,
   "metadata": {},
   "outputs": [],
   "source": []
  },
  {
   "cell_type": "markdown",
   "metadata": {},
   "source": [
    "## Old code.\n",
    "```Python\n",
    "\n",
    "class TrackModelPerformance:\n",
    "    def __init__(self,config:MLFlowTrackingConfig):\n",
    "        self.config = config\n",
    "\n",
    "    def evaluate(self,true,pred):\n",
    "        \n",
    "        cm = confusion_matrix(true, pred)\n",
    "        sns.heatmap(data=cm,annot=True, fmt='d', cmap='Blues')\n",
    "        plt.savefig(self.config.confusion_metrics)\n",
    "        accuracy = accuracy_score(true, pred)\n",
    "        recall = recall_score(true, pred)\n",
    "        precision = precision_score(true, pred)\n",
    "        report = classification_report(true, pred)\n",
    "\n",
    "        evaluation_report = {\n",
    "                    'accuracy': accuracy,\n",
    "                    'recall': recall,\n",
    "                    'precision': precision,\n",
    "                    # 'classification_report': report\n",
    "                    }\n",
    "        \n",
    "        logger.info(f'evaluation_report -> {evaluation_report}')\n",
    "        return evaluation_report \n",
    "    \n",
    "\n",
    "    def create_experiment(self,experiment_name,run_name,model,metrics,confusion_matrix=None,params=None):\n",
    "        try:            \n",
    "            # mlflow.\n",
    "            mlflow.set_registry_uri(self.config.mlflow_uri)\n",
    "            self.tracking_url_type_store = urlparse(mlflow.get_tracking_uri()).scheme\n",
    "\n",
    "            mlflow.set_experiment(experiment_name=experiment_name)\n",
    "            with mlflow.start_run():\n",
    "\n",
    "                if not params == None:\n",
    "                    for i in params:\n",
    "                        mlflow.log_param(i,params[i])\n",
    "\n",
    "                for metric in metrics:\n",
    "                    mlflow.log_metric(metric,metrics[metric])\n",
    "\n",
    "\n",
    "                if not confusion_matrix == None:\n",
    "                    mlflow.log_artifact(confusion_matrix,'confusion_matrix')\n",
    "                \n",
    "                mlflow.log_param('tree',params)\n",
    "                mlflow.sklearn.log_model(model,self.config.model_obj)\n",
    "                \n",
    "                mlflow.set_tag(\"tag1\", \"Random Forest\")\n",
    "                mlflow.set_tags({\"tag2\":\"basic model\", \"tag3\":\"experimentation\"})\n",
    "\n",
    "                logger.info('Run - %s is logged to Experiment - %s' %(run_name, experiment_name))\n",
    "        except Exception as e:\n",
    "            raise CustomException(e)\n",
    "\n",
    "\n",
    "    def start_mlflow(self):\n",
    "        try:\n",
    "            test_data = pd.read_csv(self.config.test_data)\n",
    "            \n",
    "            model = pickle.load(open(self.config.model_obj,'rb'))\n",
    "            logger.info(f'{model} loaded')\n",
    "            X_test = test_data.drop('Churn',axis=1)\n",
    "            y_test = test_data['Churn']\n",
    "\n",
    "            mlflow.set_registry_uri(self.config.mlflow_uri)\n",
    "            tracking_url_type_store = urlparse(mlflow.get_tracking_uri()).scheme\n",
    "\n",
    "            y_pred = model.predict(X_test)\n",
    "            evaluation_report = self.evaluate(true=y_test,pred=y_pred)\n",
    "            with open(self.config.metrics_file, 'w') as json_file:\n",
    "                json.dump(evaluation_report, json_file)\n",
    "\n",
    "            \n",
    "            self.create_experiment(experiment_name='Random-Forest-clf',\n",
    "                                run_name='experiment_1',\n",
    "                                model=model,\n",
    "                                metrics=evaluation_report,\n",
    "                                params=self.config.params,\n",
    "                                confusion_matrix=self.config.confusion_metrics)\n",
    "\n",
    "            if tracking_url_type_store != 'file':\n",
    "                mlflow.sklearn.log_model(model, self.config.model_obj, registered_model_name=\"random forest\")\n",
    "            else:\n",
    "                mlflow.sklearn.log_model(model,  self.config.model_obj, registered_model_name=\"random forest\")\n",
    "        except Exception as e:\n",
    "            raise CustomException(e)\n",
    "\n",
    "\n",
    "```"
   ]
  }
 ],
 "metadata": {
  "kernelspec": {
   "display_name": "Python 3",
   "language": "python",
   "name": "python3"
  },
  "language_info": {
   "codemirror_mode": {
    "name": "ipython",
    "version": 3
   },
   "file_extension": ".py",
   "mimetype": "text/x-python",
   "name": "python",
   "nbconvert_exporter": "python",
   "pygments_lexer": "ipython3",
   "version": "3.11.3"
  },
  "orig_nbformat": 4
 },
 "nbformat": 4,
 "nbformat_minor": 2
}
