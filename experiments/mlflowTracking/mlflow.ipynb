{
 "cells": [
  {
   "cell_type": "code",
   "execution_count": 140,
   "metadata": {},
   "outputs": [
    {
     "name": "stdout",
     "output_type": "stream",
     "text": [
      "d:\\vscode_machineLearning\\internship\\Customer-Churn-Prediction\n",
      "d:\\vscode_machineLearning\\internship\\Customer-Churn-Prediction\n"
     ]
    }
   ],
   "source": [
    "import os\n",
    "print(os.getcwd())\n",
    "os.chdir('d:\\\\vscode_machineLearning\\\\internship\\\\Customer-Churn-Prediction')\n",
    "print(os.getcwd())"
   ]
  },
  {
   "cell_type": "code",
   "execution_count": 141,
   "metadata": {},
   "outputs": [],
   "source": [
    "from secret import Dagshub_PASSWORD"
   ]
  },
  {
   "cell_type": "code",
   "execution_count": 142,
   "metadata": {},
   "outputs": [],
   "source": [
    "os.environ[\"MLFLOW_TRACKING_URI\"]=\"https://dagshub.com/GyanPrakashKushwaha/Customer-Churn-Prediction.mlflow\"\n",
    "os.environ[\"MLFLOW_TRACKING_USERNAME\"]=\"GyanPrakashKushwaha\"\n",
    "os.environ[\"MLFLOW_TRACKING_PASSWORD\"]= Dagshub_PASSWORD"
   ]
  },
  {
   "cell_type": "markdown",
   "metadata": {},
   "source": [
    "## Entity"
   ]
  },
  {
   "cell_type": "code",
   "execution_count": 143,
   "metadata": {},
   "outputs": [],
   "source": [
    "from dataclasses import dataclass\n",
    "from pathlib import Path"
   ]
  },
  {
   "cell_type": "code",
   "execution_count": 144,
   "metadata": {},
   "outputs": [],
   "source": [
    "@dataclass(frozen=True)\n",
    "class MLFlowTrackingConfig:\n",
    "    mflow_dir : Path\n",
    "    test_data: Path\n",
    "    model_obj : str\n",
    "    metrics_file: str\n",
    "    params : dict\n",
    "    mlflow_uri : str\n",
    "    target_col : str\n",
    "\n",
    "    "
   ]
  },
  {
   "cell_type": "markdown",
   "metadata": {},
   "source": [
    "## configuration "
   ]
  },
  {
   "cell_type": "code",
   "execution_count": 145,
   "metadata": {},
   "outputs": [],
   "source": [
    "from churnPredictor.utils import *\n",
    "from churnPredictor.constants import *"
   ]
  },
  {
   "cell_type": "code",
   "execution_count": 146,
   "metadata": {},
   "outputs": [],
   "source": [
    "class ConfigurationManager:\n",
    "    def __init__(\n",
    "        self,\n",
    "        config_file_path = CONFIG_FILE_PATH,\n",
    "        schema_file_path = SCHEMA_FILE_PATH,\n",
    "        params_file_path=PARAMS_FILE_PATH):\n",
    "\n",
    "        self.config = read_yaml(config_file_path)\n",
    "        self.schema = read_yaml(schema_file_path)\n",
    "        self.params = read_yaml(params_file_path)\n",
    "\n",
    "        create_dirs([self.config.artifacts_root])\n",
    "\n",
    "    def get_mlflow_tracking_config(self) -> MLFlowTrackingConfig:\n",
    "        config = self.config.mlflow_tracking\n",
    "        params = self.params.RandomForest\n",
    "        schema = self.schema.DEPENDET_FEATURES\n",
    "\n",
    "        # create_dirs([self.config.mflow_dir])\n",
    "\n",
    "        return MLFlowTrackingConfig(\n",
    "            mflow_dir=config.mlflow_dir,\n",
    "            test_data=config.test_data,\n",
    "            model_obj=config.model_obj_path,\n",
    "            metrics_file=config.metrics_file_name,\n",
    "            params=params,\n",
    "            target_col=schema.Churn,\n",
    "            mlflow_uri='https://dagshub.com/GyanPrakashKushwaha/Customer-Churn-Prediction.mlflow'\n",
    "        )\n",
    "\n",
    "        "
   ]
  },
  {
   "cell_type": "markdown",
   "metadata": {},
   "source": [
    "## component"
   ]
  },
  {
   "cell_type": "code",
   "execution_count": 147,
   "metadata": {},
   "outputs": [],
   "source": [
    "from churnPredictor.components.model_trainer import ModelTrainer\n",
    "from sklearn.metrics import confusion_matrix, recall_score, accuracy_score, precision_score, classification_report\n",
    "import pandas as pd\n",
    "import joblib\n",
    "import mlflow\n",
    "from urllib.parse import urlparse\n",
    "import json"
   ]
  },
  {
   "cell_type": "code",
   "execution_count": 148,
   "metadata": {},
   "outputs": [],
   "source": [
    "class TrackModelPerformance:\n",
    "    def __init__(self,config:MLFlowTrackingConfig):\n",
    "        self.config = config\n",
    "\n",
    "    def evaluate(self,true,pred):\n",
    "        \n",
    "        # cm = confusion_matrix(true, pred)\n",
    "        accuracy = accuracy_score(true, pred)\n",
    "        recall = recall_score(true, pred)\n",
    "        precision = precision_score(true, pred)\n",
    "        report = classification_report(true, pred)\n",
    "\n",
    "        evaluation_report = {\n",
    "                    # 'confusion_matrix': cm,\n",
    "                    'accuracy': accuracy,\n",
    "                    'recall': recall,\n",
    "                    'precision': precision,\n",
    "                    # 'classification_report': report\n",
    "                    }\n",
    "        \n",
    "        logger.info(f'evaluation_report -> {evaluation_report}')\n",
    "        return evaluation_report\n",
    "    \n",
    "#================================================================================================================================#\n",
    "\n",
    "    def create_experiment(self,experiment_name,run_name,model,metrics,confusion_matrix=None,params=None):\n",
    "        mlflow.set_registry_uri(self.config.mlflow_uri)\n",
    "        self.tracking_url_type_store = urlparse(mlflow.get_tracking_uri()).scheme\n",
    "\n",
    "        mlflow.set_experiment(experiment_name=experiment_name)\n",
    "        with mlflow.start_run():\n",
    "\n",
    "            # if not params == None:\n",
    "            #     for i in params:\n",
    "            #         mlflow.log_param(params,params[i])\n",
    "\n",
    "            # for metric in metrics:\n",
    "            #     mlflow.log_metric(metric,metrics[metric])\n",
    "\n",
    "            # mlflow.sklearn.log_model(model,self.config.model_obj)\n",
    "\n",
    "            # if not confusion_matrix == None:\n",
    "            #     mlflow.log_artifact(confusion_matrix,'confusion_matrix')\n",
    "            \n",
    "            # mlflow.log_metric('mse',323)\n",
    "            # mlflow.log_param('tree',100)\n",
    "            # mlflow.sklearn.log_model(model,self.config.model_obj)\n",
    "            \n",
    "            mlflow.set_tag(\"tag1\", \"Random Forest\")\n",
    "            mlflow.set_tags({\"tag2\":\"basic model\", \"tag3\":\"experimentation\"})\n",
    "\n",
    "            logger.info('Run - %s is logged to Experiment - %s' %(run_name, experiment_name))\n",
    "\n",
    "\n",
    "    def start_mlflow(self):\n",
    "        test_data = pd.read_csv(self.config.test_data)\n",
    "        model = joblib.load(self.config.model_obj)\n",
    "        logger.info(f'{model} loaded')\n",
    "        X_test = test_data.drop('Churn',axis=1)\n",
    "        y_test = test_data['Churn']\n",
    "\n",
    "        mlflow.set_registry_uri(self.config.mlflow_uri)\n",
    "        tracking_url_type_store = urlparse(mlflow.get_tracking_uri()).scheme\n",
    "\n",
    "        y_pred = model.predict(X_test)\n",
    "        evaluation_report = self.evaluate(true=y_test,pred=y_pred)\n",
    "        # save_json(path=Path(self.config.metrics_file),data=evaluation_report)\n",
    "        # json.dump(evaluation_report,self.config.metrics_file)\n",
    "        with open(self.config.metrics_file, 'w') as json_file:\n",
    "            json.dump(evaluation_report, json_file)\n",
    "\n",
    "        \n",
    "        self.create_experiment(experiment_name='Random-Forest-Experiment',\n",
    "                               run_name='experiment_1',\n",
    "                               model=model,\n",
    "                               metrics=evaluation_report,\n",
    "                               params=self.config.params)\n",
    "\n",
    "        if tracking_url_type_store != 'file':\n",
    "            mlflow.sklearn.log_model(model, self.config.model_obj, registered_model_name=\"random forest\")\n",
    "        else:\n",
    "            mlflow.sklearn.log_model(model,  self.config.model_obj, registered_model_name=\"random forest\")\n",
    "    "
   ]
  },
  {
   "cell_type": "code",
   "execution_count": 149,
   "metadata": {},
   "outputs": [
    {
     "name": "stdout",
     "output_type": "stream",
     "text": [
      "[2023-09-16 08:06:09,333: INFO: utils: yaml file: config\\config.yaml loaded successfully]\n",
      "[2023-09-16 08:06:09,335: INFO: utils: yaml file: schema.yaml loaded successfully]\n",
      "[2023-09-16 08:06:09,336: INFO: utils: yaml file: params.yaml loaded successfully]\n",
      "[2023-09-16 08:06:09,338: INFO: utils: Created artifacts]\n",
      "[2023-09-16 08:06:10,321: INFO: 151657473: RandomForestClassifier(n_estimators=132, oob_score=True) loaded]\n",
      "[2023-09-16 08:06:11,370: INFO: 151657473: evaluation_report -> {'accuracy': 0.49885, 'recall': 0.47451456310679613, 'precision': 0.49290891900409706}]\n"
     ]
    },
    {
     "name": "stderr",
     "output_type": "stream",
     "text": [
      "2023/09/16 08:06:12 INFO mlflow.tracking.fluent: Experiment with name 'Random-Forest-Experiment' does not exist. Creating a new experiment.\n"
     ]
    },
    {
     "ename": "CustomException",
     "evalue": "Error occured in python script name [C:\\Users\\Gyanprakash\\AppData\\Local\\Temp\\ipykernel_7828\\929068938.py] line number [5] error message [Run with UUID 0597ea94eb7241a0a148aeebc55c8ed7 is already active. To start a new run, first end the current run with mlflow.end_run(). To start a nested run, call start_run with nested=True]",
     "output_type": "error",
     "traceback": [
      "\u001b[1;31m---------------------------------------------------------------------------\u001b[0m",
      "\u001b[1;31mException\u001b[0m                                 Traceback (most recent call last)",
      "\u001b[1;32md:\\vscode_machineLearning\\internship\\Customer-Churn-Prediction\\experiments\\mlflowTracking\\mlflow.ipynb Cell 13\u001b[0m line \u001b[0;36m5\n\u001b[0;32m      <a href='vscode-notebook-cell:/d%3A/vscode_machineLearning/internship/Customer-Churn-Prediction/experiments/mlflowTracking/mlflow.ipynb#X16sZmlsZQ%3D%3D?line=3'>4</a>\u001b[0m     track_model \u001b[39m=\u001b[39m TrackModelPerformance(config\u001b[39m=\u001b[39mmlflow_tracking_config)\n\u001b[1;32m----> <a href='vscode-notebook-cell:/d%3A/vscode_machineLearning/internship/Customer-Churn-Prediction/experiments/mlflowTracking/mlflow.ipynb#X16sZmlsZQ%3D%3D?line=4'>5</a>\u001b[0m     track_model\u001b[39m.\u001b[39;49mstart_mlflow()\n\u001b[0;32m      <a href='vscode-notebook-cell:/d%3A/vscode_machineLearning/internship/Customer-Churn-Prediction/experiments/mlflowTracking/mlflow.ipynb#X16sZmlsZQ%3D%3D?line=5'>6</a>\u001b[0m \u001b[39mexcept\u001b[39;00m \u001b[39mException\u001b[39;00m \u001b[39mas\u001b[39;00m e:\n",
      "\u001b[1;32md:\\vscode_machineLearning\\internship\\Customer-Churn-Prediction\\experiments\\mlflowTracking\\mlflow.ipynb Cell 13\u001b[0m line \u001b[0;36m7\n\u001b[0;32m     <a href='vscode-notebook-cell:/d%3A/vscode_machineLearning/internship/Customer-Churn-Prediction/experiments/mlflowTracking/mlflow.ipynb#X16sZmlsZQ%3D%3D?line=69'>70</a>\u001b[0m     json\u001b[39m.\u001b[39mdump(evaluation_report, json_file)\n\u001b[1;32m---> <a href='vscode-notebook-cell:/d%3A/vscode_machineLearning/internship/Customer-Churn-Prediction/experiments/mlflowTracking/mlflow.ipynb#X16sZmlsZQ%3D%3D?line=72'>73</a>\u001b[0m \u001b[39mself\u001b[39;49m\u001b[39m.\u001b[39;49mcreate_experiment(experiment_name\u001b[39m=\u001b[39;49m\u001b[39m'\u001b[39;49m\u001b[39mRandom-Forest-Experiment\u001b[39;49m\u001b[39m'\u001b[39;49m,\n\u001b[0;32m     <a href='vscode-notebook-cell:/d%3A/vscode_machineLearning/internship/Customer-Churn-Prediction/experiments/mlflowTracking/mlflow.ipynb#X16sZmlsZQ%3D%3D?line=73'>74</a>\u001b[0m                        run_name\u001b[39m=\u001b[39;49m\u001b[39m'\u001b[39;49m\u001b[39mexperiment_1\u001b[39;49m\u001b[39m'\u001b[39;49m,\n\u001b[0;32m     <a href='vscode-notebook-cell:/d%3A/vscode_machineLearning/internship/Customer-Churn-Prediction/experiments/mlflowTracking/mlflow.ipynb#X16sZmlsZQ%3D%3D?line=74'>75</a>\u001b[0m                        model\u001b[39m=\u001b[39;49mmodel,\n\u001b[0;32m     <a href='vscode-notebook-cell:/d%3A/vscode_machineLearning/internship/Customer-Churn-Prediction/experiments/mlflowTracking/mlflow.ipynb#X16sZmlsZQ%3D%3D?line=75'>76</a>\u001b[0m                        metrics\u001b[39m=\u001b[39;49mevaluation_report,\n\u001b[0;32m     <a href='vscode-notebook-cell:/d%3A/vscode_machineLearning/internship/Customer-Churn-Prediction/experiments/mlflowTracking/mlflow.ipynb#X16sZmlsZQ%3D%3D?line=76'>77</a>\u001b[0m                        params\u001b[39m=\u001b[39;49m\u001b[39mself\u001b[39;49m\u001b[39m.\u001b[39;49mconfig\u001b[39m.\u001b[39;49mparams)\n\u001b[0;32m     <a href='vscode-notebook-cell:/d%3A/vscode_machineLearning/internship/Customer-Churn-Prediction/experiments/mlflowTracking/mlflow.ipynb#X16sZmlsZQ%3D%3D?line=78'>79</a>\u001b[0m \u001b[39mif\u001b[39;00m tracking_url_type_store \u001b[39m!=\u001b[39m \u001b[39m'\u001b[39m\u001b[39mfile\u001b[39m\u001b[39m'\u001b[39m:\n",
      "\u001b[1;32md:\\vscode_machineLearning\\internship\\Customer-Churn-Prediction\\experiments\\mlflowTracking\\mlflow.ipynb Cell 13\u001b[0m line \u001b[0;36m3\n\u001b[0;32m     <a href='vscode-notebook-cell:/d%3A/vscode_machineLearning/internship/Customer-Churn-Prediction/experiments/mlflowTracking/mlflow.ipynb#X16sZmlsZQ%3D%3D?line=29'>30</a>\u001b[0m mlflow\u001b[39m.\u001b[39mset_experiment(experiment_name\u001b[39m=\u001b[39mexperiment_name)\n\u001b[1;32m---> <a href='vscode-notebook-cell:/d%3A/vscode_machineLearning/internship/Customer-Churn-Prediction/experiments/mlflowTracking/mlflow.ipynb#X16sZmlsZQ%3D%3D?line=30'>31</a>\u001b[0m \u001b[39mwith\u001b[39;00m mlflow\u001b[39m.\u001b[39;49mstart_run():\n\u001b[0;32m     <a href='vscode-notebook-cell:/d%3A/vscode_machineLearning/internship/Customer-Churn-Prediction/experiments/mlflowTracking/mlflow.ipynb#X16sZmlsZQ%3D%3D?line=31'>32</a>\u001b[0m \n\u001b[0;32m     <a href='vscode-notebook-cell:/d%3A/vscode_machineLearning/internship/Customer-Churn-Prediction/experiments/mlflowTracking/mlflow.ipynb#X16sZmlsZQ%3D%3D?line=32'>33</a>\u001b[0m     \u001b[39m# if not params == None:\u001b[39;00m\n\u001b[0;32m     <a href='vscode-notebook-cell:/d%3A/vscode_machineLearning/internship/Customer-Churn-Prediction/experiments/mlflowTracking/mlflow.ipynb#X16sZmlsZQ%3D%3D?line=33'>34</a>\u001b[0m     \u001b[39m#     for i in params:\u001b[39;00m\n\u001b[0;32m     <a href='vscode-notebook-cell:/d%3A/vscode_machineLearning/internship/Customer-Churn-Prediction/experiments/mlflowTracking/mlflow.ipynb#X16sZmlsZQ%3D%3D?line=34'>35</a>\u001b[0m     \u001b[39m#         mlflow.log_param(params,params[i])\u001b[39;00m\n\u001b[0;32m     <a href='vscode-notebook-cell:/d%3A/vscode_machineLearning/internship/Customer-Churn-Prediction/experiments/mlflowTracking/mlflow.ipynb#X16sZmlsZQ%3D%3D?line=35'>36</a>\u001b[0m \n\u001b[0;32m     <a href='vscode-notebook-cell:/d%3A/vscode_machineLearning/internship/Customer-Churn-Prediction/experiments/mlflowTracking/mlflow.ipynb#X16sZmlsZQ%3D%3D?line=36'>37</a>\u001b[0m     \u001b[39m# for metric in metrics:\u001b[39;00m\n\u001b[0;32m     <a href='vscode-notebook-cell:/d%3A/vscode_machineLearning/internship/Customer-Churn-Prediction/experiments/mlflowTracking/mlflow.ipynb#X16sZmlsZQ%3D%3D?line=37'>38</a>\u001b[0m     \u001b[39m#     mlflow.log_metric(metric,metrics[metric])\u001b[39;00m\n\u001b[0;32m     <a href='vscode-notebook-cell:/d%3A/vscode_machineLearning/internship/Customer-Churn-Prediction/experiments/mlflowTracking/mlflow.ipynb#X16sZmlsZQ%3D%3D?line=38'>39</a>\u001b[0m \n\u001b[0;32m     <a href='vscode-notebook-cell:/d%3A/vscode_machineLearning/internship/Customer-Churn-Prediction/experiments/mlflowTracking/mlflow.ipynb#X16sZmlsZQ%3D%3D?line=39'>40</a>\u001b[0m     \u001b[39m# mlflow.sklearn.log_model(model,self.config.model_obj)\u001b[39;00m\n\u001b[0;32m     <a href='vscode-notebook-cell:/d%3A/vscode_machineLearning/internship/Customer-Churn-Prediction/experiments/mlflowTracking/mlflow.ipynb#X16sZmlsZQ%3D%3D?line=40'>41</a>\u001b[0m \n\u001b[0;32m     <a href='vscode-notebook-cell:/d%3A/vscode_machineLearning/internship/Customer-Churn-Prediction/experiments/mlflowTracking/mlflow.ipynb#X16sZmlsZQ%3D%3D?line=41'>42</a>\u001b[0m     \u001b[39m# if not confusion_matrix == None:\u001b[39;00m\n\u001b[0;32m     <a href='vscode-notebook-cell:/d%3A/vscode_machineLearning/internship/Customer-Churn-Prediction/experiments/mlflowTracking/mlflow.ipynb#X16sZmlsZQ%3D%3D?line=42'>43</a>\u001b[0m     \u001b[39m#     mlflow.log_artifact(confusion_matrix,'confusion_matrix')\u001b[39;00m\n\u001b[0;32m     <a href='vscode-notebook-cell:/d%3A/vscode_machineLearning/internship/Customer-Churn-Prediction/experiments/mlflowTracking/mlflow.ipynb#X16sZmlsZQ%3D%3D?line=43'>44</a>\u001b[0m     \n\u001b[0;32m     <a href='vscode-notebook-cell:/d%3A/vscode_machineLearning/internship/Customer-Churn-Prediction/experiments/mlflowTracking/mlflow.ipynb#X16sZmlsZQ%3D%3D?line=44'>45</a>\u001b[0m     \u001b[39m# mlflow.log_metric('mse',323)\u001b[39;00m\n\u001b[0;32m     <a href='vscode-notebook-cell:/d%3A/vscode_machineLearning/internship/Customer-Churn-Prediction/experiments/mlflowTracking/mlflow.ipynb#X16sZmlsZQ%3D%3D?line=45'>46</a>\u001b[0m     \u001b[39m# mlflow.log_param('tree',100)\u001b[39;00m\n\u001b[0;32m     <a href='vscode-notebook-cell:/d%3A/vscode_machineLearning/internship/Customer-Churn-Prediction/experiments/mlflowTracking/mlflow.ipynb#X16sZmlsZQ%3D%3D?line=46'>47</a>\u001b[0m     \u001b[39m# mlflow.sklearn.log_model(model,self.config.model_obj)\u001b[39;00m\n\u001b[0;32m     <a href='vscode-notebook-cell:/d%3A/vscode_machineLearning/internship/Customer-Churn-Prediction/experiments/mlflowTracking/mlflow.ipynb#X16sZmlsZQ%3D%3D?line=48'>49</a>\u001b[0m     mlflow\u001b[39m.\u001b[39mset_tag(\u001b[39m\"\u001b[39m\u001b[39mtag1\u001b[39m\u001b[39m\"\u001b[39m, \u001b[39m\"\u001b[39m\u001b[39mRandom Forest\u001b[39m\u001b[39m\"\u001b[39m)\n",
      "File \u001b[1;32md:\\vscode_machineLearning\\internship\\Customer-Churn-Prediction\\churnvenv\\Lib\\site-packages\\mlflow\\tracking\\fluent.py:286\u001b[0m, in \u001b[0;36mstart_run\u001b[1;34m(run_id, experiment_id, run_name, nested, tags, description)\u001b[0m\n\u001b[0;32m    285\u001b[0m     existing_run_id \u001b[39m=\u001b[39m \u001b[39mNone\u001b[39;00m\n\u001b[1;32m--> 286\u001b[0m \u001b[39mif\u001b[39;00m existing_run_id:\n\u001b[0;32m    287\u001b[0m     _validate_run_id(existing_run_id)\n",
      "\u001b[1;31mException\u001b[0m: Run with UUID 0597ea94eb7241a0a148aeebc55c8ed7 is already active. To start a new run, first end the current run with mlflow.end_run(). To start a nested run, call start_run with nested=True",
      "\nDuring handling of the above exception, another exception occurred:\n",
      "\u001b[1;31mCustomException\u001b[0m                           Traceback (most recent call last)",
      "\u001b[1;32md:\\vscode_machineLearning\\internship\\Customer-Churn-Prediction\\experiments\\mlflowTracking\\mlflow.ipynb Cell 13\u001b[0m line \u001b[0;36m7\n\u001b[0;32m      <a href='vscode-notebook-cell:/d%3A/vscode_machineLearning/internship/Customer-Churn-Prediction/experiments/mlflowTracking/mlflow.ipynb#X16sZmlsZQ%3D%3D?line=4'>5</a>\u001b[0m     track_model\u001b[39m.\u001b[39mstart_mlflow()\n\u001b[0;32m      <a href='vscode-notebook-cell:/d%3A/vscode_machineLearning/internship/Customer-Churn-Prediction/experiments/mlflowTracking/mlflow.ipynb#X16sZmlsZQ%3D%3D?line=5'>6</a>\u001b[0m \u001b[39mexcept\u001b[39;00m \u001b[39mException\u001b[39;00m \u001b[39mas\u001b[39;00m e:\n\u001b[1;32m----> <a href='vscode-notebook-cell:/d%3A/vscode_machineLearning/internship/Customer-Churn-Prediction/experiments/mlflowTracking/mlflow.ipynb#X16sZmlsZQ%3D%3D?line=6'>7</a>\u001b[0m     \u001b[39mraise\u001b[39;00m CustomException(e)\n",
      "\u001b[1;31mCustomException\u001b[0m: Error occured in python script name [C:\\Users\\Gyanprakash\\AppData\\Local\\Temp\\ipykernel_7828\\929068938.py] line number [5] error message [Run with UUID 0597ea94eb7241a0a148aeebc55c8ed7 is already active. To start a new run, first end the current run with mlflow.end_run(). To start a nested run, call start_run with nested=True]"
     ]
    }
   ],
   "source": [
    "try:\n",
    "    config = ConfigurationManager()\n",
    "    mlflow_tracking_config = config.get_mlflow_tracking_config()\n",
    "    track_model = TrackModelPerformance(config=mlflow_tracking_config)\n",
    "    track_model.start_mlflow()\n",
    "except Exception as e:\n",
    "    raise CustomException(e)"
   ]
  },
  {
   "cell_type": "code",
   "execution_count": null,
   "metadata": {},
   "outputs": [],
   "source": []
  }
 ],
 "metadata": {
  "kernelspec": {
   "display_name": "Python 3",
   "language": "python",
   "name": "python3"
  },
  "language_info": {
   "codemirror_mode": {
    "name": "ipython",
    "version": 3
   },
   "file_extension": ".py",
   "mimetype": "text/x-python",
   "name": "python",
   "nbconvert_exporter": "python",
   "pygments_lexer": "ipython3",
   "version": "3.11.3"
  },
  "orig_nbformat": 4
 },
 "nbformat": 4,
 "nbformat_minor": 2
}
