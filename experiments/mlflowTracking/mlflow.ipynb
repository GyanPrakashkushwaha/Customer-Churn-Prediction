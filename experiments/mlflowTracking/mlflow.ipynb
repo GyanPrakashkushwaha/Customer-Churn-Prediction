{
 "cells": [
  {
   "cell_type": "code",
   "execution_count": 3,
   "metadata": {},
   "outputs": [
    {
     "name": "stdout",
     "output_type": "stream",
     "text": [
      "d:\\vscode_machineLearning\\internship\\Customer-Churn-Prediction\n",
      "d:\\vscode_machineLearning\\internship\\Customer-Churn-Prediction\n"
     ]
    }
   ],
   "source": [
    "import os\n",
    "print(os.getcwd())\n",
    "os.chdir('d:\\\\vscode_machineLearning\\\\internship\\\\Customer-Churn-Prediction')\n",
    "print(os.getcwd())"
   ]
  },
  {
   "cell_type": "code",
   "execution_count": 4,
   "metadata": {},
   "outputs": [],
   "source": [
    "os.environ[\"MLFLOW_TRACKING_URI\"]=\"https://dagshub.com/GyanPrakashKushwaha/Customer-Churn-Prediction.mlflow\"\n",
    "os.environ[\"MLFLOW_TRACKING_USERNAME\"]=\"GyanPrakashKushwaha\"\n",
    "os.environ[\"MLFLOW_TRACKING_PASSWORD\"]= '53950624aa84e08b2bd1dfb3c0778ff66c4e7d05'"
   ]
  },
  {
   "cell_type": "markdown",
   "metadata": {},
   "source": [
    "## Entity"
   ]
  },
  {
   "cell_type": "code",
   "execution_count": 5,
   "metadata": {},
   "outputs": [],
   "source": [
    "from dataclasses import dataclass\n",
    "from pathlib import Path\n",
    "import pickle"
   ]
  },
  {
   "cell_type": "code",
   "execution_count": 6,
   "metadata": {},
   "outputs": [],
   "source": [
    "@dataclass(frozen=True)\n",
    "class MLFlowTrackingConfig:\n",
    "    mflow_dir : Path\n",
    "    test_data: Path\n",
    "    model_obj : str\n",
    "    metrics_file: str\n",
    "    params : dict\n",
    "    mlflow_uri : str\n",
    "    target_col : str\n",
    "    confusion_metrics:str\n",
    "\n",
    "    "
   ]
  },
  {
   "cell_type": "markdown",
   "metadata": {},
   "source": [
    "## configuration "
   ]
  },
  {
   "cell_type": "code",
   "execution_count": 7,
   "metadata": {},
   "outputs": [],
   "source": [
    "from churnPredictor.utils import *\n",
    "from churnPredictor.constants import *"
   ]
  },
  {
   "cell_type": "code",
   "execution_count": 8,
   "metadata": {},
   "outputs": [],
   "source": [
    "class ConfigurationManager:\n",
    "    def __init__(\n",
    "        self,\n",
    "        config_file_path = CONFIG_FILE_PATH,\n",
    "        schema_file_path = SCHEMA_FILE_PATH,\n",
    "        params_file_path=PARAMS_FILE_PATH):\n",
    "\n",
    "        self.config = read_yaml(config_file_path)\n",
    "        self.schema = read_yaml(schema_file_path)\n",
    "        self.params = read_yaml(params_file_path)\n",
    "\n",
    "        create_dirs([self.config.artifacts_root])\n",
    "\n",
    "    def get_mlflow_tracking_config(self) -> MLFlowTrackingConfig:\n",
    "        config = self.config.mlflow_tracking\n",
    "        params = self.params.RandomForest\n",
    "        schema = self.schema.DEPENDET_FEATURES\n",
    "\n",
    "        # create_dirs([self.config.mflow_dir])\n",
    "\n",
    "        return MLFlowTrackingConfig(\n",
    "            mflow_dir=config.mlflow_dir,\n",
    "            test_data=config.test_data,\n",
    "            model_obj=config.model_obj_path,\n",
    "            metrics_file=config.metrics_file_name,\n",
    "            params=params,\n",
    "            target_col=schema.Churn,\n",
    "            mlflow_uri='https://dagshub.com/GyanPrakashKushwaha/Customer-Churn-Prediction.mlflow',\n",
    "            confusion_metrics=config.confusion_metrics\n",
    "        )\n",
    "\n",
    "        "
   ]
  },
  {
   "cell_type": "markdown",
   "metadata": {},
   "source": [
    "## component"
   ]
  },
  {
   "cell_type": "code",
   "execution_count": 9,
   "metadata": {},
   "outputs": [],
   "source": [
    "from churnPredictor.components.model_trainer import ModelTrainer\n",
    "from sklearn.metrics import confusion_matrix, recall_score, accuracy_score, precision_score, classification_report\n",
    "import pandas as pd\n",
    "import joblib\n",
    "import mlflow\n",
    "from urllib.parse import urlparse\n",
    "import json\n",
    "import seaborn as sns\n",
    "import matplotlib.pyplot as plt"
   ]
  },
  {
   "cell_type": "code",
   "execution_count": 10,
   "metadata": {},
   "outputs": [],
   "source": [
    "\n",
    "class TrackModelPerformance:\n",
    "    def __init__(self,config:MLFlowTrackingConfig):\n",
    "        self.config = config\n",
    "\n",
    "    def evaluate(self,true,pred):\n",
    "        \n",
    "        cm = confusion_matrix(true, pred)\n",
    "        sns.heatmap(data=cm,annot=True, fmt='d', cmap='Blues')\n",
    "        plt.savefig(self.config.confusion_metrics)\n",
    "        accuracy = accuracy_score(true, pred)\n",
    "        recall = recall_score(true, pred)\n",
    "        precision = precision_score(true, pred)\n",
    "        report = classification_report(true, pred)\n",
    "\n",
    "        evaluation_report = {\n",
    "                    'accuracy': accuracy,\n",
    "                    'recall': recall,\n",
    "                    'precision': precision,\n",
    "                    # 'classification_report': report\n",
    "                    }\n",
    "        \n",
    "        logger.info(f'evaluation_report -> {evaluation_report}')\n",
    "        return evaluation_report \n",
    "    \n",
    "\n",
    "    def start_mlflow(self):\n",
    "        try:\n",
    "            test_data = pd.read_csv(self.config.test_data)\n",
    "            \n",
    "            model = pickle.load(open(self.config.model_obj,'rb'))\n",
    "            logger.info(f'{model} loaded')\n",
    "            X_test = test_data.drop('Churn',axis=1)\n",
    "            y_test = test_data['Churn']\n",
    "\n",
    "            mlflow.set_registry_uri(self.config.mlflow_uri)\n",
    "            tracking_url_type_store = urlparse(mlflow.get_tracking_uri()).scheme\n",
    "\n",
    "            with mlflow.start_run():\n",
    "                y_pred = model.predict(X_test)\n",
    "                evaluation_report = self.evaluate(true=y_test,pred=y_pred)\n",
    "                with open(self.config.metrics_file, 'w') as json_file:\n",
    "                    json.dump(evaluation_report, json_file)\n",
    "                \n",
    "                mlflow.log_params(self.config.params)\n",
    "\n",
    "                for metric in evaluation_report:\n",
    "                    mlflow.log_metric(metric,evaluation_report[metric])\n",
    "                                \n",
    "            if tracking_url_type_store != 'file':\n",
    "                mlflow.sklearn.log_model(model, 'model', registered_model_name=\"random forest\")\n",
    "            else:\n",
    "                mlflow.sklearn.log_model(model, 'model', registered_model_name=\"random forest\")\n",
    "        except Exception as e:\n",
    "            raise CustomException(e)\n"
   ]
  },
  {
   "cell_type": "code",
   "execution_count": 11,
   "metadata": {},
   "outputs": [
    {
     "name": "stdout",
     "output_type": "stream",
     "text": [
      "[2023-09-16 22:00:00,375: INFO: utils: yaml file: config\\config.yaml loaded successfully]\n",
      "[2023-09-16 22:00:00,377: INFO: utils: yaml file: schema.yaml loaded successfully]\n",
      "[2023-09-16 22:00:00,390: INFO: utils: yaml file: params.yaml loaded successfully]\n",
      "[2023-09-16 22:00:00,391: INFO: utils: Created artifacts]\n"
     ]
    },
    {
     "ename": "CustomException",
     "evalue": "Error occured in python script name [C:\\Users\\Gyanprakash\\AppData\\Local\\Temp\\ipykernel_5160\\929068938.py] line number [3] error message [\"'ConfigBox' object has no attribute 'randomforest'\"]",
     "output_type": "error",
     "traceback": [
      "\u001b[1;31m---------------------------------------------------------------------------\u001b[0m",
      "\u001b[1;31mKeyError\u001b[0m                                  Traceback (most recent call last)",
      "File \u001b[1;32md:\\vscode_machineLearning\\internship\\Customer-Churn-Prediction\\churnvenv\\Lib\\site-packages\\box\\box.py:503\u001b[0m, in \u001b[0;36mBox.__getitem__\u001b[1;34m(self, item, _ignore_default)\u001b[0m\n\u001b[0;32m    502\u001b[0m \u001b[39mtry\u001b[39;00m:\n\u001b[1;32m--> 503\u001b[0m     \u001b[39mreturn\u001b[39;00m \u001b[39msuper\u001b[39;49m()\u001b[39m.\u001b[39;49m\u001b[39m__getitem__\u001b[39;49m(item)\n\u001b[0;32m    504\u001b[0m \u001b[39mexcept\u001b[39;00m \u001b[39mKeyError\u001b[39;00m \u001b[39mas\u001b[39;00m err:\n",
      "\u001b[1;31mKeyError\u001b[0m: 'RandomForest'",
      "\nThe above exception was the direct cause of the following exception:\n",
      "\u001b[1;31mBoxKeyError\u001b[0m                               Traceback (most recent call last)",
      "File \u001b[1;32md:\\vscode_machineLearning\\internship\\Customer-Churn-Prediction\\churnvenv\\Lib\\site-packages\\box\\box.py:536\u001b[0m, in \u001b[0;36mBox.__getattr__\u001b[1;34m(self, item)\u001b[0m\n\u001b[0;32m    535\u001b[0m \u001b[39mtry\u001b[39;00m:\n\u001b[1;32m--> 536\u001b[0m     value \u001b[39m=\u001b[39m \u001b[39mself\u001b[39;49m\u001b[39m.\u001b[39;49m\u001b[39m__getitem__\u001b[39;49m(item, _ignore_default\u001b[39m=\u001b[39;49m\u001b[39mTrue\u001b[39;49;00m)\n\u001b[0;32m    537\u001b[0m \u001b[39mexcept\u001b[39;00m \u001b[39mKeyError\u001b[39;00m:\n",
      "File \u001b[1;32md:\\vscode_machineLearning\\internship\\Customer-Churn-Prediction\\churnvenv\\Lib\\site-packages\\box\\box.py:524\u001b[0m, in \u001b[0;36mBox.__getitem__\u001b[1;34m(self, item, _ignore_default)\u001b[0m\n\u001b[0;32m    523\u001b[0m         \u001b[39mreturn\u001b[39;00m \u001b[39mself\u001b[39m\u001b[39m.\u001b[39m__get_default(item)\n\u001b[1;32m--> 524\u001b[0m     \u001b[39mraise\u001b[39;00m BoxKeyError(\u001b[39mstr\u001b[39m(err)) \u001b[39mfrom\u001b[39;00m \u001b[39m_exception_cause\u001b[39;00m(err)\n\u001b[0;32m    525\u001b[0m \u001b[39mexcept\u001b[39;00m \u001b[39mTypeError\u001b[39;00m \u001b[39mas\u001b[39;00m err:\n",
      "\u001b[1;31mBoxKeyError\u001b[0m: \"'RandomForest'\"",
      "\nDuring handling of the above exception, another exception occurred:\n",
      "\u001b[1;31mAttributeError\u001b[0m                            Traceback (most recent call last)",
      "File \u001b[1;32md:\\vscode_machineLearning\\internship\\Customer-Churn-Prediction\\churnvenv\\Lib\\site-packages\\box\\box.py:538\u001b[0m, in \u001b[0;36mBox.__getattr__\u001b[1;34m(self, item)\u001b[0m\n\u001b[0;32m    537\u001b[0m     \u001b[39mexcept\u001b[39;00m \u001b[39mKeyError\u001b[39;00m:\n\u001b[1;32m--> 538\u001b[0m         value \u001b[39m=\u001b[39m \u001b[39mobject\u001b[39;49m\u001b[39m.\u001b[39;49m\u001b[39m__getattribute__\u001b[39;49m(\u001b[39mself\u001b[39;49m, item)\n\u001b[0;32m    539\u001b[0m \u001b[39mexcept\u001b[39;00m \u001b[39mAttributeError\u001b[39;00m \u001b[39mas\u001b[39;00m err:\n",
      "\u001b[1;31mAttributeError\u001b[0m: 'ConfigBox' object has no attribute 'RandomForest'",
      "\nThe above exception was the direct cause of the following exception:\n",
      "\u001b[1;31mBoxKeyError\u001b[0m                               Traceback (most recent call last)",
      "File \u001b[1;32md:\\vscode_machineLearning\\internship\\Customer-Churn-Prediction\\churnvenv\\Lib\\site-packages\\box\\config_box.py:28\u001b[0m, in \u001b[0;36mConfigBox.__getattr__\u001b[1;34m(self, item)\u001b[0m\n\u001b[0;32m     27\u001b[0m \u001b[39mtry\u001b[39;00m:\n\u001b[1;32m---> 28\u001b[0m     \u001b[39mreturn\u001b[39;00m \u001b[39msuper\u001b[39;49m()\u001b[39m.\u001b[39;49m\u001b[39m__getattr__\u001b[39;49m(item)\n\u001b[0;32m     29\u001b[0m \u001b[39mexcept\u001b[39;00m \u001b[39mAttributeError\u001b[39;00m:\n",
      "File \u001b[1;32md:\\vscode_machineLearning\\internship\\Customer-Churn-Prediction\\churnvenv\\Lib\\site-packages\\box\\box.py:552\u001b[0m, in \u001b[0;36mBox.__getattr__\u001b[1;34m(self, item)\u001b[0m\n\u001b[0;32m    551\u001b[0m         \u001b[39mreturn\u001b[39;00m \u001b[39mself\u001b[39m\u001b[39m.\u001b[39m__get_default(item, attr\u001b[39m=\u001b[39m\u001b[39mTrue\u001b[39;00m)\n\u001b[1;32m--> 552\u001b[0m     \u001b[39mraise\u001b[39;00m BoxKeyError(\u001b[39mstr\u001b[39m(err)) \u001b[39mfrom\u001b[39;00m \u001b[39m_exception_cause\u001b[39;00m(err)\n\u001b[0;32m    553\u001b[0m \u001b[39mreturn\u001b[39;00m value\n",
      "\u001b[1;31mBoxKeyError\u001b[0m: \"'ConfigBox' object has no attribute 'RandomForest'\"",
      "\nDuring handling of the above exception, another exception occurred:\n",
      "\u001b[1;31mKeyError\u001b[0m                                  Traceback (most recent call last)",
      "File \u001b[1;32md:\\vscode_machineLearning\\internship\\Customer-Churn-Prediction\\churnvenv\\Lib\\site-packages\\box\\box.py:503\u001b[0m, in \u001b[0;36mBox.__getitem__\u001b[1;34m(self, item, _ignore_default)\u001b[0m\n\u001b[0;32m    502\u001b[0m \u001b[39mtry\u001b[39;00m:\n\u001b[1;32m--> 503\u001b[0m     \u001b[39mreturn\u001b[39;00m \u001b[39msuper\u001b[39;49m()\u001b[39m.\u001b[39;49m\u001b[39m__getitem__\u001b[39;49m(item)\n\u001b[0;32m    504\u001b[0m \u001b[39mexcept\u001b[39;00m \u001b[39mKeyError\u001b[39;00m \u001b[39mas\u001b[39;00m err:\n",
      "\u001b[1;31mKeyError\u001b[0m: 'randomforest'",
      "\nThe above exception was the direct cause of the following exception:\n",
      "\u001b[1;31mBoxKeyError\u001b[0m                               Traceback (most recent call last)",
      "File \u001b[1;32md:\\vscode_machineLearning\\internship\\Customer-Churn-Prediction\\churnvenv\\Lib\\site-packages\\box\\box.py:536\u001b[0m, in \u001b[0;36mBox.__getattr__\u001b[1;34m(self, item)\u001b[0m\n\u001b[0;32m    535\u001b[0m \u001b[39mtry\u001b[39;00m:\n\u001b[1;32m--> 536\u001b[0m     value \u001b[39m=\u001b[39m \u001b[39mself\u001b[39;49m\u001b[39m.\u001b[39;49m\u001b[39m__getitem__\u001b[39;49m(item, _ignore_default\u001b[39m=\u001b[39;49m\u001b[39mTrue\u001b[39;49;00m)\n\u001b[0;32m    537\u001b[0m \u001b[39mexcept\u001b[39;00m \u001b[39mKeyError\u001b[39;00m:\n",
      "File \u001b[1;32md:\\vscode_machineLearning\\internship\\Customer-Churn-Prediction\\churnvenv\\Lib\\site-packages\\box\\box.py:524\u001b[0m, in \u001b[0;36mBox.__getitem__\u001b[1;34m(self, item, _ignore_default)\u001b[0m\n\u001b[0;32m    523\u001b[0m         \u001b[39mreturn\u001b[39;00m \u001b[39mself\u001b[39m\u001b[39m.\u001b[39m__get_default(item)\n\u001b[1;32m--> 524\u001b[0m     \u001b[39mraise\u001b[39;00m BoxKeyError(\u001b[39mstr\u001b[39m(err)) \u001b[39mfrom\u001b[39;00m \u001b[39m_exception_cause\u001b[39;00m(err)\n\u001b[0;32m    525\u001b[0m \u001b[39mexcept\u001b[39;00m \u001b[39mTypeError\u001b[39;00m \u001b[39mas\u001b[39;00m err:\n",
      "\u001b[1;31mBoxKeyError\u001b[0m: \"'randomforest'\"",
      "\nDuring handling of the above exception, another exception occurred:\n",
      "\u001b[1;31mAttributeError\u001b[0m                            Traceback (most recent call last)",
      "File \u001b[1;32md:\\vscode_machineLearning\\internship\\Customer-Churn-Prediction\\churnvenv\\Lib\\site-packages\\box\\box.py:538\u001b[0m, in \u001b[0;36mBox.__getattr__\u001b[1;34m(self, item)\u001b[0m\n\u001b[0;32m    537\u001b[0m     \u001b[39mexcept\u001b[39;00m \u001b[39mKeyError\u001b[39;00m:\n\u001b[1;32m--> 538\u001b[0m         value \u001b[39m=\u001b[39m \u001b[39mobject\u001b[39;49m\u001b[39m.\u001b[39;49m\u001b[39m__getattribute__\u001b[39;49m(\u001b[39mself\u001b[39;49m, item)\n\u001b[0;32m    539\u001b[0m \u001b[39mexcept\u001b[39;00m \u001b[39mAttributeError\u001b[39;00m \u001b[39mas\u001b[39;00m err:\n",
      "\u001b[1;31mAttributeError\u001b[0m: 'ConfigBox' object has no attribute 'randomforest'",
      "\nThe above exception was the direct cause of the following exception:\n",
      "\u001b[1;31mBoxKeyError\u001b[0m                               Traceback (most recent call last)",
      "\u001b[1;32md:\\vscode_machineLearning\\internship\\Customer-Churn-Prediction\\experiments\\mlflowTracking\\mlflow.ipynb Cell 12\u001b[0m line \u001b[0;36m3\n\u001b[0;32m      <a href='vscode-notebook-cell:/d%3A/vscode_machineLearning/internship/Customer-Churn-Prediction/experiments/mlflowTracking/mlflow.ipynb#X15sZmlsZQ%3D%3D?line=1'>2</a>\u001b[0m config \u001b[39m=\u001b[39m ConfigurationManager()\n\u001b[1;32m----> <a href='vscode-notebook-cell:/d%3A/vscode_machineLearning/internship/Customer-Churn-Prediction/experiments/mlflowTracking/mlflow.ipynb#X15sZmlsZQ%3D%3D?line=2'>3</a>\u001b[0m mlflow_tracking_config \u001b[39m=\u001b[39m config\u001b[39m.\u001b[39;49mget_mlflow_tracking_config()\n\u001b[0;32m      <a href='vscode-notebook-cell:/d%3A/vscode_machineLearning/internship/Customer-Churn-Prediction/experiments/mlflowTracking/mlflow.ipynb#X15sZmlsZQ%3D%3D?line=3'>4</a>\u001b[0m track_model \u001b[39m=\u001b[39m TrackModelPerformance(config\u001b[39m=\u001b[39mmlflow_tracking_config)\n",
      "\u001b[1;32md:\\vscode_machineLearning\\internship\\Customer-Churn-Prediction\\experiments\\mlflowTracking\\mlflow.ipynb Cell 12\u001b[0m line \u001b[0;36m1\n\u001b[0;32m     <a href='vscode-notebook-cell:/d%3A/vscode_machineLearning/internship/Customer-Churn-Prediction/experiments/mlflowTracking/mlflow.ipynb#X15sZmlsZQ%3D%3D?line=14'>15</a>\u001b[0m config \u001b[39m=\u001b[39m \u001b[39mself\u001b[39m\u001b[39m.\u001b[39mconfig\u001b[39m.\u001b[39mmlflow_tracking\n\u001b[1;32m---> <a href='vscode-notebook-cell:/d%3A/vscode_machineLearning/internship/Customer-Churn-Prediction/experiments/mlflowTracking/mlflow.ipynb#X15sZmlsZQ%3D%3D?line=15'>16</a>\u001b[0m params \u001b[39m=\u001b[39m \u001b[39mself\u001b[39;49m\u001b[39m.\u001b[39;49mparams\u001b[39m.\u001b[39;49mRandomForest\n\u001b[0;32m     <a href='vscode-notebook-cell:/d%3A/vscode_machineLearning/internship/Customer-Churn-Prediction/experiments/mlflowTracking/mlflow.ipynb#X15sZmlsZQ%3D%3D?line=16'>17</a>\u001b[0m schema \u001b[39m=\u001b[39m \u001b[39mself\u001b[39m\u001b[39m.\u001b[39mschema\u001b[39m.\u001b[39mDEPENDET_FEATURES\n",
      "File \u001b[1;32md:\\vscode_machineLearning\\internship\\Customer-Churn-Prediction\\churnvenv\\Lib\\site-packages\\box\\config_box.py:30\u001b[0m, in \u001b[0;36mConfigBox.__getattr__\u001b[1;34m(self, item)\u001b[0m\n\u001b[0;32m     29\u001b[0m \u001b[39mexcept\u001b[39;00m \u001b[39mAttributeError\u001b[39;00m:\n\u001b[1;32m---> 30\u001b[0m     \u001b[39mreturn\u001b[39;00m \u001b[39msuper\u001b[39;49m()\u001b[39m.\u001b[39;49m\u001b[39m__getattr__\u001b[39;49m(item\u001b[39m.\u001b[39;49mlower())\n",
      "File \u001b[1;32md:\\vscode_machineLearning\\internship\\Customer-Churn-Prediction\\churnvenv\\Lib\\site-packages\\box\\box.py:552\u001b[0m, in \u001b[0;36mBox.__getattr__\u001b[1;34m(self, item)\u001b[0m\n\u001b[0;32m    551\u001b[0m         \u001b[39mreturn\u001b[39;00m \u001b[39mself\u001b[39m\u001b[39m.\u001b[39m__get_default(item, attr\u001b[39m=\u001b[39m\u001b[39mTrue\u001b[39;00m)\n\u001b[1;32m--> 552\u001b[0m     \u001b[39mraise\u001b[39;00m BoxKeyError(\u001b[39mstr\u001b[39m(err)) \u001b[39mfrom\u001b[39;00m \u001b[39m_exception_cause\u001b[39;00m(err)\n\u001b[0;32m    553\u001b[0m \u001b[39mreturn\u001b[39;00m value\n",
      "\u001b[1;31mBoxKeyError\u001b[0m: \"'ConfigBox' object has no attribute 'randomforest'\"",
      "\nDuring handling of the above exception, another exception occurred:\n",
      "\u001b[1;31mCustomException\u001b[0m                           Traceback (most recent call last)",
      "\u001b[1;32md:\\vscode_machineLearning\\internship\\Customer-Churn-Prediction\\experiments\\mlflowTracking\\mlflow.ipynb Cell 12\u001b[0m line \u001b[0;36m7\n\u001b[0;32m      <a href='vscode-notebook-cell:/d%3A/vscode_machineLearning/internship/Customer-Churn-Prediction/experiments/mlflowTracking/mlflow.ipynb#X15sZmlsZQ%3D%3D?line=4'>5</a>\u001b[0m     track_model\u001b[39m.\u001b[39mstart_mlflow()\n\u001b[0;32m      <a href='vscode-notebook-cell:/d%3A/vscode_machineLearning/internship/Customer-Churn-Prediction/experiments/mlflowTracking/mlflow.ipynb#X15sZmlsZQ%3D%3D?line=5'>6</a>\u001b[0m \u001b[39mexcept\u001b[39;00m \u001b[39mException\u001b[39;00m \u001b[39mas\u001b[39;00m e:\n\u001b[1;32m----> <a href='vscode-notebook-cell:/d%3A/vscode_machineLearning/internship/Customer-Churn-Prediction/experiments/mlflowTracking/mlflow.ipynb#X15sZmlsZQ%3D%3D?line=6'>7</a>\u001b[0m     \u001b[39mraise\u001b[39;00m CustomException(e)\n",
      "\u001b[1;31mCustomException\u001b[0m: Error occured in python script name [C:\\Users\\Gyanprakash\\AppData\\Local\\Temp\\ipykernel_5160\\929068938.py] line number [3] error message [\"'ConfigBox' object has no attribute 'randomforest'\"]"
     ]
    }
   ],
   "source": [
    "try:\n",
    "    config = ConfigurationManager()\n",
    "    mlflow_tracking_config = config.get_mlflow_tracking_config()\n",
    "    track_model = TrackModelPerformance(config=mlflow_tracking_config)\n",
    "    track_model.start_mlflow()\n",
    "except Exception as e:\n",
    "    raise CustomException(e)"
   ]
  },
  {
   "cell_type": "code",
   "execution_count": null,
   "metadata": {},
   "outputs": [],
   "source": []
  },
  {
   "cell_type": "code",
   "execution_count": null,
   "metadata": {},
   "outputs": [],
   "source": []
  },
  {
   "cell_type": "code",
   "execution_count": null,
   "metadata": {},
   "outputs": [],
   "source": []
  },
  {
   "cell_type": "code",
   "execution_count": null,
   "metadata": {},
   "outputs": [],
   "source": []
  },
  {
   "cell_type": "markdown",
   "metadata": {},
   "source": [
    "## Old code.\n",
    "```Python\n",
    "\n",
    "class TrackModelPerformance:\n",
    "    def __init__(self,config:MLFlowTrackingConfig):\n",
    "        self.config = config\n",
    "\n",
    "    def evaluate(self,true,pred):\n",
    "        \n",
    "        cm = confusion_matrix(true, pred)\n",
    "        sns.heatmap(data=cm,annot=True, fmt='d', cmap='Blues')\n",
    "        plt.savefig(self.config.confusion_metrics)\n",
    "        accuracy = accuracy_score(true, pred)\n",
    "        recall = recall_score(true, pred)\n",
    "        precision = precision_score(true, pred)\n",
    "        report = classification_report(true, pred)\n",
    "\n",
    "        evaluation_report = {\n",
    "                    'accuracy': accuracy,\n",
    "                    'recall': recall,\n",
    "                    'precision': precision,\n",
    "                    # 'classification_report': report\n",
    "                    }\n",
    "        \n",
    "        logger.info(f'evaluation_report -> {evaluation_report}')\n",
    "        return evaluation_report \n",
    "    \n",
    "\n",
    "    def create_experiment(self,experiment_name,run_name,model,metrics,confusion_matrix=None,params=None):\n",
    "        try:            \n",
    "            # mlflow.\n",
    "            mlflow.set_registry_uri(self.config.mlflow_uri)\n",
    "            self.tracking_url_type_store = urlparse(mlflow.get_tracking_uri()).scheme\n",
    "\n",
    "            mlflow.set_experiment(experiment_name=experiment_name)\n",
    "            with mlflow.start_run():\n",
    "\n",
    "                if not params == None:\n",
    "                    for i in params:\n",
    "                        mlflow.log_param(i,params[i])\n",
    "\n",
    "                for metric in metrics:\n",
    "                    mlflow.log_metric(metric,metrics[metric])\n",
    "\n",
    "\n",
    "                if not confusion_matrix == None:\n",
    "                    mlflow.log_artifact(confusion_matrix,'confusion_matrix')\n",
    "                \n",
    "                mlflow.log_param('tree',params)\n",
    "                mlflow.sklearn.log_model(model,self.config.model_obj)\n",
    "                \n",
    "                mlflow.set_tag(\"tag1\", \"Random Forest\")\n",
    "                mlflow.set_tags({\"tag2\":\"basic model\", \"tag3\":\"experimentation\"})\n",
    "\n",
    "                logger.info('Run - %s is logged to Experiment - %s' %(run_name, experiment_name))\n",
    "        except Exception as e:\n",
    "            raise CustomException(e)\n",
    "\n",
    "\n",
    "    def start_mlflow(self):\n",
    "        try:\n",
    "            test_data = pd.read_csv(self.config.test_data)\n",
    "            \n",
    "            model = pickle.load(open(self.config.model_obj,'rb'))\n",
    "            logger.info(f'{model} loaded')\n",
    "            X_test = test_data.drop('Churn',axis=1)\n",
    "            y_test = test_data['Churn']\n",
    "\n",
    "            mlflow.set_registry_uri(self.config.mlflow_uri)\n",
    "            tracking_url_type_store = urlparse(mlflow.get_tracking_uri()).scheme\n",
    "\n",
    "            y_pred = model.predict(X_test)\n",
    "            evaluation_report = self.evaluate(true=y_test,pred=y_pred)\n",
    "            with open(self.config.metrics_file, 'w') as json_file:\n",
    "                json.dump(evaluation_report, json_file)\n",
    "\n",
    "            \n",
    "            self.create_experiment(experiment_name='Random-Forest-clf',\n",
    "                                run_name='experiment_1',\n",
    "                                model=model,\n",
    "                                metrics=evaluation_report,\n",
    "                                params=self.config.params,\n",
    "                                confusion_matrix=self.config.confusion_metrics)\n",
    "\n",
    "            if tracking_url_type_store != 'file':\n",
    "                mlflow.sklearn.log_model(model, self.config.model_obj, registered_model_name=\"random forest\")\n",
    "            else:\n",
    "                mlflow.sklearn.log_model(model,  self.config.model_obj, registered_model_name=\"random forest\")\n",
    "        except Exception as e:\n",
    "            raise CustomException(e)\n",
    "\n",
    "\n",
    "```"
   ]
  }
 ],
 "metadata": {
  "kernelspec": {
   "display_name": "Python 3",
   "language": "python",
   "name": "python3"
  },
  "language_info": {
   "codemirror_mode": {
    "name": "ipython",
    "version": 3
   },
   "file_extension": ".py",
   "mimetype": "text/x-python",
   "name": "python",
   "nbconvert_exporter": "python",
   "pygments_lexer": "ipython3",
   "version": "3.11.3"
  },
  "orig_nbformat": 4
 },
 "nbformat": 4,
 "nbformat_minor": 2
}
