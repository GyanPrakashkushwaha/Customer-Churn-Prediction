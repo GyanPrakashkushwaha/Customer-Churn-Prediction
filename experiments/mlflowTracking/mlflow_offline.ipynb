{
 "cells": [
  {
   "cell_type": "code",
   "execution_count": 29,
   "metadata": {},
   "outputs": [
    {
     "name": "stdout",
     "output_type": "stream",
     "text": [
      "d:\\vscode_machineLearning\\internship\\Customer-Churn-Prediction\n",
      "d:\\vscode_machineLearning\\internship\\Customer-Churn-Prediction\n"
     ]
    }
   ],
   "source": [
    "import os\n",
    "print(os.getcwd())\n",
    "os.chdir('d:\\\\vscode_machineLearning\\\\internship\\\\Customer-Churn-Prediction')\n",
    "print(os.getcwd())"
   ]
  },
  {
   "cell_type": "markdown",
   "metadata": {},
   "source": [
    "## Entity"
   ]
  },
  {
   "cell_type": "code",
   "execution_count": 30,
   "metadata": {},
   "outputs": [],
   "source": [
    "from dataclasses import dataclass\n",
    "from pathlib import Path\n",
    "import pickle"
   ]
  },
  {
   "cell_type": "code",
   "execution_count": 31,
   "metadata": {},
   "outputs": [],
   "source": [
    "@dataclass(frozen=True)\n",
    "class MLFlowTrackingConfig:\n",
    "    mflow_dir : Path\n",
    "    test_data: Path\n",
    "    model_obj : str\n",
    "    metrics_file: str\n",
    "    params : dict\n",
    "    mlflow_uri : str\n",
    "    target_col : str\n",
    "    confusion_metrics:str\n",
    "\n",
    "    "
   ]
  },
  {
   "cell_type": "markdown",
   "metadata": {},
   "source": [
    "## configuration "
   ]
  },
  {
   "cell_type": "code",
   "execution_count": 32,
   "metadata": {},
   "outputs": [],
   "source": [
    "from churnPredictor.utils import *\n",
    "from churnPredictor.constants import *"
   ]
  },
  {
   "cell_type": "code",
   "execution_count": 33,
   "metadata": {},
   "outputs": [],
   "source": [
    "class ConfigurationManager:\n",
    "    def __init__(\n",
    "        self,\n",
    "        config_file_path = CONFIG_FILE_PATH,\n",
    "        schema_file_path = SCHEMA_FILE_PATH,\n",
    "        params_file_path=PARAMS_FILE_PATH):\n",
    "\n",
    "        self.config = read_yaml(config_file_path)\n",
    "        self.schema = read_yaml(schema_file_path)\n",
    "        self.params = read_yaml(params_file_path)\n",
    "\n",
    "        create_dirs([self.config.artifacts_root])\n",
    "\n",
    "    def get_mlflow_tracking_config(self) -> MLFlowTrackingConfig:\n",
    "        config = self.config.mlflow_tracking\n",
    "        params = self.params.RandomForest\n",
    "        schema = self.schema.DEPENDET_FEATURES\n",
    "\n",
    "        # create_dirs([self.config.mflow_dir])\n",
    "\n",
    "        return MLFlowTrackingConfig(\n",
    "            mflow_dir=config.mlflow_dir,\n",
    "            test_data=config.test_data,\n",
    "            model_obj=config.model_obj_path,\n",
    "            metrics_file=config.metrics_file_name,\n",
    "            params=params,\n",
    "            target_col=schema.Churn,\n",
    "            mlflow_uri='https://dagshub.com/GyanPrakashKushwaha/Customer-Churn-Prediction.mlflow',\n",
    "            confusion_metrics=config.confusion_metrics\n",
    "        )\n",
    "\n",
    "        "
   ]
  },
  {
   "cell_type": "markdown",
   "metadata": {},
   "source": [
    "## component"
   ]
  },
  {
   "cell_type": "code",
   "execution_count": 34,
   "metadata": {},
   "outputs": [],
   "source": [
    "from churnPredictor.components.model_trainer import ModelTrainer\n",
    "from sklearn.metrics import confusion_matrix, recall_score, accuracy_score, precision_score, classification_report\n",
    "import pandas as pd\n",
    "import joblib\n",
    "import mlflow\n",
    "from urllib.parse import urlparse\n",
    "import json\n",
    "import seaborn as sns\n",
    "import matplotlib.pyplot as plt"
   ]
  },
  {
   "cell_type": "code",
   "execution_count": 35,
   "metadata": {},
   "outputs": [],
   "source": [
    "\n",
    "class TrackModelPerformance:\n",
    "    def __init__(self,config:MLFlowTrackingConfig):\n",
    "        self.config = config\n",
    "\n",
    "    def evaluate(self,true,pred):\n",
    "        \n",
    "        cm = confusion_matrix(true, pred)\n",
    "        sns.heatmap(data=cm,annot=True, fmt='d', cmap='Blues')\n",
    "        plt.savefig(self.config.confusion_metrics)\n",
    "        accuracy = accuracy_score(true, pred)\n",
    "        recall = recall_score(true, pred)\n",
    "        precision = precision_score(true, pred)\n",
    "        report = classification_report(true, pred)\n",
    "\n",
    "        evaluation_report = {\n",
    "                    'accuracy': accuracy,\n",
    "                    'recall': recall,\n",
    "                    'precision': precision,\n",
    "                    # 'classification_report': report\n",
    "                    }\n",
    "        \n",
    "        logger.info(f'evaluation_report -> {evaluation_report}')\n",
    "        return evaluation_report \n",
    "    \n",
    "\n",
    "    def start_mlflow(self):\n",
    "        try:\n",
    "            test_data = pd.read_csv(self.config.test_data)\n",
    "            \n",
    "            model = pickle.load(open(self.config.model_obj,'rb'))\n",
    "            logger.info(f'{model} loaded')\n",
    "            X_test = test_data.drop('Churn',axis=1)\n",
    "            y_test = test_data['Churn']\n",
    "            mlflow.set_experiment('old')\n",
    "\n",
    "            with mlflow.start_run():\n",
    "                y_pred = model.predict(X_test)\n",
    "                evaluation_report = self.evaluate(true=y_test,pred=y_pred)\n",
    "                with open(self.config.metrics_file, 'w') as json_file:\n",
    "                    json.dump(evaluation_report, json_file)\n",
    "                if not self.config.params == None:\n",
    "                    for param in self.config.params:\n",
    "                        mlflow.log_param(param, self.config.params[param])\n",
    "                # mlflow.log_params(self.config.params)\n",
    "\n",
    "                for metric in evaluation_report:\n",
    "                    mlflow.log_metric(metric,evaluation_report[metric])\n",
    "                                \n",
    "            # if tracking_url_type_store != 'file':\n",
    "            #     mlflow.sklearn.log_model(model, 'model', registered_model_name=\"random forest\")\n",
    "            # else:\n",
    "                mlflow.sklearn.log_model(model, self.config.model_obj)\n",
    "        except Exception as e:\n",
    "            raise CustomException(e)\n"
   ]
  },
  {
   "cell_type": "code",
   "execution_count": 36,
   "metadata": {},
   "outputs": [
    {
     "name": "stdout",
     "output_type": "stream",
     "text": [
      "[2023-09-16 11:36:52,470: INFO: utils: yaml file: config\\config.yaml loaded successfully]\n",
      "[2023-09-16 11:36:52,473: INFO: utils: yaml file: schema.yaml loaded successfully]\n",
      "[2023-09-16 11:36:52,474: INFO: utils: yaml file: params.yaml loaded successfully]\n",
      "[2023-09-16 11:36:52,475: INFO: utils: Created artifacts]\n",
      "[2023-09-16 11:36:53,178: INFO: 3023820701: RandomForestClassifier(n_estimators=132, oob_score=True) loaded]\n"
     ]
    },
    {
     "ename": "CustomException",
     "evalue": "Error occured in python script name [C:\\Users\\Gyanprakash\\AppData\\Local\\Temp\\ipykernel_18304\\929068938.py] line number [5] error message [Error occured in python script name [C:\\Users\\Gyanprakash\\AppData\\Local\\Temp\\ipykernel_18304\\3023820701.py] line number [34] error message ['D:\\vscode_machineLearning\\internship\\Customer-Churn-Prediction\\mlruns' does not exist.]]",
     "output_type": "error",
     "traceback": [
      "\u001b[1;31m---------------------------------------------------------------------------\u001b[0m",
      "\u001b[1;31mException\u001b[0m                                 Traceback (most recent call last)",
      "\u001b[1;32md:\\vscode_machineLearning\\internship\\Customer-Churn-Prediction\\experiments\\mlflowTracking\\mlflow_offline.ipynb Cell 11\u001b[0m line \u001b[0;36m3\n\u001b[0;32m     <a href='vscode-notebook-cell:/d%3A/vscode_machineLearning/internship/Customer-Churn-Prediction/experiments/mlflowTracking/mlflow_offline.ipynb#X16sZmlsZQ%3D%3D?line=32'>33</a>\u001b[0m y_test \u001b[39m=\u001b[39m test_data[\u001b[39m'\u001b[39m\u001b[39mChurn\u001b[39m\u001b[39m'\u001b[39m]\n\u001b[1;32m---> <a href='vscode-notebook-cell:/d%3A/vscode_machineLearning/internship/Customer-Churn-Prediction/experiments/mlflowTracking/mlflow_offline.ipynb#X16sZmlsZQ%3D%3D?line=33'>34</a>\u001b[0m mlflow\u001b[39m.\u001b[39;49mset_experiment(\u001b[39m'\u001b[39;49m\u001b[39mold\u001b[39;49m\u001b[39m'\u001b[39;49m)\n\u001b[0;32m     <a href='vscode-notebook-cell:/d%3A/vscode_machineLearning/internship/Customer-Churn-Prediction/experiments/mlflowTracking/mlflow_offline.ipynb#X16sZmlsZQ%3D%3D?line=35'>36</a>\u001b[0m \u001b[39mwith\u001b[39;00m mlflow\u001b[39m.\u001b[39mstart_run():\n",
      "File \u001b[1;32md:\\vscode_machineLearning\\internship\\Customer-Churn-Prediction\\churnvenv\\Lib\\site-packages\\mlflow\\tracking\\fluent.py:113\u001b[0m, in \u001b[0;36mset_experiment\u001b[1;34m(experiment_name, experiment_id)\u001b[0m\n\u001b[0;32m    112\u001b[0m \u001b[39mif\u001b[39;00m experiment_id \u001b[39mis\u001b[39;00m \u001b[39mNone\u001b[39;00m:\n\u001b[1;32m--> 113\u001b[0m     experiment \u001b[39m=\u001b[39m client\u001b[39m.\u001b[39;49mget_experiment_by_name(experiment_name)\n\u001b[0;32m    114\u001b[0m     \u001b[39mif\u001b[39;00m \u001b[39mnot\u001b[39;00m experiment:\n",
      "File \u001b[1;32md:\\vscode_machineLearning\\internship\\Customer-Churn-Prediction\\churnvenv\\Lib\\site-packages\\mlflow\\tracking\\client.py:456\u001b[0m, in \u001b[0;36mMlflowClient.get_experiment_by_name\u001b[1;34m(self, name)\u001b[0m\n\u001b[0;32m    426\u001b[0m \u001b[39m\u001b[39m\u001b[39m\"\"\"\u001b[39;00m\n\u001b[0;32m    427\u001b[0m \u001b[39mRetrieve an experiment by experiment name from the backend store\u001b[39;00m\n\u001b[0;32m    428\u001b[0m \n\u001b[1;32m   (...)\u001b[0m\n\u001b[0;32m    454\u001b[0m \u001b[39m    Lifecycle_stage: active\u001b[39;00m\n\u001b[0;32m    455\u001b[0m \u001b[39m\"\"\"\u001b[39;00m\n\u001b[1;32m--> 456\u001b[0m \u001b[39mreturn\u001b[39;00m \u001b[39mself\u001b[39;49m\u001b[39m.\u001b[39;49m_tracking_client\u001b[39m.\u001b[39;49mget_experiment_by_name(name)\n",
      "File \u001b[1;32md:\\vscode_machineLearning\\internship\\Customer-Churn-Prediction\\churnvenv\\Lib\\site-packages\\mlflow\\tracking\\_tracking_service\\client.py:220\u001b[0m, in \u001b[0;36mTrackingServiceClient.get_experiment_by_name\u001b[1;34m(self, name)\u001b[0m\n\u001b[0;32m    216\u001b[0m \u001b[39m\u001b[39m\u001b[39m\"\"\"\u001b[39;00m\n\u001b[0;32m    217\u001b[0m \u001b[39m:param name: The experiment name.\u001b[39;00m\n\u001b[0;32m    218\u001b[0m \u001b[39m:return: :py:class:`mlflow.entities.Experiment`\u001b[39;00m\n\u001b[0;32m    219\u001b[0m \u001b[39m\"\"\"\u001b[39;00m\n\u001b[1;32m--> 220\u001b[0m \u001b[39mreturn\u001b[39;00m \u001b[39mself\u001b[39;49m\u001b[39m.\u001b[39;49mstore\u001b[39m.\u001b[39;49mget_experiment_by_name(name)\n",
      "File \u001b[1;32md:\\vscode_machineLearning\\internship\\Customer-Churn-Prediction\\churnvenv\\Lib\\site-packages\\mlflow\\store\\tracking\\file_store.py:315\u001b[0m, in \u001b[0;36mFileStore.get_experiment_by_name\u001b[1;34m(self, experiment_name)\u001b[0m\n\u001b[0;32m    308\u001b[0m     \u001b[39mreturn\u001b[39;00m \u001b[39mself\u001b[39m\u001b[39m.\u001b[39msearch_experiments(\n\u001b[0;32m    309\u001b[0m         view_type\u001b[39m=\u001b[39mViewType\u001b[39m.\u001b[39mACTIVE_ONLY,\n\u001b[0;32m    310\u001b[0m         max_results\u001b[39m=\u001b[39mnumber_to_get,\n\u001b[0;32m    311\u001b[0m         filter_string\u001b[39m=\u001b[39m\u001b[39mf\u001b[39m\u001b[39m\"\u001b[39m\u001b[39mname = \u001b[39m\u001b[39m'\u001b[39m\u001b[39m{\u001b[39;00mexperiment_name\u001b[39m}\u001b[39;00m\u001b[39m'\u001b[39m\u001b[39m\"\u001b[39m,\n\u001b[0;32m    312\u001b[0m         page_token\u001b[39m=\u001b[39mnext_page_token,\n\u001b[0;32m    313\u001b[0m     )\n\u001b[1;32m--> 315\u001b[0m experiments \u001b[39m=\u001b[39m get_results_from_paginated_fn(\n\u001b[0;32m    316\u001b[0m     paginated_fn\u001b[39m=\u001b[39;49mpagination_wrapper_func,\n\u001b[0;32m    317\u001b[0m     max_results_per_page\u001b[39m=\u001b[39;49mSEARCH_MAX_RESULTS_THRESHOLD,\n\u001b[0;32m    318\u001b[0m     max_results\u001b[39m=\u001b[39;49m\u001b[39mNone\u001b[39;49;00m,\n\u001b[0;32m    319\u001b[0m )\n\u001b[0;32m    320\u001b[0m \u001b[39mreturn\u001b[39;00m experiments[\u001b[39m0\u001b[39m] \u001b[39mif\u001b[39;00m \u001b[39mlen\u001b[39m(experiments) \u001b[39m>\u001b[39m \u001b[39m0\u001b[39m \u001b[39melse\u001b[39;00m \u001b[39mNone\u001b[39;00m\n",
      "File \u001b[1;32md:\\vscode_machineLearning\\internship\\Customer-Churn-Prediction\\churnvenv\\Lib\\site-packages\\mlflow\\utils\\__init__.py:270\u001b[0m, in \u001b[0;36mget_results_from_paginated_fn\u001b[1;34m(paginated_fn, max_results_per_page, max_results)\u001b[0m\n\u001b[0;32m    269\u001b[0m \u001b[39melse\u001b[39;00m:\n\u001b[1;32m--> 270\u001b[0m     page_results \u001b[39m=\u001b[39m paginated_fn(max_results_per_page, next_page_token)\n\u001b[0;32m    271\u001b[0m all_results\u001b[39m.\u001b[39mextend(page_results)\n",
      "File \u001b[1;32md:\\vscode_machineLearning\\internship\\Customer-Churn-Prediction\\churnvenv\\Lib\\site-packages\\mlflow\\store\\tracking\\file_store.py:308\u001b[0m, in \u001b[0;36mFileStore.get_experiment_by_name.<locals>.pagination_wrapper_func\u001b[1;34m(number_to_get, next_page_token)\u001b[0m\n\u001b[0;32m    307\u001b[0m \u001b[39mdef\u001b[39;00m \u001b[39mpagination_wrapper_func\u001b[39m(number_to_get, next_page_token):\n\u001b[1;32m--> 308\u001b[0m     \u001b[39mreturn\u001b[39;00m \u001b[39mself\u001b[39;49m\u001b[39m.\u001b[39;49msearch_experiments(\n\u001b[0;32m    309\u001b[0m         view_type\u001b[39m=\u001b[39;49mViewType\u001b[39m.\u001b[39;49mACTIVE_ONLY,\n\u001b[0;32m    310\u001b[0m         max_results\u001b[39m=\u001b[39;49mnumber_to_get,\n\u001b[0;32m    311\u001b[0m         filter_string\u001b[39m=\u001b[39;49m\u001b[39mf\u001b[39;49m\u001b[39m\"\u001b[39;49m\u001b[39mname = \u001b[39;49m\u001b[39m'\u001b[39;49m\u001b[39m{\u001b[39;49;00mexperiment_name\u001b[39m}\u001b[39;49;00m\u001b[39m'\u001b[39;49m\u001b[39m\"\u001b[39;49m,\n\u001b[0;32m    312\u001b[0m         page_token\u001b[39m=\u001b[39;49mnext_page_token,\n\u001b[0;32m    313\u001b[0m     )\n",
      "File \u001b[1;32md:\\vscode_machineLearning\\internship\\Customer-Churn-Prediction\\churnvenv\\Lib\\site-packages\\mlflow\\store\\tracking\\file_store.py:279\u001b[0m, in \u001b[0;36mFileStore.search_experiments\u001b[1;34m(self, view_type, max_results, filter_string, order_by, page_token)\u001b[0m\n\u001b[0;32m    273\u001b[0m     \u001b[39mraise\u001b[39;00m MlflowException(\n\u001b[0;32m    274\u001b[0m         \u001b[39mf\u001b[39m\u001b[39m\"\u001b[39m\u001b[39mInvalid value for max_results. It must be at most \u001b[39m\u001b[39m{\u001b[39;00mSEARCH_MAX_RESULTS_THRESHOLD\u001b[39m}\u001b[39;00m\u001b[39m,\u001b[39m\u001b[39m\"\u001b[39m\n\u001b[0;32m    275\u001b[0m         \u001b[39mf\u001b[39m\u001b[39m\"\u001b[39m\u001b[39m but got \u001b[39m\u001b[39m{\u001b[39;00mmax_results\u001b[39m}\u001b[39;00m\u001b[39m\"\u001b[39m,\n\u001b[0;32m    276\u001b[0m         INVALID_PARAMETER_VALUE,\n\u001b[0;32m    277\u001b[0m     )\n\u001b[1;32m--> 279\u001b[0m \u001b[39mself\u001b[39;49m\u001b[39m.\u001b[39;49m_check_root_dir()\n\u001b[0;32m    280\u001b[0m experiment_ids \u001b[39m=\u001b[39m []\n",
      "File \u001b[1;32md:\\vscode_machineLearning\\internship\\Customer-Churn-Prediction\\churnvenv\\Lib\\site-packages\\mlflow\\store\\tracking\\file_store.py:179\u001b[0m, in \u001b[0;36mFileStore._check_root_dir\u001b[1;34m(self)\u001b[0m\n\u001b[0;32m    178\u001b[0m \u001b[39mif\u001b[39;00m \u001b[39mnot\u001b[39;00m exists(\u001b[39mself\u001b[39m\u001b[39m.\u001b[39mroot_directory):\n\u001b[1;32m--> 179\u001b[0m     \u001b[39mraise\u001b[39;00m \u001b[39mException\u001b[39;00m(\u001b[39m\"\u001b[39m\u001b[39m'\u001b[39m\u001b[39m%s\u001b[39;00m\u001b[39m'\u001b[39m\u001b[39m does not exist.\u001b[39m\u001b[39m\"\u001b[39m \u001b[39m%\u001b[39m \u001b[39mself\u001b[39m\u001b[39m.\u001b[39mroot_directory)\n\u001b[0;32m    180\u001b[0m \u001b[39mif\u001b[39;00m \u001b[39mnot\u001b[39;00m is_directory(\u001b[39mself\u001b[39m\u001b[39m.\u001b[39mroot_directory):\n",
      "\u001b[1;31mException\u001b[0m: 'D:\\vscode_machineLearning\\internship\\Customer-Churn-Prediction\\mlruns' does not exist.",
      "\nDuring handling of the above exception, another exception occurred:\n",
      "\u001b[1;31mCustomException\u001b[0m                           Traceback (most recent call last)",
      "\u001b[1;32md:\\vscode_machineLearning\\internship\\Customer-Churn-Prediction\\experiments\\mlflowTracking\\mlflow_offline.ipynb Cell 11\u001b[0m line \u001b[0;36m5\n\u001b[0;32m      <a href='vscode-notebook-cell:/d%3A/vscode_machineLearning/internship/Customer-Churn-Prediction/experiments/mlflowTracking/mlflow_offline.ipynb#X16sZmlsZQ%3D%3D?line=3'>4</a>\u001b[0m     track_model \u001b[39m=\u001b[39m TrackModelPerformance(config\u001b[39m=\u001b[39mmlflow_tracking_config)\n\u001b[1;32m----> <a href='vscode-notebook-cell:/d%3A/vscode_machineLearning/internship/Customer-Churn-Prediction/experiments/mlflowTracking/mlflow_offline.ipynb#X16sZmlsZQ%3D%3D?line=4'>5</a>\u001b[0m     track_model\u001b[39m.\u001b[39;49mstart_mlflow()\n\u001b[0;32m      <a href='vscode-notebook-cell:/d%3A/vscode_machineLearning/internship/Customer-Churn-Prediction/experiments/mlflowTracking/mlflow_offline.ipynb#X16sZmlsZQ%3D%3D?line=5'>6</a>\u001b[0m \u001b[39mexcept\u001b[39;00m \u001b[39mException\u001b[39;00m \u001b[39mas\u001b[39;00m e:\n",
      "\u001b[1;32md:\\vscode_machineLearning\\internship\\Customer-Churn-Prediction\\experiments\\mlflowTracking\\mlflow_offline.ipynb Cell 11\u001b[0m line \u001b[0;36m5\n\u001b[0;32m     <a href='vscode-notebook-cell:/d%3A/vscode_machineLearning/internship/Customer-Churn-Prediction/experiments/mlflowTracking/mlflow_offline.ipynb#X16sZmlsZQ%3D%3D?line=50'>51</a>\u001b[0m \u001b[39mexcept\u001b[39;00m \u001b[39mException\u001b[39;00m \u001b[39mas\u001b[39;00m e:\n\u001b[1;32m---> <a href='vscode-notebook-cell:/d%3A/vscode_machineLearning/internship/Customer-Churn-Prediction/experiments/mlflowTracking/mlflow_offline.ipynb#X16sZmlsZQ%3D%3D?line=51'>52</a>\u001b[0m     \u001b[39mraise\u001b[39;00m CustomException(e)\n",
      "\u001b[1;31mCustomException\u001b[0m: Error occured in python script name [C:\\Users\\Gyanprakash\\AppData\\Local\\Temp\\ipykernel_18304\\3023820701.py] line number [34] error message ['D:\\vscode_machineLearning\\internship\\Customer-Churn-Prediction\\mlruns' does not exist.]",
      "\nDuring handling of the above exception, another exception occurred:\n",
      "\u001b[1;31mCustomException\u001b[0m                           Traceback (most recent call last)",
      "\u001b[1;32md:\\vscode_machineLearning\\internship\\Customer-Churn-Prediction\\experiments\\mlflowTracking\\mlflow_offline.ipynb Cell 11\u001b[0m line \u001b[0;36m7\n\u001b[0;32m      <a href='vscode-notebook-cell:/d%3A/vscode_machineLearning/internship/Customer-Churn-Prediction/experiments/mlflowTracking/mlflow_offline.ipynb#X16sZmlsZQ%3D%3D?line=4'>5</a>\u001b[0m     track_model\u001b[39m.\u001b[39mstart_mlflow()\n\u001b[0;32m      <a href='vscode-notebook-cell:/d%3A/vscode_machineLearning/internship/Customer-Churn-Prediction/experiments/mlflowTracking/mlflow_offline.ipynb#X16sZmlsZQ%3D%3D?line=5'>6</a>\u001b[0m \u001b[39mexcept\u001b[39;00m \u001b[39mException\u001b[39;00m \u001b[39mas\u001b[39;00m e:\n\u001b[1;32m----> <a href='vscode-notebook-cell:/d%3A/vscode_machineLearning/internship/Customer-Churn-Prediction/experiments/mlflowTracking/mlflow_offline.ipynb#X16sZmlsZQ%3D%3D?line=6'>7</a>\u001b[0m     \u001b[39mraise\u001b[39;00m CustomException(e)\n",
      "\u001b[1;31mCustomException\u001b[0m: Error occured in python script name [C:\\Users\\Gyanprakash\\AppData\\Local\\Temp\\ipykernel_18304\\929068938.py] line number [5] error message [Error occured in python script name [C:\\Users\\Gyanprakash\\AppData\\Local\\Temp\\ipykernel_18304\\3023820701.py] line number [34] error message ['D:\\vscode_machineLearning\\internship\\Customer-Churn-Prediction\\mlruns' does not exist.]]"
     ]
    }
   ],
   "source": [
    "try:\n",
    "    config = ConfigurationManager()\n",
    "    mlflow_tracking_config = config.get_mlflow_tracking_config()\n",
    "    track_model = TrackModelPerformance(config=mlflow_tracking_config)\n",
    "    track_model.start_mlflow()\n",
    "except Exception as e:\n",
    "    raise CustomException(e)"
   ]
  },
  {
   "cell_type": "code",
   "execution_count": null,
   "metadata": {},
   "outputs": [],
   "source": []
  },
  {
   "cell_type": "code",
   "execution_count": null,
   "metadata": {},
   "outputs": [],
   "source": []
  },
  {
   "cell_type": "code",
   "execution_count": null,
   "metadata": {},
   "outputs": [],
   "source": []
  },
  {
   "cell_type": "code",
   "execution_count": null,
   "metadata": {},
   "outputs": [],
   "source": []
  },
  {
   "cell_type": "markdown",
   "metadata": {},
   "source": [
    "## Old code.\n",
    "```Python\n",
    "\n",
    "class TrackModelPerformance:\n",
    "    def __init__(self,config:MLFlowTrackingConfig):\n",
    "        self.config = config\n",
    "\n",
    "    def evaluate(self,true,pred):\n",
    "        \n",
    "        cm = confusion_matrix(true, pred)\n",
    "        sns.heatmap(data=cm,annot=True, fmt='d', cmap='Blues')\n",
    "        plt.savefig(self.config.confusion_metrics)\n",
    "        accuracy = accuracy_score(true, pred)\n",
    "        recall = recall_score(true, pred)\n",
    "        precision = precision_score(true, pred)\n",
    "        report = classification_report(true, pred)\n",
    "\n",
    "        evaluation_report = {\n",
    "                    'accuracy': accuracy,\n",
    "                    'recall': recall,\n",
    "                    'precision': precision,\n",
    "                    # 'classification_report': report\n",
    "                    }\n",
    "        \n",
    "        logger.info(f'evaluation_report -> {evaluation_report}')\n",
    "        return evaluation_report \n",
    "    \n",
    "\n",
    "    def create_experiment(self,experiment_name,run_name,model,metrics,confusion_matrix=None,params=None):\n",
    "        try:            \n",
    "            # mlflow.\n",
    "            mlflow.set_registry_uri(self.config.mlflow_uri)\n",
    "            self.tracking_url_type_store = urlparse(mlflow.get_tracking_uri()).scheme\n",
    "\n",
    "            mlflow.set_experiment(experiment_name=experiment_name)\n",
    "            with mlflow.start_run():\n",
    "\n",
    "                if not params == None:\n",
    "                    for i in params:\n",
    "                        mlflow.log_param(i,params[i])\n",
    "\n",
    "                for metric in metrics:\n",
    "                    mlflow.log_metric(metric,metrics[metric])\n",
    "\n",
    "\n",
    "                if not confusion_matrix == None:\n",
    "                    mlflow.log_artifact(confusion_matrix,'confusion_matrix')\n",
    "                \n",
    "                mlflow.log_param('tree',params)\n",
    "                mlflow.sklearn.log_model(model,self.config.model_obj)\n",
    "                \n",
    "                mlflow.set_tag(\"tag1\", \"Random Forest\")\n",
    "                mlflow.set_tags({\"tag2\":\"basic model\", \"tag3\":\"experimentation\"})\n",
    "\n",
    "                logger.info('Run - %s is logged to Experiment - %s' %(run_name, experiment_name))\n",
    "        except Exception as e:\n",
    "            raise CustomException(e)\n",
    "\n",
    "\n",
    "    def start_mlflow(self):\n",
    "        try:\n",
    "            test_data = pd.read_csv(self.config.test_data)\n",
    "            \n",
    "            model = pickle.load(open(self.config.model_obj,'rb'))\n",
    "            logger.info(f'{model} loaded')\n",
    "            X_test = test_data.drop('Churn',axis=1)\n",
    "            y_test = test_data['Churn']\n",
    "\n",
    "            mlflow.set_registry_uri(self.config.mlflow_uri)\n",
    "            tracking_url_type_store = urlparse(mlflow.get_tracking_uri()).scheme\n",
    "\n",
    "            y_pred = model.predict(X_test)\n",
    "            evaluation_report = self.evaluate(true=y_test,pred=y_pred)\n",
    "            with open(self.config.metrics_file, 'w') as json_file:\n",
    "                json.dump(evaluation_report, json_file)\n",
    "\n",
    "            \n",
    "            self.create_experiment(experiment_name='Random-Forest-clf',\n",
    "                                run_name='experiment_1',\n",
    "                                model=model,\n",
    "                                metrics=evaluation_report,\n",
    "                                params=self.config.params,\n",
    "                                confusion_matrix=self.config.confusion_metrics)\n",
    "\n",
    "            if tracking_url_type_store != 'file':\n",
    "                mlflow.sklearn.log_model(model, self.config.model_obj, registered_model_name=\"random forest\")\n",
    "            else:\n",
    "                mlflow.sklearn.log_model(model,  self.config.model_obj, registered_model_name=\"random forest\")\n",
    "        except Exception as e:\n",
    "            raise CustomException(e)\n",
    "\n",
    "\n",
    "```"
   ]
  }
 ],
 "metadata": {
  "kernelspec": {
   "display_name": "churnvenv",
   "language": "python",
   "name": "python3"
  },
  "language_info": {
   "codemirror_mode": {
    "name": "ipython",
    "version": 3
   },
   "file_extension": ".py",
   "mimetype": "text/x-python",
   "name": "python",
   "nbconvert_exporter": "python",
   "pygments_lexer": "ipython3",
   "version": "3.11.3"
  },
  "orig_nbformat": 4
 },
 "nbformat": 4,
 "nbformat_minor": 2
}
