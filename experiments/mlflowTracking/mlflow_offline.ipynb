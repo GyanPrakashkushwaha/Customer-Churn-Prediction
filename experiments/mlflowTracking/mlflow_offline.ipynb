{
 "cells": [
  {
   "cell_type": "code",
   "execution_count": 26,
   "metadata": {},
   "outputs": [
    {
     "name": "stdout",
     "output_type": "stream",
     "text": [
      "d:\\vscode_machineLearning\\internship\\Customer-Churn-Prediction\n",
      "d:\\vscode_machineLearning\\internship\\Customer-Churn-Prediction\n"
     ]
    }
   ],
   "source": [
    "import os\n",
    "print(os.getcwd())\n",
    "os.chdir('d:\\\\vscode_machineLearning\\\\internship\\\\Customer-Churn-Prediction')\n",
    "print(os.getcwd())"
   ]
  },
  {
   "cell_type": "markdown",
   "metadata": {},
   "source": [
    "## Entity"
   ]
  },
  {
   "cell_type": "code",
   "execution_count": 27,
   "metadata": {},
   "outputs": [],
   "source": [
    "from dataclasses import dataclass\n",
    "from pathlib import Path\n",
    "import pickle"
   ]
  },
  {
   "cell_type": "code",
   "execution_count": 28,
   "metadata": {},
   "outputs": [],
   "source": [
    "@dataclass(frozen=True)\n",
    "class MLFlowTrackingConfig:\n",
    "    mflow_dir : Path\n",
    "    test_data: Path\n",
    "    model_obj : str\n",
    "    metrics_file: str\n",
    "    params : dict\n",
    "    mlflow_uri : str\n",
    "    target_col : str\n",
    "    confusion_metrics:str\n",
    "    y_test_path: Path\n",
    "\n",
    "    "
   ]
  },
  {
   "cell_type": "markdown",
   "metadata": {},
   "source": [
    "## configuration "
   ]
  },
  {
   "cell_type": "code",
   "execution_count": 29,
   "metadata": {},
   "outputs": [],
   "source": [
    "from churnPredictor.utils import *\n",
    "from churnPredictor.constants import *"
   ]
  },
  {
   "cell_type": "code",
   "execution_count": 30,
   "metadata": {},
   "outputs": [],
   "source": [
    "class ConfigurationManager:\n",
    "    def __init__(\n",
    "        self,\n",
    "        config_file_path = CONFIG_FILE_PATH,\n",
    "        schema_file_path = SCHEMA_FILE_PATH,\n",
    "        params_file_path=PARAMS_FILE_PATH):\n",
    "\n",
    "        self.config = read_yaml(config_file_path)\n",
    "        self.schema = read_yaml(schema_file_path)\n",
    "        self.params = read_yaml(params_file_path)\n",
    "\n",
    "        create_dirs([self.config.artifacts_root])\n",
    "\n",
    "    def get_mlflow_tracking_config(self) -> MLFlowTrackingConfig:\n",
    "        config = self.config.mlflow_tracking\n",
    "        params = self.params.RandomForest\n",
    "        schema = self.schema.DEPENDET_FEATURES\n",
    "\n",
    "        # create_dirs([self.config.mflow_dir])\n",
    "\n",
    "        return MLFlowTrackingConfig(\n",
    "            mflow_dir=config.mlflow_dir,\n",
    "            test_data=config.test_data,\n",
    "            model_obj=config.model_obj_path,\n",
    "            metrics_file=config.metrics_file_name,\n",
    "            params=params,\n",
    "            target_col=schema.Churn,\n",
    "            mlflow_uri='https://dagshub.com/GyanPrakashKushwaha/Customer-Churn-Prediction.mlflow',\n",
    "            confusion_metrics=config.confusion_metrics,\n",
    "            y_test_path=config.y_test_path\n",
    "        )\n",
    "\n",
    "        "
   ]
  },
  {
   "cell_type": "markdown",
   "metadata": {},
   "source": [
    "## component"
   ]
  },
  {
   "cell_type": "code",
   "execution_count": 31,
   "metadata": {},
   "outputs": [],
   "source": [
    "from churnPredictor.components.model_trainer import ModelTrainer\n",
    "from sklearn.metrics import confusion_matrix, recall_score, accuracy_score, precision_score, classification_report\n",
    "import pandas as pd\n",
    "import joblib\n",
    "import mlflow\n",
    "from urllib.parse import urlparse\n",
    "import json\n",
    "import seaborn as sns\n",
    "import matplotlib.pyplot as plt"
   ]
  },
  {
   "cell_type": "code",
   "execution_count": 32,
   "metadata": {},
   "outputs": [],
   "source": [
    "\n",
    "from catboost import CatBoostClassifier\n",
    "from sklearn.ensemble import AdaBoostClassifier, GradientBoostingClassifier, RandomForestClassifier\n",
    "from xgboost import XGBClassifier\n",
    "\n",
    "\n",
    "class TrackModelPerformance:\n",
    "    def __init__(self,config:MLFlowTrackingConfig):\n",
    "        self.config = config\n",
    "\n",
    "    def evaluate(self,true,pred):\n",
    "        \n",
    "        cm = confusion_matrix(true, pred)\n",
    "        sns.heatmap(data=cm,annot=True, fmt='d', cmap='Blues')\n",
    "        plt.savefig(self.config.confusion_metrics)\n",
    "        accuracy = accuracy_score(true, pred)\n",
    "        recall = recall_score(true, pred)\n",
    "        precision = precision_score(true, pred)\n",
    "        report = classification_report(true, pred)\n",
    "\n",
    "        evaluation_report = {\n",
    "                    'accuracy': accuracy,\n",
    "                    'recall': recall,\n",
    "                    'precision': precision,\n",
    "                    # 'classification_report': report\n",
    "                    }\n",
    "        \n",
    "        logger.info(f'evaluation_report -> {evaluation_report}')\n",
    "        return evaluation_report \n",
    "    \n",
    "\n",
    "    def start_mlflow(self):\n",
    "        try:\n",
    "            X_test = pd.read_csv(self.config.test_data)\n",
    "\n",
    "            models = {\n",
    "                    \"GradientBoostingClassifier\": GradientBoostingClassifier(),\n",
    "                    \"XGBoostClassifier\": XGBClassifier(),\n",
    "                    \"CatBoostClassifier\": CatBoostClassifier(),\n",
    "                    \"AdaBoostClassifier\": AdaBoostClassifier(),\n",
    "                    \"RandomForestClassifier\": RandomForestClassifier()\n",
    "                }\n",
    "\n",
    "            # for model_name in models.keys():\n",
    "            #     model = joblib.load(open(file=os.path.join(r'artifacts\\model',f'{model_name}.joblib'),mode='wb'))\n",
    "            \n",
    "            model = joblib.load(open(r'artifacts\\model\\AdaBoostClassifier.joblib','rb'))\n",
    "            logger.info(f'{model} loaded')\n",
    "            # X_test = test_data.drop('Churn',axis=1)\n",
    "\n",
    "            y_test = pd.read_csv(self.config.y_test_path)\n",
    "            mlflow.set_experiment('old')\n",
    "\n",
    "            with mlflow.start_run():\n",
    "                y_pred = model.predict(X_test)\n",
    "                evaluation_report = self.evaluate(true=y_test,pred=y_pred)\n",
    "                with open(self.config.metrics_file, 'w') as json_file:\n",
    "                    json.dump(evaluation_report, json_file)\n",
    "                if not self.config.params == None:\n",
    "                    for param in self.config.params:\n",
    "                        mlflow.log_param(param, self.config.params[param])\n",
    "                # mlflow.log_params(self.config.params)\n",
    "\n",
    "                for metric in evaluation_report:\n",
    "                    mlflow.log_metric(metric,evaluation_report[metric])\n",
    "                                \n",
    "            # if tracking_url_type_store != 'file':\n",
    "            #     mlflow.sklearn.log_model(model, 'model', registered_model_name=\"random forest\")\n",
    "            # else:\n",
    "                mlflow.sklearn.log_model(model, self.config.model_obj)\n",
    "        except Exception as e:\n",
    "            raise CustomException(e)\n"
   ]
  },
  {
   "cell_type": "code",
   "execution_count": 33,
   "metadata": {},
   "outputs": [
    {
     "name": "stdout",
     "output_type": "stream",
     "text": [
      "[2023-09-17 04:41:22,943: INFO: utils: yaml file: config\\config.yaml loaded successfully]\n",
      "[2023-09-17 04:41:22,946: INFO: utils: yaml file: schema.yaml loaded successfully]\n",
      "[2023-09-17 04:41:22,953: INFO: utils: yaml file: params.yaml loaded successfully]\n",
      "[2023-09-17 04:41:22,954: INFO: utils: Created artifacts]\n",
      "[2023-09-17 04:41:23,031: INFO: 34358935: AdaBoostClassifier(learning_rate=0.01, n_estimators=16) loaded]\n",
      "[2023-09-17 04:41:23,954: INFO: 34358935: evaluation_report -> {'accuracy': 0.50565, 'recall': 0.07527965333064597, 'precision': 0.5123456790123457}]\n"
     ]
    },
    {
     "name": "stderr",
     "output_type": "stream",
     "text": [
      "d:\\vscode_machineLearning\\internship\\Customer-Churn-Prediction\\churnvenv\\Lib\\site-packages\\_distutils_hack\\__init__.py:33: UserWarning: Setuptools is replacing distutils.\n",
      "  warnings.warn(\"Setuptools is replacing distutils.\")\n"
     ]
    },
    {
     "data": {
      "image/png": "[encoded data removed]",
      "text/plain": [
       "<Figure size 640x480 with 2 Axes>"
      ]
     },
     "metadata": {},
     "output_type": "display_data"
    }
   ],
   "source": [
    "try:\n",
    "    config = ConfigurationManager()\n",
    "    mlflow_tracking_config = config.get_mlflow_tracking_config()\n",
    "    track_model = TrackModelPerformance(config=mlflow_tracking_config)\n",
    "    track_model.start_mlflow()\n",
    "except Exception as e:\n",
    "    raise CustomException(e)"
   ]
  },
  {
   "cell_type": "code",
   "execution_count": null,
   "metadata": {},
   "outputs": [],
   "source": []
  },
  {
   "cell_type": "code",
   "execution_count": null,
   "metadata": {},
   "outputs": [],
   "source": []
  },
  {
   "cell_type": "code",
   "execution_count": null,
   "metadata": {},
   "outputs": [],
   "source": []
  },
  {
   "cell_type": "code",
   "execution_count": null,
   "metadata": {},
   "outputs": [],
   "source": []
  },
  {
   "cell_type": "markdown",
   "metadata": {},
   "source": [
    "## Old code.\n",
    "```Python\n",
    "\n",
    "class TrackModelPerformance:\n",
    "    def __init__(self,config:MLFlowTrackingConfig):\n",
    "        self.config = config\n",
    "\n",
    "    def evaluate(self,true,pred):\n",
    "        \n",
    "        cm = confusion_matrix(true, pred)\n",
    "        sns.heatmap(data=cm,annot=True, fmt='d', cmap='Blues')\n",
    "        plt.savefig(self.config.confusion_metrics)\n",
    "        accuracy = accuracy_score(true, pred)\n",
    "        recall = recall_score(true, pred)\n",
    "        precision = precision_score(true, pred)\n",
    "        report = classification_report(true, pred)\n",
    "\n",
    "        evaluation_report = {\n",
    "                    'accuracy': accuracy,\n",
    "                    'recall': recall,\n",
    "                    'precision': precision,\n",
    "                    # 'classification_report': report\n",
    "                    }\n",
    "        \n",
    "        logger.info(f'evaluation_report -> {evaluation_report}')\n",
    "        return evaluation_report \n",
    "    \n",
    "\n",
    "    def create_experiment(self,experiment_name,run_name,model,metrics,confusion_matrix=None,params=None):\n",
    "        try:            \n",
    "            # mlflow.\n",
    "            mlflow.set_registry_uri(self.config.mlflow_uri)\n",
    "            self.tracking_url_type_store = urlparse(mlflow.get_tracking_uri()).scheme\n",
    "\n",
    "            mlflow.set_experiment(experiment_name=experiment_name)\n",
    "            with mlflow.start_run():\n",
    "\n",
    "                if not params == None:\n",
    "                    for i in params:\n",
    "                        mlflow.log_param(i,params[i])\n",
    "\n",
    "                for metric in metrics:\n",
    "                    mlflow.log_metric(metric,metrics[metric])\n",
    "\n",
    "\n",
    "                if not confusion_matrix == None:\n",
    "                    mlflow.log_artifact(confusion_matrix,'confusion_matrix')\n",
    "                \n",
    "                mlflow.log_param('tree',params)\n",
    "                mlflow.sklearn.log_model(model,self.config.model_obj)\n",
    "                \n",
    "                mlflow.set_tag(\"tag1\", \"Random Forest\")\n",
    "                mlflow.set_tags({\"tag2\":\"basic model\", \"tag3\":\"experimentation\"})\n",
    "\n",
    "                logger.info('Run - %s is logged to Experiment - %s' %(run_name, experiment_name))\n",
    "        except Exception as e:\n",
    "            raise CustomException(e)\n",
    "\n",
    "\n",
    "    def start_mlflow(self):\n",
    "        try:\n",
    "            test_data = pd.read_csv(self.config.test_data)\n",
    "            \n",
    "            model = pickle.load(open(self.config.model_obj,'rb'))\n",
    "            logger.info(f'{model} loaded')\n",
    "            X_test = test_data.drop('Churn',axis=1)\n",
    "            y_test = test_data['Churn']\n",
    "\n",
    "            mlflow.set_registry_uri(self.config.mlflow_uri)\n",
    "            tracking_url_type_store = urlparse(mlflow.get_tracking_uri()).scheme\n",
    "\n",
    "            y_pred = model.predict(X_test)\n",
    "            evaluation_report = self.evaluate(true=y_test,pred=y_pred)\n",
    "            with open(self.config.metrics_file, 'w') as json_file:\n",
    "                json.dump(evaluation_report, json_file)\n",
    "\n",
    "            \n",
    "            self.create_experiment(experiment_name='Random-Forest-clf',\n",
    "                                run_name='experiment_1',\n",
    "                                model=model,\n",
    "                                metrics=evaluation_report,\n",
    "                                params=self.config.params,\n",
    "                                confusion_matrix=self.config.confusion_metrics)\n",
    "\n",
    "            if tracking_url_type_store != 'file':\n",
    "                mlflow.sklearn.log_model(model, self.config.model_obj, registered_model_name=\"random forest\")\n",
    "            else:\n",
    "                mlflow.sklearn.log_model(model,  self.config.model_obj, registered_model_name=\"random forest\")\n",
    "        except Exception as e:\n",
    "            raise CustomException(e)\n",
    "\n",
    "\n",
    "```"
   ]
  }
 ],
 "metadata": {
  "kernelspec": {
   "display_name": "churnvenv",
   "language": "python",
   "name": "python3"
  },
  "language_info": {
   "codemirror_mode": {
    "name": "ipython",
    "version": 3
   },
   "file_extension": ".py",
   "mimetype": "text/x-python",
   "name": "python",
   "nbconvert_exporter": "python",
   "pygments_lexer": "ipython3",
   "version": "3.11.3"
  },
  "orig_nbformat": 4
 },
 "nbformat": 4,
 "nbformat_minor": 2
}
